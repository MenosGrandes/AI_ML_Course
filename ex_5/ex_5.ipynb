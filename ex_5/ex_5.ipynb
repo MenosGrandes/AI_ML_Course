{
 "cells": [
  {
   "cell_type": "markdown",
   "id": "1c9bf14c-8a3e-4bfa-babd-60af7f707ba2",
   "metadata": {},
   "source": [
    "Proceed with the dataset and find the best classifier predicting survivability.\n",
    "*   Use all the classifiers covered so far. Provide automatic mechanism to compare performance of various models.\n",
    "*   If you would like to look for some other classifiers in sklearn, then it is OK.\n",
    "*   Use pipelines if necessary, especially if you decide to use normalization/standardization or PCA.\n",
    "*   For each model, try to find the best hyperparameters.\n",
    "*   For various results of cross-validation present ROCs and PRCs.\n",
    "*   If you lack data (`NaN` etc.), do not skip the samples. Instead, impute them: the best option is to find similar samples (on the basis of other features) and then calculate the missing data by taking mean value. You can apply some basic form of clustering. KNNs are also the option.\n",
    "\n",
    "**This homework is obligatory. Just do as much time lets you. Even a small analysis will be welcome. Please send colab link to krusek@agh.edu.pl before 17.04.2024. Give permission to edit!**"
   ]
  },
  {
   "cell_type": "markdown",
   "id": "67a96ab4-9f20-4dd0-9da1-d73d989132e8",
   "metadata": {},
   "source": [
    "## https://web.stanford.edu/class/archive/cs/cs109/cs109.1166/problem12.html\n",
    "0. Survived Indicator\n",
    "1. Passenger Class\n",
    "2. Name\n",
    "3. Sex\n",
    "4. Age\n",
    "5. Siblings Aboard\n",
    "6. Parents Aboard\n",
    "7. Fare paid in £s\n",
    "\n",
    "\n",
    "- survival - Survival (0 = No; 1 = Yes)\n",
    "- class - Passenger Class (1 = 1st; 2 = 2nd; 3 = 3rd)\n",
    "- name - Name\n",
    "- sex - Sex\n",
    "- age - Age\n",
    "- sibsp - Number of Siblings/Spouses Aboard\n",
    "- parch - Number of Parents/Children Aboard\n",
    "- ticket - Ticket Number\n",
    "- fare - Passenger Fare\n",
    "- cabin - Cabin\n",
    "- embarked - Port of Embarkation (C = Cherbourg; Q = Queenstown; S = Southampton)\n",
    "- boat - Lifeboat (if survived)\n",
    "- body - Body number (if did not survive and body was recovered)"
   ]
  },
  {
   "cell_type": "code",
   "execution_count": 1,
   "id": "189e1b35-93ed-4424-98c1-694c2997c671",
   "metadata": {},
   "outputs": [
    {
     "name": "stdout",
     "output_type": "stream",
     "text": [
      "Requirement already satisfied: seaborn in /home/mg/anaconda3/lib/python3.11/site-packages (from -r ../requirements.txt (line 1)) (0.12.2)\n",
      "Requirement already satisfied: pandas in /home/mg/anaconda3/lib/python3.11/site-packages (from -r ../requirements.txt (line 2)) (2.1.4)\n",
      "Requirement already satisfied: numpy in /home/mg/anaconda3/lib/python3.11/site-packages (from -r ../requirements.txt (line 3)) (1.26.3)\n",
      "Requirement already satisfied: scikit-learn in /home/mg/anaconda3/lib/python3.11/site-packages (from -r ../requirements.txt (line 4)) (1.2.2)\n",
      "Requirement already satisfied: matplotlib in /home/mg/anaconda3/lib/python3.11/site-packages (from -r ../requirements.txt (line 5)) (3.8.0)\n",
      "Requirement already satisfied: missingno in /home/mg/anaconda3/lib/python3.11/site-packages (from -r ../requirements.txt (line 6)) (0.5.2)\n",
      "Requirement already satisfied: colorlog in /home/mg/anaconda3/lib/python3.11/site-packages (from -r ../requirements.txt (line 7)) (6.8.2)\n",
      "Requirement already satisfied: rich in /home/mg/anaconda3/lib/python3.11/site-packages (from -r ../requirements.txt (line 8)) (13.3.5)\n",
      "Requirement already satisfied: jupyter_contrib_nbextensions in /home/mg/anaconda3/lib/python3.11/site-packages (from -r ../requirements.txt (line 9)) (0.7.0)\n",
      "Requirement already satisfied: jupyter_nbextensions_configurator in /home/mg/anaconda3/lib/python3.11/site-packages (from -r ../requirements.txt (line 10)) (0.6.1)\n",
      "Requirement already satisfied: python-dateutil>=2.8.2 in /home/mg/anaconda3/lib/python3.11/site-packages (from pandas->-r ../requirements.txt (line 2)) (2.8.2)\n",
      "Requirement already satisfied: pytz>=2020.1 in /home/mg/anaconda3/lib/python3.11/site-packages (from pandas->-r ../requirements.txt (line 2)) (2023.3.post1)\n",
      "Requirement already satisfied: tzdata>=2022.1 in /home/mg/anaconda3/lib/python3.11/site-packages (from pandas->-r ../requirements.txt (line 2)) (2023.3)\n",
      "Requirement already satisfied: scipy>=1.3.2 in /home/mg/anaconda3/lib/python3.11/site-packages (from scikit-learn->-r ../requirements.txt (line 4)) (1.11.4)\n",
      "Requirement already satisfied: joblib>=1.1.1 in /home/mg/anaconda3/lib/python3.11/site-packages (from scikit-learn->-r ../requirements.txt (line 4)) (1.2.0)\n",
      "Requirement already satisfied: threadpoolctl>=2.0.0 in /home/mg/anaconda3/lib/python3.11/site-packages (from scikit-learn->-r ../requirements.txt (line 4)) (2.2.0)\n",
      "Requirement already satisfied: contourpy>=1.0.1 in /home/mg/anaconda3/lib/python3.11/site-packages (from matplotlib->-r ../requirements.txt (line 5)) (1.2.0)\n",
      "Requirement already satisfied: cycler>=0.10 in /home/mg/anaconda3/lib/python3.11/site-packages (from matplotlib->-r ../requirements.txt (line 5)) (0.11.0)\n",
      "Requirement already satisfied: fonttools>=4.22.0 in /home/mg/anaconda3/lib/python3.11/site-packages (from matplotlib->-r ../requirements.txt (line 5)) (4.25.0)\n",
      "Requirement already satisfied: kiwisolver>=1.0.1 in /home/mg/anaconda3/lib/python3.11/site-packages (from matplotlib->-r ../requirements.txt (line 5)) (1.4.4)\n",
      "Requirement already satisfied: packaging>=20.0 in /home/mg/anaconda3/lib/python3.11/site-packages (from matplotlib->-r ../requirements.txt (line 5)) (23.1)\n",
      "Requirement already satisfied: pillow>=6.2.0 in /home/mg/anaconda3/lib/python3.11/site-packages (from matplotlib->-r ../requirements.txt (line 5)) (10.0.1)\n",
      "Requirement already satisfied: pyparsing>=2.3.1 in /home/mg/anaconda3/lib/python3.11/site-packages (from matplotlib->-r ../requirements.txt (line 5)) (3.0.9)\n",
      "Requirement already satisfied: markdown-it-py<3.0.0,>=2.2.0 in /home/mg/anaconda3/lib/python3.11/site-packages (from rich->-r ../requirements.txt (line 8)) (2.2.0)\n",
      "Requirement already satisfied: pygments<3.0.0,>=2.13.0 in /home/mg/anaconda3/lib/python3.11/site-packages (from rich->-r ../requirements.txt (line 8)) (2.15.1)\n",
      "Requirement already satisfied: ipython-genutils in /home/mg/anaconda3/lib/python3.11/site-packages (from jupyter_contrib_nbextensions->-r ../requirements.txt (line 9)) (0.2.0)\n",
      "Requirement already satisfied: jupyter-contrib-core>=0.3.3 in /home/mg/anaconda3/lib/python3.11/site-packages (from jupyter_contrib_nbextensions->-r ../requirements.txt (line 9)) (0.4.0)\n",
      "Requirement already satisfied: jupyter-core in /home/mg/anaconda3/lib/python3.11/site-packages (from jupyter_contrib_nbextensions->-r ../requirements.txt (line 9)) (5.5.0)\n",
      "Requirement already satisfied: jupyter-highlight-selected-word>=0.1.1 in /home/mg/anaconda3/lib/python3.11/site-packages (from jupyter_contrib_nbextensions->-r ../requirements.txt (line 9)) (0.2.0)\n",
      "Requirement already satisfied: nbconvert>=6.0 in /home/mg/anaconda3/lib/python3.11/site-packages (from jupyter_contrib_nbextensions->-r ../requirements.txt (line 9)) (7.10.0)\n",
      "Requirement already satisfied: notebook>=6.0 in /home/mg/anaconda3/lib/python3.11/site-packages (from jupyter_contrib_nbextensions->-r ../requirements.txt (line 9)) (6.5.4)\n",
      "Requirement already satisfied: tornado in /home/mg/anaconda3/lib/python3.11/site-packages (from jupyter_contrib_nbextensions->-r ../requirements.txt (line 9)) (6.3.3)\n",
      "Requirement already satisfied: traitlets>=4.1 in /home/mg/anaconda3/lib/python3.11/site-packages (from jupyter_contrib_nbextensions->-r ../requirements.txt (line 9)) (5.7.1)\n",
      "Requirement already satisfied: lxml in /home/mg/anaconda3/lib/python3.11/site-packages (from jupyter_contrib_nbextensions->-r ../requirements.txt (line 9)) (4.9.3)\n",
      "Requirement already satisfied: pyyaml in /home/mg/anaconda3/lib/python3.11/site-packages (from jupyter_nbextensions_configurator->-r ../requirements.txt (line 10)) (6.0.1)\n",
      "Requirement already satisfied: setuptools in /home/mg/anaconda3/lib/python3.11/site-packages (from jupyter-contrib-core>=0.3.3->jupyter_contrib_nbextensions->-r ../requirements.txt (line 9)) (68.0.0)\n",
      "Requirement already satisfied: mdurl~=0.1 in /home/mg/anaconda3/lib/python3.11/site-packages (from markdown-it-py<3.0.0,>=2.2.0->rich->-r ../requirements.txt (line 8)) (0.1.0)\n",
      "Requirement already satisfied: beautifulsoup4 in /home/mg/anaconda3/lib/python3.11/site-packages (from nbconvert>=6.0->jupyter_contrib_nbextensions->-r ../requirements.txt (line 9)) (4.12.2)\n",
      "Requirement already satisfied: bleach!=5.0.0 in /home/mg/anaconda3/lib/python3.11/site-packages (from nbconvert>=6.0->jupyter_contrib_nbextensions->-r ../requirements.txt (line 9)) (4.1.0)\n",
      "Requirement already satisfied: defusedxml in /home/mg/anaconda3/lib/python3.11/site-packages (from nbconvert>=6.0->jupyter_contrib_nbextensions->-r ../requirements.txt (line 9)) (0.7.1)\n",
      "Requirement already satisfied: jinja2>=3.0 in /home/mg/anaconda3/lib/python3.11/site-packages (from nbconvert>=6.0->jupyter_contrib_nbextensions->-r ../requirements.txt (line 9)) (3.1.2)\n",
      "Requirement already satisfied: jupyterlab-pygments in /home/mg/anaconda3/lib/python3.11/site-packages (from nbconvert>=6.0->jupyter_contrib_nbextensions->-r ../requirements.txt (line 9)) (0.1.2)\n",
      "Requirement already satisfied: markupsafe>=2.0 in /home/mg/anaconda3/lib/python3.11/site-packages (from nbconvert>=6.0->jupyter_contrib_nbextensions->-r ../requirements.txt (line 9)) (2.1.3)\n",
      "Requirement already satisfied: mistune<4,>=2.0.3 in /home/mg/anaconda3/lib/python3.11/site-packages (from nbconvert>=6.0->jupyter_contrib_nbextensions->-r ../requirements.txt (line 9)) (2.0.4)\n",
      "Requirement already satisfied: nbclient>=0.5.0 in /home/mg/anaconda3/lib/python3.11/site-packages (from nbconvert>=6.0->jupyter_contrib_nbextensions->-r ../requirements.txt (line 9)) (0.8.0)\n",
      "Requirement already satisfied: nbformat>=5.7 in /home/mg/anaconda3/lib/python3.11/site-packages (from nbconvert>=6.0->jupyter_contrib_nbextensions->-r ../requirements.txt (line 9)) (5.9.2)\n",
      "Requirement already satisfied: pandocfilters>=1.4.1 in /home/mg/anaconda3/lib/python3.11/site-packages (from nbconvert>=6.0->jupyter_contrib_nbextensions->-r ../requirements.txt (line 9)) (1.5.0)\n",
      "Requirement already satisfied: tinycss2 in /home/mg/anaconda3/lib/python3.11/site-packages (from nbconvert>=6.0->jupyter_contrib_nbextensions->-r ../requirements.txt (line 9)) (1.2.1)\n",
      "Requirement already satisfied: platformdirs>=2.5 in /home/mg/anaconda3/lib/python3.11/site-packages (from jupyter-core->jupyter_contrib_nbextensions->-r ../requirements.txt (line 9)) (3.10.0)\n",
      "Requirement already satisfied: pyzmq>=17 in /home/mg/anaconda3/lib/python3.11/site-packages (from notebook>=6.0->jupyter_contrib_nbextensions->-r ../requirements.txt (line 9)) (25.1.0)\n",
      "Requirement already satisfied: argon2-cffi in /home/mg/anaconda3/lib/python3.11/site-packages (from notebook>=6.0->jupyter_contrib_nbextensions->-r ../requirements.txt (line 9)) (21.3.0)\n",
      "Requirement already satisfied: jupyter-client>=5.3.4 in /home/mg/anaconda3/lib/python3.11/site-packages (from notebook>=6.0->jupyter_contrib_nbextensions->-r ../requirements.txt (line 9)) (8.6.0)\n",
      "Requirement already satisfied: nest-asyncio>=1.5 in /home/mg/anaconda3/lib/python3.11/site-packages (from notebook>=6.0->jupyter_contrib_nbextensions->-r ../requirements.txt (line 9)) (1.5.6)\n",
      "Requirement already satisfied: ipykernel in /home/mg/anaconda3/lib/python3.11/site-packages (from notebook>=6.0->jupyter_contrib_nbextensions->-r ../requirements.txt (line 9)) (6.25.0)\n",
      "Requirement already satisfied: Send2Trash>=1.8.0 in /home/mg/anaconda3/lib/python3.11/site-packages (from notebook>=6.0->jupyter_contrib_nbextensions->-r ../requirements.txt (line 9)) (1.8.2)\n",
      "Requirement already satisfied: terminado>=0.8.3 in /home/mg/anaconda3/lib/python3.11/site-packages (from notebook>=6.0->jupyter_contrib_nbextensions->-r ../requirements.txt (line 9)) (0.17.1)\n",
      "Requirement already satisfied: prometheus-client in /home/mg/anaconda3/lib/python3.11/site-packages (from notebook>=6.0->jupyter_contrib_nbextensions->-r ../requirements.txt (line 9)) (0.14.1)\n",
      "Requirement already satisfied: nbclassic>=0.4.7 in /home/mg/anaconda3/lib/python3.11/site-packages (from notebook>=6.0->jupyter_contrib_nbextensions->-r ../requirements.txt (line 9)) (1.0.0)\n",
      "Requirement already satisfied: six>=1.5 in /home/mg/anaconda3/lib/python3.11/site-packages (from python-dateutil>=2.8.2->pandas->-r ../requirements.txt (line 2)) (1.16.0)\n",
      "Requirement already satisfied: webencodings in /home/mg/anaconda3/lib/python3.11/site-packages (from bleach!=5.0.0->nbconvert>=6.0->jupyter_contrib_nbextensions->-r ../requirements.txt (line 9)) (0.5.1)\n",
      "Requirement already satisfied: jupyter-server>=1.8 in /home/mg/anaconda3/lib/python3.11/site-packages (from nbclassic>=0.4.7->notebook>=6.0->jupyter_contrib_nbextensions->-r ../requirements.txt (line 9)) (2.10.0)\n",
      "Requirement already satisfied: notebook-shim>=0.2.3 in /home/mg/anaconda3/lib/python3.11/site-packages (from nbclassic>=0.4.7->notebook>=6.0->jupyter_contrib_nbextensions->-r ../requirements.txt (line 9)) (0.2.3)\n",
      "Requirement already satisfied: fastjsonschema in /home/mg/anaconda3/lib/python3.11/site-packages (from nbformat>=5.7->nbconvert>=6.0->jupyter_contrib_nbextensions->-r ../requirements.txt (line 9)) (2.16.2)\n",
      "Requirement already satisfied: jsonschema>=2.6 in /home/mg/anaconda3/lib/python3.11/site-packages (from nbformat>=5.7->nbconvert>=6.0->jupyter_contrib_nbextensions->-r ../requirements.txt (line 9)) (4.19.2)\n",
      "Requirement already satisfied: ptyprocess in /home/mg/anaconda3/lib/python3.11/site-packages (from terminado>=0.8.3->notebook>=6.0->jupyter_contrib_nbextensions->-r ../requirements.txt (line 9)) (0.7.0)\n",
      "Requirement already satisfied: argon2-cffi-bindings in /home/mg/anaconda3/lib/python3.11/site-packages (from argon2-cffi->notebook>=6.0->jupyter_contrib_nbextensions->-r ../requirements.txt (line 9)) (21.2.0)\n",
      "Requirement already satisfied: soupsieve>1.2 in /home/mg/anaconda3/lib/python3.11/site-packages (from beautifulsoup4->nbconvert>=6.0->jupyter_contrib_nbextensions->-r ../requirements.txt (line 9)) (2.5)\n",
      "Requirement already satisfied: comm>=0.1.1 in /home/mg/anaconda3/lib/python3.11/site-packages (from ipykernel->notebook>=6.0->jupyter_contrib_nbextensions->-r ../requirements.txt (line 9)) (0.1.2)\n",
      "Requirement already satisfied: debugpy>=1.6.5 in /home/mg/anaconda3/lib/python3.11/site-packages (from ipykernel->notebook>=6.0->jupyter_contrib_nbextensions->-r ../requirements.txt (line 9)) (1.6.7)\n",
      "Requirement already satisfied: ipython>=7.23.1 in /home/mg/anaconda3/lib/python3.11/site-packages (from ipykernel->notebook>=6.0->jupyter_contrib_nbextensions->-r ../requirements.txt (line 9)) (8.15.0)\n",
      "Requirement already satisfied: matplotlib-inline>=0.1 in /home/mg/anaconda3/lib/python3.11/site-packages (from ipykernel->notebook>=6.0->jupyter_contrib_nbextensions->-r ../requirements.txt (line 9)) (0.1.6)\n",
      "Requirement already satisfied: psutil in /home/mg/anaconda3/lib/python3.11/site-packages (from ipykernel->notebook>=6.0->jupyter_contrib_nbextensions->-r ../requirements.txt (line 9)) (5.9.0)\n",
      "Requirement already satisfied: backcall in /home/mg/anaconda3/lib/python3.11/site-packages (from ipython>=7.23.1->ipykernel->notebook>=6.0->jupyter_contrib_nbextensions->-r ../requirements.txt (line 9)) (0.2.0)\n",
      "Requirement already satisfied: decorator in /home/mg/anaconda3/lib/python3.11/site-packages (from ipython>=7.23.1->ipykernel->notebook>=6.0->jupyter_contrib_nbextensions->-r ../requirements.txt (line 9)) (5.1.1)\n",
      "Requirement already satisfied: jedi>=0.16 in /home/mg/anaconda3/lib/python3.11/site-packages (from ipython>=7.23.1->ipykernel->notebook>=6.0->jupyter_contrib_nbextensions->-r ../requirements.txt (line 9)) (0.18.1)\n",
      "Requirement already satisfied: pickleshare in /home/mg/anaconda3/lib/python3.11/site-packages (from ipython>=7.23.1->ipykernel->notebook>=6.0->jupyter_contrib_nbextensions->-r ../requirements.txt (line 9)) (0.7.5)\n",
      "Requirement already satisfied: prompt-toolkit!=3.0.37,<3.1.0,>=3.0.30 in /home/mg/anaconda3/lib/python3.11/site-packages (from ipython>=7.23.1->ipykernel->notebook>=6.0->jupyter_contrib_nbextensions->-r ../requirements.txt (line 9)) (3.0.43)\n",
      "Requirement already satisfied: stack-data in /home/mg/anaconda3/lib/python3.11/site-packages (from ipython>=7.23.1->ipykernel->notebook>=6.0->jupyter_contrib_nbextensions->-r ../requirements.txt (line 9)) (0.2.0)\n",
      "Requirement already satisfied: pexpect>4.3 in /home/mg/anaconda3/lib/python3.11/site-packages (from ipython>=7.23.1->ipykernel->notebook>=6.0->jupyter_contrib_nbextensions->-r ../requirements.txt (line 9)) (4.8.0)\n",
      "Requirement already satisfied: attrs>=22.2.0 in /home/mg/anaconda3/lib/python3.11/site-packages (from jsonschema>=2.6->nbformat>=5.7->nbconvert>=6.0->jupyter_contrib_nbextensions->-r ../requirements.txt (line 9)) (23.1.0)\n",
      "Requirement already satisfied: jsonschema-specifications>=2023.03.6 in /home/mg/anaconda3/lib/python3.11/site-packages (from jsonschema>=2.6->nbformat>=5.7->nbconvert>=6.0->jupyter_contrib_nbextensions->-r ../requirements.txt (line 9)) (2023.7.1)\n",
      "Requirement already satisfied: referencing>=0.28.4 in /home/mg/anaconda3/lib/python3.11/site-packages (from jsonschema>=2.6->nbformat>=5.7->nbconvert>=6.0->jupyter_contrib_nbextensions->-r ../requirements.txt (line 9)) (0.30.2)\n",
      "Requirement already satisfied: rpds-py>=0.7.1 in /home/mg/anaconda3/lib/python3.11/site-packages (from jsonschema>=2.6->nbformat>=5.7->nbconvert>=6.0->jupyter_contrib_nbextensions->-r ../requirements.txt (line 9)) (0.10.6)\n",
      "Requirement already satisfied: anyio>=3.1.0 in /home/mg/anaconda3/lib/python3.11/site-packages (from jupyter-server>=1.8->nbclassic>=0.4.7->notebook>=6.0->jupyter_contrib_nbextensions->-r ../requirements.txt (line 9)) (3.5.0)\n",
      "Requirement already satisfied: jupyter-events>=0.6.0 in /home/mg/anaconda3/lib/python3.11/site-packages (from jupyter-server>=1.8->nbclassic>=0.4.7->notebook>=6.0->jupyter_contrib_nbextensions->-r ../requirements.txt (line 9)) (0.8.0)\n",
      "Requirement already satisfied: jupyter-server-terminals in /home/mg/anaconda3/lib/python3.11/site-packages (from jupyter-server>=1.8->nbclassic>=0.4.7->notebook>=6.0->jupyter_contrib_nbextensions->-r ../requirements.txt (line 9)) (0.4.4)\n",
      "Requirement already satisfied: overrides in /home/mg/anaconda3/lib/python3.11/site-packages (from jupyter-server>=1.8->nbclassic>=0.4.7->notebook>=6.0->jupyter_contrib_nbextensions->-r ../requirements.txt (line 9)) (7.4.0)\n",
      "Requirement already satisfied: websocket-client in /home/mg/anaconda3/lib/python3.11/site-packages (from jupyter-server>=1.8->nbclassic>=0.4.7->notebook>=6.0->jupyter_contrib_nbextensions->-r ../requirements.txt (line 9)) (0.58.0)\n",
      "Requirement already satisfied: cffi>=1.0.1 in /home/mg/anaconda3/lib/python3.11/site-packages (from argon2-cffi-bindings->argon2-cffi->notebook>=6.0->jupyter_contrib_nbextensions->-r ../requirements.txt (line 9)) (1.16.0)\n",
      "Requirement already satisfied: idna>=2.8 in /home/mg/anaconda3/lib/python3.11/site-packages (from anyio>=3.1.0->jupyter-server>=1.8->nbclassic>=0.4.7->notebook>=6.0->jupyter_contrib_nbextensions->-r ../requirements.txt (line 9)) (3.4)\n",
      "Requirement already satisfied: sniffio>=1.1 in /home/mg/anaconda3/lib/python3.11/site-packages (from anyio>=3.1.0->jupyter-server>=1.8->nbclassic>=0.4.7->notebook>=6.0->jupyter_contrib_nbextensions->-r ../requirements.txt (line 9)) (1.2.0)\n",
      "Requirement already satisfied: pycparser in /home/mg/anaconda3/lib/python3.11/site-packages (from cffi>=1.0.1->argon2-cffi-bindings->argon2-cffi->notebook>=6.0->jupyter_contrib_nbextensions->-r ../requirements.txt (line 9)) (2.21)\n",
      "Requirement already satisfied: parso<0.9.0,>=0.8.0 in /home/mg/anaconda3/lib/python3.11/site-packages (from jedi>=0.16->ipython>=7.23.1->ipykernel->notebook>=6.0->jupyter_contrib_nbextensions->-r ../requirements.txt (line 9)) (0.8.3)\n",
      "Requirement already satisfied: python-json-logger>=2.0.4 in /home/mg/anaconda3/lib/python3.11/site-packages (from jupyter-events>=0.6.0->jupyter-server>=1.8->nbclassic>=0.4.7->notebook>=6.0->jupyter_contrib_nbextensions->-r ../requirements.txt (line 9)) (2.0.7)\n",
      "Requirement already satisfied: rfc3339-validator in /home/mg/anaconda3/lib/python3.11/site-packages (from jupyter-events>=0.6.0->jupyter-server>=1.8->nbclassic>=0.4.7->notebook>=6.0->jupyter_contrib_nbextensions->-r ../requirements.txt (line 9)) (0.1.4)\n",
      "Requirement already satisfied: rfc3986-validator>=0.1.1 in /home/mg/anaconda3/lib/python3.11/site-packages (from jupyter-events>=0.6.0->jupyter-server>=1.8->nbclassic>=0.4.7->notebook>=6.0->jupyter_contrib_nbextensions->-r ../requirements.txt (line 9)) (0.1.1)\n",
      "Requirement already satisfied: wcwidth in /home/mg/anaconda3/lib/python3.11/site-packages (from prompt-toolkit!=3.0.37,<3.1.0,>=3.0.30->ipython>=7.23.1->ipykernel->notebook>=6.0->jupyter_contrib_nbextensions->-r ../requirements.txt (line 9)) (0.2.5)\n",
      "Requirement already satisfied: executing in /home/mg/anaconda3/lib/python3.11/site-packages (from stack-data->ipython>=7.23.1->ipykernel->notebook>=6.0->jupyter_contrib_nbextensions->-r ../requirements.txt (line 9)) (0.8.3)\n",
      "Requirement already satisfied: asttokens in /home/mg/anaconda3/lib/python3.11/site-packages (from stack-data->ipython>=7.23.1->ipykernel->notebook>=6.0->jupyter_contrib_nbextensions->-r ../requirements.txt (line 9)) (2.0.5)\n",
      "Requirement already satisfied: pure-eval in /home/mg/anaconda3/lib/python3.11/site-packages (from stack-data->ipython>=7.23.1->ipykernel->notebook>=6.0->jupyter_contrib_nbextensions->-r ../requirements.txt (line 9)) (0.2.2)\n",
      "Requirement already satisfied: fqdn in /home/mg/anaconda3/lib/python3.11/site-packages (from jsonschema>=2.6->nbformat>=5.7->nbconvert>=6.0->jupyter_contrib_nbextensions->-r ../requirements.txt (line 9)) (1.5.1)\n",
      "Requirement already satisfied: isoduration in /home/mg/anaconda3/lib/python3.11/site-packages (from jsonschema>=2.6->nbformat>=5.7->nbconvert>=6.0->jupyter_contrib_nbextensions->-r ../requirements.txt (line 9)) (20.11.0)\n",
      "Requirement already satisfied: jsonpointer>1.13 in /home/mg/anaconda3/lib/python3.11/site-packages (from jsonschema>=2.6->nbformat>=5.7->nbconvert>=6.0->jupyter_contrib_nbextensions->-r ../requirements.txt (line 9)) (2.1)\n",
      "Requirement already satisfied: uri-template in /home/mg/anaconda3/lib/python3.11/site-packages (from jsonschema>=2.6->nbformat>=5.7->nbconvert>=6.0->jupyter_contrib_nbextensions->-r ../requirements.txt (line 9)) (1.3.0)\n",
      "Requirement already satisfied: webcolors>=1.11 in /home/mg/anaconda3/lib/python3.11/site-packages (from jsonschema>=2.6->nbformat>=5.7->nbconvert>=6.0->jupyter_contrib_nbextensions->-r ../requirements.txt (line 9)) (1.13)\n",
      "Requirement already satisfied: arrow>=0.15.0 in /home/mg/anaconda3/lib/python3.11/site-packages (from isoduration->jsonschema>=2.6->nbformat>=5.7->nbconvert>=6.0->jupyter_contrib_nbextensions->-r ../requirements.txt (line 9)) (1.2.3)\n"
     ]
    }
   ],
   "source": [
    "!pip install -r ../requirements.txt\n",
    "import pandas as pd\n",
    "from sklearn.preprocessing import LabelEncoder\n",
    "import pandas as pd\n",
    "import numpy as np\n",
    "from sklearn.preprocessing import OneHotEncoder\n",
    "import platform\n",
    "import pandas as pd\n",
    "import numpy as np\n",
    "import warnings\n",
    "import sys;\n",
    "#define Seaborn color palette to use\n",
    "import numpy as np\n",
    "from math import ceil\n",
    "from itertools import zip_longest\n",
    "import pandas as pd\n",
    "import matplotlib.pyplot as plt\n",
    "import seaborn as sns\n",
    "from sklearn.datasets import fetch_openml\n",
    "import missingno as msno\n",
    "import re\n",
    "\n"
   ]
  },
  {
   "cell_type": "code",
   "execution_count": 2,
   "id": "c526d725-d912-4ff3-843d-a8f7a4c02798",
   "metadata": {},
   "outputs": [],
   "source": [
    "import logging\n",
    "from rich.logging import RichHandler\n",
    "\n",
    "FORMAT = \"%(message)s\"\n",
    "logging.basicConfig(\n",
    "    level=\"NOTSET\", format=FORMAT, datefmt=\"[%X]\", handlers=[RichHandler()]\n",
    ")\n",
    "\n",
    "logger = logging.getLogger(\"rich\")\n"
   ]
  },
  {
   "cell_type": "code",
   "execution_count": 3,
   "id": "b802e270-b7da-4857-b3e0-1245386a1a2b",
   "metadata": {},
   "outputs": [],
   "source": [
    "\n",
    "v = platform.python_version_tuple();\n",
    "if float(v[1]) < 10:\n",
    "    raise Exception(\"MUST USE Python 3.10 to use MATCH expression!\")\n",
    "\n",
    "warnings.filterwarnings(\"ignore\", \"is_categorical_dtype\")\n",
    "warnings.filterwarnings(\"ignore\", \"use_inf_as_na\")\n",
    "np.set_printoptions(threshold=sys.maxsize)\n",
    "pd.options.display.max_colwidth = 1000\n",
    "\n",
    "from enum import Enum, unique\n",
    "\n",
    "@unique\n",
    "class PDataType(Enum):\n",
    "    NUMERICAL = 1\n",
    "    CATHEGORICAL = 2\n",
    "\n",
    "def remove_distinct_value_features(df):\n",
    "    return [e for e in df.columns if df[e].nunique() == 1]\n",
    "\n",
    "def get_data_type(df, type):\n",
    "    match type:\n",
    "        case PDataType.NUMERICAL:\n",
    "            return df.select_dtypes(np.number);\n",
    "        case PDataType.CATHEGORICAL:\n",
    "            return df.select_dtypes(include='object');\n",
    "\n",
    "#select all cathegorigal data where the first value is more than percent%?\n",
    "def get_cathegorical_data_by_percent(df, percent):\n",
    "    col_names = get_data_type(df,PDataType.CATHEGORICAL)\n",
    "    to_return = []\n",
    "    for col_name in col_names:\n",
    "        unique_v_df = (df[col_name].value_counts()).to_frame()\n",
    "        unique_v_df['percent'] = (unique_v_df/unique_v_df.sum()*100)\n",
    "        if unique_v_df.iloc[0].percent > percent:\n",
    "            to_return.append(col_name);\n",
    "    return to_return\n",
    "    \n",
    "def fill_empty_data_with(df, type, filler):\n",
    "    col_names = get_data_type(df,type)\n",
    "    for c in col_names:\n",
    "        test_data_csv[c] = test_data_csv[c].fillna(filler)\n"
   ]
  },
  {
   "cell_type": "code",
   "execution_count": 4,
   "id": "1e8784ba-4419-45a9-b52f-9ee4eb3770a5",
   "metadata": {},
   "outputs": [],
   "source": [
    "DO_NOT_PLOT = False"
   ]
  },
  {
   "cell_type": "code",
   "execution_count": 5,
   "id": "f5e85079-01c1-4d7b-b69e-eb0f02bef73f",
   "metadata": {},
   "outputs": [],
   "source": [
    "\n",
    "\n",
    "def plot_pie_for_unique_category(df,col_name_x, ax):\n",
    "    if not DO_NOT_PLOT:\n",
    "        colors = sns.color_palette('pastel')\n",
    "        unique_v_df = (df[col_name_x].value_counts()).to_frame()\n",
    "        unique_v_df['percent'] = (unique_v_df/unique_v_df.sum()*100)\n",
    "        unique_v_df.plot.pie(y='count', use_index=True,autopct='%0.2f%%', title = f\"{col_name_x}\", ax = ax)\n",
    "\n",
    "\n",
    "def plot_hist_for_unique_category(df,col_name_x,col_name_y):\n",
    "    if not DO_NOT_PLOT:\n",
    "        unique_v_df = (df[col_name_x].value_counts()).to_frame()\n",
    "        unique_v_df['percent'] = (unique_v_df/unique_v_df.sum()*100)\n",
    "        fig, axs = plt.subplots(nrows=len(unique_v_df), figsize=(16,10))\n",
    "        i = 0;\n",
    "        for index, row in unique_v_df.iterrows():\n",
    "            value_percent = row.iloc[1];\n",
    "            value = row.iloc[0];\n",
    "            name = index;\n",
    "            sns.histplot(data=df.loc[df[col_name_x] == name], x=col_name_y, ax = axs[i],bins=100, label =f'{col_name_x} {name} : {value} | {value_percent:.2f}%')\n",
    "            axs[i].set_xlim(df[col_name_y].min(), df[col_name_y].max())\n",
    "            axs[i].legend()\n",
    "            i+=1\n",
    "        fig.suptitle(f\"{col_name_x} on {col_name_y}\")\n",
    "        plt.show()\n",
    "        \n",
    "def plot_hist_for_stat(df,col_name_x, stat = 'count'):\n",
    "    if not DO_NOT_PLOT:\n",
    "        sns.histplot(data=df, x=col_name_x, stat = stat)\n",
    "        plt.legend()\n",
    "        plt.show()\n",
    "                     \n",
    "    \n",
    "def plot_unique_category(df,col_name_x,col_name_y):\n",
    "    if not DO_NOT_PLOT:\n",
    "        plot_hist_for_unique_category(df,col_name_x,col_name_y)\n",
    "        fig, axs = plt.subplots(1, 2, figsize=(10,10))\n",
    "        fig.tight_layout()\n",
    "        plot_pie_for_unique_category(df,col_name_x,axs[0])\n",
    "        sns.boxenplot(data=df, x=col_name_x, y=col_name_y, ax = axs[1])\n",
    "        plt.show()\n",
    "    \n",
    "def plot_hist_for_unique_category_array(df,col_names_x,col_name_y):\n",
    "    if not DO_NOT_PLOT:\n",
    "        for col_name_x in col_names_x:\n",
    "            plot_hist_for_unique_category(df,col_name_x,col_name_y)\n",
    "            plt.show()\n",
    "\n",
    "#RAVEL returns flatted array, depricated. use to_numpy\n",
    "def plot_pie_for_unique_category_array(df,col_names_x):\n",
    "    if not DO_NOT_PLOT:\n",
    "        n_rows, n_cols = ceil(len(col_names_x) / 3), 3\n",
    "        fig, axs = plt.subplots(ncols=n_cols, nrows=n_rows, figsize=(20, 80))\n",
    "        for col_name_x,ax in zip_longest(col_names_x,axs.ravel()):\n",
    "            if col_name_x is not None:\n",
    "                colors = sns.color_palette('pastel')\n",
    "                unique_v_df = (df[col_name_x].value_counts()).to_frame()\n",
    "                unique_v_df['percent'] = (unique_v_df/unique_v_df.sum()*100)\n",
    "                unique_v_df.plot.pie(y='count', use_index=True,autopct='%0.2f%%', title = f\"{col_name_x}\",ax=ax )\n",
    "            else:\n",
    "                fig.delaxes(ax)\n",
    "        plt.draw()\n",
    "        plt.tight_layout()\n",
    "    \n",
    "\n",
    "def plot_correlation_for(df, col_name, n):\n",
    "    corr = df.corr(numeric_only=True)[col_name].sort_values(ascending=False)\n",
    "    top_corr = corr[1:n]\n",
    "    selected_features = list(top_corr.index) + [col_name]\n",
    "    correlation_matrix = df[selected_features].corr()\n",
    "    mask = np.triu(correlation_matrix)\n",
    "    if not DO_NOT_PLOT:\n",
    "        plt.figure(figsize=(12, 8))\n",
    "        sns.heatmap(correlation_matrix, annot=True, cmap=\"coolwarm\", linewidths=.5, fmt=\".2f\", vmin=-1, vmax=1,mask=mask)\n",
    "        plt.title(f\"Top of correlation with [{col_name}]\", fontsize=16)\n",
    "        plt.show()\n",
    "    return top_corr\n",
    "\n",
    "def plot_overall_correlation_for(df,target_cols,n_count):\n",
    "    df_no_target = df.copy().drop(columns = target_cols)\n",
    "    top_correlation = df_no_target.corr().unstack().sort_values(ascending = False).drop_duplicates()[1:n_count]\n",
    "    top_correlation.plot.bar(grid = True)\n",
    "    return  top_correlation\n",
    "def scikit_model_vis(y_valid, y_pred):\n",
    "    if not DO_NOT_PLOT:\n",
    "        plt.figure()\n",
    "        plt.scatter(y_valid, y_pred)\n",
    "        plt.xlabel('ground truth (y_valid)')\n",
    "        plt.ylabel('predict (y_pred)')\n",
    "        plt.show()\n",
    "\n",
    "    logger.info(f'MAE: {metrics.mean_absolute_error(y_valid, y_pred):.2f}')\n",
    "    logger.info(f'MSE: {metrics.mean_squared_error(y_valid, y_pred):.2f}')\n",
    "    logger.info(f'R2: {metrics.r2_score(y_valid, y_pred):.2f}')"
   ]
  },
  {
   "cell_type": "code",
   "execution_count": 6,
   "id": "3712ab0f-d685-46db-bb94-523418a54ddb",
   "metadata": {
    "editable": true,
    "slideshow": {
     "slide_type": ""
    },
    "tags": []
   },
   "outputs": [
    {
     "name": "stderr",
     "output_type": "stream",
     "text": [
      "/home/mg/anaconda3/lib/python3.11/site-packages/sklearn/datasets/_openml.py:968: FutureWarning: The default value of `parser` will change from `'liac-arff'` to `'auto'` in 1.4. You can set `parser='auto'` to silence this warning. Therefore, an `ImportError` will be raised from 1.4 if the dataset is dense and pandas is not installed. Note that the pandas parser may return different data types. See the Notes Section in fetch_openml's API doc for details.\n",
      "  warn(\n",
      "/home/mg/anaconda3/lib/python3.11/site-packages/sklearn/datasets/_arff_parser.py:200: FutureWarning: The behavior of DataFrame concatenation with empty or all-NA entries is deprecated. In a future version, this will no longer exclude empty or all-NA columns when determining the result dtypes. To retain the old behavior, exclude the relevant entries before the concat operation.\n",
      "  frame = pd.concat(dfs, ignore_index=True)\n"
     ]
    },
    {
     "data": {
      "text/html": [
       "<div>\n",
       "<style scoped>\n",
       "    .dataframe tbody tr th:only-of-type {\n",
       "        vertical-align: middle;\n",
       "    }\n",
       "\n",
       "    .dataframe tbody tr th {\n",
       "        vertical-align: top;\n",
       "    }\n",
       "\n",
       "    .dataframe thead th {\n",
       "        text-align: right;\n",
       "    }\n",
       "</style>\n",
       "<table border=\"1\" class=\"dataframe\">\n",
       "  <thead>\n",
       "    <tr style=\"text-align: right;\">\n",
       "      <th></th>\n",
       "      <th>pclass</th>\n",
       "      <th>survived</th>\n",
       "      <th>name</th>\n",
       "      <th>sex</th>\n",
       "      <th>age</th>\n",
       "      <th>sibsp</th>\n",
       "      <th>parch</th>\n",
       "      <th>ticket</th>\n",
       "      <th>fare</th>\n",
       "      <th>cabin</th>\n",
       "      <th>embarked</th>\n",
       "      <th>boat</th>\n",
       "      <th>body</th>\n",
       "      <th>home.dest</th>\n",
       "    </tr>\n",
       "  </thead>\n",
       "  <tbody>\n",
       "    <tr>\n",
       "      <th>0</th>\n",
       "      <td>1.0</td>\n",
       "      <td>1</td>\n",
       "      <td>Allen, Miss. Elisabeth Walton</td>\n",
       "      <td>female</td>\n",
       "      <td>29.0000</td>\n",
       "      <td>0.0</td>\n",
       "      <td>0.0</td>\n",
       "      <td>24160</td>\n",
       "      <td>211.3375</td>\n",
       "      <td>B5</td>\n",
       "      <td>S</td>\n",
       "      <td>2</td>\n",
       "      <td>NaN</td>\n",
       "      <td>St Louis, MO</td>\n",
       "    </tr>\n",
       "    <tr>\n",
       "      <th>1</th>\n",
       "      <td>1.0</td>\n",
       "      <td>1</td>\n",
       "      <td>Allison, Master. Hudson Trevor</td>\n",
       "      <td>male</td>\n",
       "      <td>0.9167</td>\n",
       "      <td>1.0</td>\n",
       "      <td>2.0</td>\n",
       "      <td>113781</td>\n",
       "      <td>151.5500</td>\n",
       "      <td>C22 C26</td>\n",
       "      <td>S</td>\n",
       "      <td>11</td>\n",
       "      <td>NaN</td>\n",
       "      <td>Montreal, PQ / Chesterville, ON</td>\n",
       "    </tr>\n",
       "    <tr>\n",
       "      <th>2</th>\n",
       "      <td>1.0</td>\n",
       "      <td>0</td>\n",
       "      <td>Allison, Miss. Helen Loraine</td>\n",
       "      <td>female</td>\n",
       "      <td>2.0000</td>\n",
       "      <td>1.0</td>\n",
       "      <td>2.0</td>\n",
       "      <td>113781</td>\n",
       "      <td>151.5500</td>\n",
       "      <td>C22 C26</td>\n",
       "      <td>S</td>\n",
       "      <td>None</td>\n",
       "      <td>NaN</td>\n",
       "      <td>Montreal, PQ / Chesterville, ON</td>\n",
       "    </tr>\n",
       "    <tr>\n",
       "      <th>3</th>\n",
       "      <td>1.0</td>\n",
       "      <td>0</td>\n",
       "      <td>Allison, Mr. Hudson Joshua Creighton</td>\n",
       "      <td>male</td>\n",
       "      <td>30.0000</td>\n",
       "      <td>1.0</td>\n",
       "      <td>2.0</td>\n",
       "      <td>113781</td>\n",
       "      <td>151.5500</td>\n",
       "      <td>C22 C26</td>\n",
       "      <td>S</td>\n",
       "      <td>None</td>\n",
       "      <td>135.0</td>\n",
       "      <td>Montreal, PQ / Chesterville, ON</td>\n",
       "    </tr>\n",
       "    <tr>\n",
       "      <th>4</th>\n",
       "      <td>1.0</td>\n",
       "      <td>0</td>\n",
       "      <td>Allison, Mrs. Hudson J C (Bessie Waldo Daniels)</td>\n",
       "      <td>female</td>\n",
       "      <td>25.0000</td>\n",
       "      <td>1.0</td>\n",
       "      <td>2.0</td>\n",
       "      <td>113781</td>\n",
       "      <td>151.5500</td>\n",
       "      <td>C22 C26</td>\n",
       "      <td>S</td>\n",
       "      <td>None</td>\n",
       "      <td>NaN</td>\n",
       "      <td>Montreal, PQ / Chesterville, ON</td>\n",
       "    </tr>\n",
       "    <tr>\n",
       "      <th>...</th>\n",
       "      <td>...</td>\n",
       "      <td>...</td>\n",
       "      <td>...</td>\n",
       "      <td>...</td>\n",
       "      <td>...</td>\n",
       "      <td>...</td>\n",
       "      <td>...</td>\n",
       "      <td>...</td>\n",
       "      <td>...</td>\n",
       "      <td>...</td>\n",
       "      <td>...</td>\n",
       "      <td>...</td>\n",
       "      <td>...</td>\n",
       "      <td>...</td>\n",
       "    </tr>\n",
       "    <tr>\n",
       "      <th>1304</th>\n",
       "      <td>3.0</td>\n",
       "      <td>0</td>\n",
       "      <td>Zabour, Miss. Hileni</td>\n",
       "      <td>female</td>\n",
       "      <td>14.5000</td>\n",
       "      <td>1.0</td>\n",
       "      <td>0.0</td>\n",
       "      <td>2665</td>\n",
       "      <td>14.4542</td>\n",
       "      <td>None</td>\n",
       "      <td>C</td>\n",
       "      <td>None</td>\n",
       "      <td>328.0</td>\n",
       "      <td>None</td>\n",
       "    </tr>\n",
       "    <tr>\n",
       "      <th>1305</th>\n",
       "      <td>3.0</td>\n",
       "      <td>0</td>\n",
       "      <td>Zabour, Miss. Thamine</td>\n",
       "      <td>female</td>\n",
       "      <td>NaN</td>\n",
       "      <td>1.0</td>\n",
       "      <td>0.0</td>\n",
       "      <td>2665</td>\n",
       "      <td>14.4542</td>\n",
       "      <td>None</td>\n",
       "      <td>C</td>\n",
       "      <td>None</td>\n",
       "      <td>NaN</td>\n",
       "      <td>None</td>\n",
       "    </tr>\n",
       "    <tr>\n",
       "      <th>1306</th>\n",
       "      <td>3.0</td>\n",
       "      <td>0</td>\n",
       "      <td>Zakarian, Mr. Mapriededer</td>\n",
       "      <td>male</td>\n",
       "      <td>26.5000</td>\n",
       "      <td>0.0</td>\n",
       "      <td>0.0</td>\n",
       "      <td>2656</td>\n",
       "      <td>7.2250</td>\n",
       "      <td>None</td>\n",
       "      <td>C</td>\n",
       "      <td>None</td>\n",
       "      <td>304.0</td>\n",
       "      <td>None</td>\n",
       "    </tr>\n",
       "    <tr>\n",
       "      <th>1307</th>\n",
       "      <td>3.0</td>\n",
       "      <td>0</td>\n",
       "      <td>Zakarian, Mr. Ortin</td>\n",
       "      <td>male</td>\n",
       "      <td>27.0000</td>\n",
       "      <td>0.0</td>\n",
       "      <td>0.0</td>\n",
       "      <td>2670</td>\n",
       "      <td>7.2250</td>\n",
       "      <td>None</td>\n",
       "      <td>C</td>\n",
       "      <td>None</td>\n",
       "      <td>NaN</td>\n",
       "      <td>None</td>\n",
       "    </tr>\n",
       "    <tr>\n",
       "      <th>1308</th>\n",
       "      <td>3.0</td>\n",
       "      <td>0</td>\n",
       "      <td>Zimmerman, Mr. Leo</td>\n",
       "      <td>male</td>\n",
       "      <td>29.0000</td>\n",
       "      <td>0.0</td>\n",
       "      <td>0.0</td>\n",
       "      <td>315082</td>\n",
       "      <td>7.8750</td>\n",
       "      <td>None</td>\n",
       "      <td>S</td>\n",
       "      <td>None</td>\n",
       "      <td>NaN</td>\n",
       "      <td>None</td>\n",
       "    </tr>\n",
       "  </tbody>\n",
       "</table>\n",
       "<p>1309 rows × 14 columns</p>\n",
       "</div>"
      ],
      "text/plain": [
       "      pclass survived                                             name  \\\n",
       "0        1.0        1                    Allen, Miss. Elisabeth Walton   \n",
       "1        1.0        1                   Allison, Master. Hudson Trevor   \n",
       "2        1.0        0                     Allison, Miss. Helen Loraine   \n",
       "3        1.0        0             Allison, Mr. Hudson Joshua Creighton   \n",
       "4        1.0        0  Allison, Mrs. Hudson J C (Bessie Waldo Daniels)   \n",
       "...      ...      ...                                              ...   \n",
       "1304     3.0        0                             Zabour, Miss. Hileni   \n",
       "1305     3.0        0                            Zabour, Miss. Thamine   \n",
       "1306     3.0        0                        Zakarian, Mr. Mapriededer   \n",
       "1307     3.0        0                              Zakarian, Mr. Ortin   \n",
       "1308     3.0        0                               Zimmerman, Mr. Leo   \n",
       "\n",
       "         sex      age  sibsp  parch  ticket      fare    cabin embarked  boat  \\\n",
       "0     female  29.0000    0.0    0.0   24160  211.3375       B5        S     2   \n",
       "1       male   0.9167    1.0    2.0  113781  151.5500  C22 C26        S    11   \n",
       "2     female   2.0000    1.0    2.0  113781  151.5500  C22 C26        S  None   \n",
       "3       male  30.0000    1.0    2.0  113781  151.5500  C22 C26        S  None   \n",
       "4     female  25.0000    1.0    2.0  113781  151.5500  C22 C26        S  None   \n",
       "...      ...      ...    ...    ...     ...       ...      ...      ...   ...   \n",
       "1304  female  14.5000    1.0    0.0    2665   14.4542     None        C  None   \n",
       "1305  female      NaN    1.0    0.0    2665   14.4542     None        C  None   \n",
       "1306    male  26.5000    0.0    0.0    2656    7.2250     None        C  None   \n",
       "1307    male  27.0000    0.0    0.0    2670    7.2250     None        C  None   \n",
       "1308    male  29.0000    0.0    0.0  315082    7.8750     None        S  None   \n",
       "\n",
       "       body                        home.dest  \n",
       "0       NaN                     St Louis, MO  \n",
       "1       NaN  Montreal, PQ / Chesterville, ON  \n",
       "2       NaN  Montreal, PQ / Chesterville, ON  \n",
       "3     135.0  Montreal, PQ / Chesterville, ON  \n",
       "4       NaN  Montreal, PQ / Chesterville, ON  \n",
       "...     ...                              ...  \n",
       "1304  328.0                             None  \n",
       "1305    NaN                             None  \n",
       "1306  304.0                             None  \n",
       "1307    NaN                             None  \n",
       "1308    NaN                             None  \n",
       "\n",
       "[1309 rows x 14 columns]"
      ]
     },
     "metadata": {},
     "output_type": "display_data"
    }
   ],
   "source": [
    "#@markdown You know this data, but so far you had the opportunity to work with classification on it\n",
    "#https://www.openml.org/search?type=data&sort=runs&id=40945&status=active\n",
    "#titanic = pd.read_csv('https://raw.githubusercontent.com/GokuMohandas/MadeWithML/main/datasets/titanic.csv')\n",
    "df = fetch_openml(\"titanic\", version=1, as_frame=True)\n",
    "df = df['frame']\n",
    "display(df)\n"
   ]
  },
  {
   "cell_type": "code",
   "execution_count": 7,
   "id": "e76fa0fb-5dea-4a97-ba74-e20f3e20ab61",
   "metadata": {},
   "outputs": [
    {
     "name": "stdout",
     "output_type": "stream",
     "text": [
      "<class 'pandas.core.frame.DataFrame'>\n",
      "RangeIndex: 1309 entries, 0 to 1308\n",
      "Data columns (total 14 columns):\n",
      " #   Column     Non-Null Count  Dtype   \n",
      "---  ------     --------------  -----   \n",
      " 0   pclass     1309 non-null   float64 \n",
      " 1   survived   1309 non-null   category\n",
      " 2   name       1309 non-null   object  \n",
      " 3   sex        1309 non-null   category\n",
      " 4   age        1046 non-null   float64 \n",
      " 5   sibsp      1309 non-null   float64 \n",
      " 6   parch      1309 non-null   float64 \n",
      " 7   ticket     1309 non-null   object  \n",
      " 8   fare       1308 non-null   float64 \n",
      " 9   cabin      295 non-null    object  \n",
      " 10  embarked   1307 non-null   category\n",
      " 11  boat       486 non-null    object  \n",
      " 12  body       121 non-null    float64 \n",
      " 13  home.dest  745 non-null    object  \n",
      "dtypes: category(3), float64(6), object(5)\n",
      "memory usage: 116.8+ KB\n"
     ]
    }
   ],
   "source": [
    "df.info()"
   ]
  },
  {
   "cell_type": "markdown",
   "id": "d5a84f39-f774-4e20-bc2f-a8ebd9c9f74a",
   "metadata": {},
   "source": [
    "## Convert some data, cleanup"
   ]
  },
  {
   "cell_type": "code",
   "execution_count": 25,
   "id": "f3704fff-10d9-4031-a7ca-9a57d41aec3f",
   "metadata": {
    "scrolled": true
   },
   "outputs": [
    {
     "data": {
      "image/png": "[encoded data removed]",
      "text/plain": [
       "<Figure size 2500x1000 with 2 Axes>"
      ]
     },
     "metadata": {},
     "output_type": "display_data"
    }
   ],
   "source": [
    "msno.matrix(df)\n",
    "plt.show()"
   ]
  },
  {
   "cell_type": "code",
   "execution_count": 9,
   "id": "8a69069f-2ebb-4af6-b1a8-bcb4222f1117",
   "metadata": {},
   "outputs": [
    {
     "data": {
      "text/html": [
       "<pre style=\"white-space:pre;overflow-x:auto;line-height:normal;font-family:Menlo,'DejaVu Sans Mono',consolas,'Courier New',monospace\"><span style=\"color: #7fbfbf; text-decoration-color: #7fbfbf\">           </span><span style=\"color: #000080; text-decoration-color: #000080\">INFO    </span> NULL:                                                                           <a href=\"file:///tmp/ipykernel_56661/3989102858.py\" target=\"_blank\"><span style=\"color: #7f7f7f; text-decoration-color: #7f7f7f\">3989102858.py</span></a><span style=\"color: #7f7f7f; text-decoration-color: #7f7f7f\">:</span><a href=\"file:///tmp/ipykernel_56661/3989102858.py#1\" target=\"_blank\"><span style=\"color: #7f7f7f; text-decoration-color: #7f7f7f\">1</span></a>\n",
       "</pre>\n"
      ],
      "text/plain": [
       "\u001b[2;36m          \u001b[0m\u001b[2;36m \u001b[0m\u001b[34mINFO    \u001b[0m NULL:                                                                           \u001b]8;id=899996;file:///tmp/ipykernel_56661/3989102858.py\u001b\\\u001b[2m3989102858.py\u001b[0m\u001b]8;;\u001b\\\u001b[2m:\u001b[0m\u001b]8;id=727281;file:///tmp/ipykernel_56661/3989102858.py#1\u001b\\\u001b[2m1\u001b[0m\u001b]8;;\u001b\\\n"
      ]
     },
     "metadata": {},
     "output_type": "display_data"
    },
    {
     "data": {
      "text/html": [
       "<pre style=\"white-space:pre;overflow-x:auto;line-height:normal;font-family:Menlo,'DejaVu Sans Mono',consolas,'Courier New',monospace\"><span style=\"color: #7fbfbf; text-decoration-color: #7fbfbf\">           </span><span style=\"color: #000080; text-decoration-color: #000080\">INFO    </span> pclass          <span style=\"color: #008080; text-decoration-color: #008080; font-weight: bold\">0</span>                                                               <a href=\"file:///tmp/ipykernel_56661/3989102858.py\" target=\"_blank\"><span style=\"color: #7f7f7f; text-decoration-color: #7f7f7f\">3989102858.py</span></a><span style=\"color: #7f7f7f; text-decoration-color: #7f7f7f\">:</span><a href=\"file:///tmp/ipykernel_56661/3989102858.py#3\" target=\"_blank\"><span style=\"color: #7f7f7f; text-decoration-color: #7f7f7f\">3</span></a>\n",
       "<span style=\"color: #7fbfbf; text-decoration-color: #7fbfbf\">           </span>         survived        <span style=\"color: #008080; text-decoration-color: #008080; font-weight: bold\">0</span>                                                               <span style=\"color: #7f7f7f; text-decoration-color: #7f7f7f\">               </span>\n",
       "<span style=\"color: #7fbfbf; text-decoration-color: #7fbfbf\">           </span>         name            <span style=\"color: #008080; text-decoration-color: #008080; font-weight: bold\">0</span>                                                               <span style=\"color: #7f7f7f; text-decoration-color: #7f7f7f\">               </span>\n",
       "<span style=\"color: #7fbfbf; text-decoration-color: #7fbfbf\">           </span>         sex             <span style=\"color: #008080; text-decoration-color: #008080; font-weight: bold\">0</span>                                                               <span style=\"color: #7f7f7f; text-decoration-color: #7f7f7f\">               </span>\n",
       "<span style=\"color: #7fbfbf; text-decoration-color: #7fbfbf\">           </span>         age           <span style=\"color: #008080; text-decoration-color: #008080; font-weight: bold\">263</span>                                                               <span style=\"color: #7f7f7f; text-decoration-color: #7f7f7f\">               </span>\n",
       "<span style=\"color: #7fbfbf; text-decoration-color: #7fbfbf\">           </span>         sibsp           <span style=\"color: #008080; text-decoration-color: #008080; font-weight: bold\">0</span>                                                               <span style=\"color: #7f7f7f; text-decoration-color: #7f7f7f\">               </span>\n",
       "<span style=\"color: #7fbfbf; text-decoration-color: #7fbfbf\">           </span>         parch           <span style=\"color: #008080; text-decoration-color: #008080; font-weight: bold\">0</span>                                                               <span style=\"color: #7f7f7f; text-decoration-color: #7f7f7f\">               </span>\n",
       "<span style=\"color: #7fbfbf; text-decoration-color: #7fbfbf\">           </span>         ticket          <span style=\"color: #008080; text-decoration-color: #008080; font-weight: bold\">0</span>                                                               <span style=\"color: #7f7f7f; text-decoration-color: #7f7f7f\">               </span>\n",
       "<span style=\"color: #7fbfbf; text-decoration-color: #7fbfbf\">           </span>         fare            <span style=\"color: #008080; text-decoration-color: #008080; font-weight: bold\">1</span>                                                               <span style=\"color: #7f7f7f; text-decoration-color: #7f7f7f\">               </span>\n",
       "<span style=\"color: #7fbfbf; text-decoration-color: #7fbfbf\">           </span>         cabin        <span style=\"color: #008080; text-decoration-color: #008080; font-weight: bold\">1014</span>                                                               <span style=\"color: #7f7f7f; text-decoration-color: #7f7f7f\">               </span>\n",
       "<span style=\"color: #7fbfbf; text-decoration-color: #7fbfbf\">           </span>         embarked        <span style=\"color: #008080; text-decoration-color: #008080; font-weight: bold\">2</span>                                                               <span style=\"color: #7f7f7f; text-decoration-color: #7f7f7f\">               </span>\n",
       "<span style=\"color: #7fbfbf; text-decoration-color: #7fbfbf\">           </span>         boat          <span style=\"color: #008080; text-decoration-color: #008080; font-weight: bold\">823</span>                                                               <span style=\"color: #7f7f7f; text-decoration-color: #7f7f7f\">               </span>\n",
       "<span style=\"color: #7fbfbf; text-decoration-color: #7fbfbf\">           </span>         body         <span style=\"color: #008080; text-decoration-color: #008080; font-weight: bold\">1188</span>                                                               <span style=\"color: #7f7f7f; text-decoration-color: #7f7f7f\">               </span>\n",
       "<span style=\"color: #7fbfbf; text-decoration-color: #7fbfbf\">           </span>         home.dest     <span style=\"color: #008080; text-decoration-color: #008080; font-weight: bold\">564</span>                                                               <span style=\"color: #7f7f7f; text-decoration-color: #7f7f7f\">               </span>\n",
       "<span style=\"color: #7fbfbf; text-decoration-color: #7fbfbf\">           </span>         dtype: int64                                                                    <span style=\"color: #7f7f7f; text-decoration-color: #7f7f7f\">               </span>\n",
       "</pre>\n"
      ],
      "text/plain": [
       "\u001b[2;36m          \u001b[0m\u001b[2;36m \u001b[0m\u001b[34mINFO    \u001b[0m pclass          \u001b[1;36m0\u001b[0m                                                               \u001b]8;id=935762;file:///tmp/ipykernel_56661/3989102858.py\u001b\\\u001b[2m3989102858.py\u001b[0m\u001b]8;;\u001b\\\u001b[2m:\u001b[0m\u001b]8;id=381540;file:///tmp/ipykernel_56661/3989102858.py#3\u001b\\\u001b[2m3\u001b[0m\u001b]8;;\u001b\\\n",
       "\u001b[2;36m           \u001b[0m         survived        \u001b[1;36m0\u001b[0m                                                               \u001b[2m               \u001b[0m\n",
       "\u001b[2;36m           \u001b[0m         name            \u001b[1;36m0\u001b[0m                                                               \u001b[2m               \u001b[0m\n",
       "\u001b[2;36m           \u001b[0m         sex             \u001b[1;36m0\u001b[0m                                                               \u001b[2m               \u001b[0m\n",
       "\u001b[2;36m           \u001b[0m         age           \u001b[1;36m263\u001b[0m                                                               \u001b[2m               \u001b[0m\n",
       "\u001b[2;36m           \u001b[0m         sibsp           \u001b[1;36m0\u001b[0m                                                               \u001b[2m               \u001b[0m\n",
       "\u001b[2;36m           \u001b[0m         parch           \u001b[1;36m0\u001b[0m                                                               \u001b[2m               \u001b[0m\n",
       "\u001b[2;36m           \u001b[0m         ticket          \u001b[1;36m0\u001b[0m                                                               \u001b[2m               \u001b[0m\n",
       "\u001b[2;36m           \u001b[0m         fare            \u001b[1;36m1\u001b[0m                                                               \u001b[2m               \u001b[0m\n",
       "\u001b[2;36m           \u001b[0m         cabin        \u001b[1;36m1014\u001b[0m                                                               \u001b[2m               \u001b[0m\n",
       "\u001b[2;36m           \u001b[0m         embarked        \u001b[1;36m2\u001b[0m                                                               \u001b[2m               \u001b[0m\n",
       "\u001b[2;36m           \u001b[0m         boat          \u001b[1;36m823\u001b[0m                                                               \u001b[2m               \u001b[0m\n",
       "\u001b[2;36m           \u001b[0m         body         \u001b[1;36m1188\u001b[0m                                                               \u001b[2m               \u001b[0m\n",
       "\u001b[2;36m           \u001b[0m         home.dest     \u001b[1;36m564\u001b[0m                                                               \u001b[2m               \u001b[0m\n",
       "\u001b[2;36m           \u001b[0m         dtype: int64                                                                    \u001b[2m               \u001b[0m\n"
      ]
     },
     "metadata": {},
     "output_type": "display_data"
    },
    {
     "data": {
      "text/html": [
       "<pre style=\"white-space:pre;overflow-x:auto;line-height:normal;font-family:Menlo,'DejaVu Sans Mono',consolas,'Courier New',monospace\"><span style=\"color: #7fbfbf; text-decoration-color: #7fbfbf\">           </span><span style=\"color: #000080; text-decoration-color: #000080\">INFO    </span> DUPLICATED:                                                                     <a href=\"file:///tmp/ipykernel_56661/3989102858.py\" target=\"_blank\"><span style=\"color: #7f7f7f; text-decoration-color: #7f7f7f\">3989102858.py</span></a><span style=\"color: #7f7f7f; text-decoration-color: #7f7f7f\">:</span><a href=\"file:///tmp/ipykernel_56661/3989102858.py#4\" target=\"_blank\"><span style=\"color: #7f7f7f; text-decoration-color: #7f7f7f\">4</span></a>\n",
       "</pre>\n"
      ],
      "text/plain": [
       "\u001b[2;36m          \u001b[0m\u001b[2;36m \u001b[0m\u001b[34mINFO    \u001b[0m DUPLICATED:                                                                     \u001b]8;id=60236;file:///tmp/ipykernel_56661/3989102858.py\u001b\\\u001b[2m3989102858.py\u001b[0m\u001b]8;;\u001b\\\u001b[2m:\u001b[0m\u001b]8;id=37788;file:///tmp/ipykernel_56661/3989102858.py#4\u001b\\\u001b[2m4\u001b[0m\u001b]8;;\u001b\\\n"
      ]
     },
     "metadata": {},
     "output_type": "display_data"
    },
    {
     "data": {
      "text/html": [
       "<pre style=\"white-space:pre;overflow-x:auto;line-height:normal;font-family:Menlo,'DejaVu Sans Mono',consolas,'Courier New',monospace\"><span style=\"color: #7fbfbf; text-decoration-color: #7fbfbf\">           </span><span style=\"color: #000080; text-decoration-color: #000080\">INFO    </span> <span style=\"color: #008080; text-decoration-color: #008080; font-weight: bold\">0</span>                                                                               <a href=\"file:///tmp/ipykernel_56661/3989102858.py\" target=\"_blank\"><span style=\"color: #7f7f7f; text-decoration-color: #7f7f7f\">3989102858.py</span></a><span style=\"color: #7f7f7f; text-decoration-color: #7f7f7f\">:</span><a href=\"file:///tmp/ipykernel_56661/3989102858.py#5\" target=\"_blank\"><span style=\"color: #7f7f7f; text-decoration-color: #7f7f7f\">5</span></a>\n",
       "</pre>\n"
      ],
      "text/plain": [
       "\u001b[2;36m          \u001b[0m\u001b[2;36m \u001b[0m\u001b[34mINFO    \u001b[0m \u001b[1;36m0\u001b[0m                                                                               \u001b]8;id=34656;file:///tmp/ipykernel_56661/3989102858.py\u001b\\\u001b[2m3989102858.py\u001b[0m\u001b]8;;\u001b\\\u001b[2m:\u001b[0m\u001b]8;id=139218;file:///tmp/ipykernel_56661/3989102858.py#5\u001b\\\u001b[2m5\u001b[0m\u001b]8;;\u001b\\\n"
      ]
     },
     "metadata": {},
     "output_type": "display_data"
    }
   ],
   "source": [
    "logger.info(\"NULL: \")\n",
    "\n",
    "logger.info(df.isnull().sum())\n",
    "logger.info(\"DUPLICATED: \")\n",
    "logger.info(df.duplicated().sum())\n"
   ]
  },
  {
   "cell_type": "markdown",
   "id": "ab238ab0-fdc9-478c-ab40-cf531841ecdf",
   "metadata": {},
   "source": [
    "## PClass to OneHotEncoder! Its much clearer what is happening"
   ]
  },
  {
   "cell_type": "code",
   "execution_count": 10,
   "id": "af56f6ba-926d-44fb-bec1-c554e548b0f7",
   "metadata": {},
   "outputs": [],
   "source": [
    "enc = OneHotEncoder(handle_unknown='ignore')\n",
    "enc_df = pd.DataFrame(enc.fit_transform(df[['pclass']]).toarray()).add_prefix('class_')\n",
    "df = df.join(enc_df)\n",
    "df = df.drop(columns = ['pclass'])\n"
   ]
  },
  {
   "cell_type": "code",
   "execution_count": 11,
   "id": "3e055e5f-32f8-4e5d-bd8b-c93a6d6e2bde",
   "metadata": {},
   "outputs": [],
   "source": [
    "df['survived'] = df['survived'].astype('int8')\n"
   ]
  },
  {
   "cell_type": "code",
   "execution_count": 12,
   "id": "9daa1a4e-cf2f-4def-a070-4793dfc96cd6",
   "metadata": {},
   "outputs": [],
   "source": [
    "\n",
    "df['sibsp'] = df['sibsp'].astype('int8')\n",
    "df['sex'] = df['sex'].map({'male': 0,'female': 1}) \n",
    "df['sex'] = df['sex'].astype('int8')\n"
   ]
  },
  {
   "cell_type": "code",
   "execution_count": 13,
   "id": "454a911d-a51f-41c8-a4cb-a7774dd4fac6",
   "metadata": {},
   "outputs": [
    {
     "data": {
      "text/html": [
       "<pre style=\"white-space:pre;overflow-x:auto;line-height:normal;font-family:Menlo,'DejaVu Sans Mono',consolas,'Courier New',monospace\"><span style=\"color: #7fbfbf; text-decoration-color: #7fbfbf\">           </span><span style=\"color: #800000; text-decoration-color: #800000\">WARNING </span> Droping body, as this info is not needed                                          <a href=\"file:///tmp/ipykernel_56661/30988630.py\" target=\"_blank\"><span style=\"color: #7f7f7f; text-decoration-color: #7f7f7f\">30988630.py</span></a><span style=\"color: #7f7f7f; text-decoration-color: #7f7f7f\">:</span><a href=\"file:///tmp/ipykernel_56661/30988630.py#6\" target=\"_blank\"><span style=\"color: #7f7f7f; text-decoration-color: #7f7f7f\">6</span></a>\n",
       "</pre>\n"
      ],
      "text/plain": [
       "\u001b[2;36m          \u001b[0m\u001b[2;36m \u001b[0m\u001b[31mWARNING \u001b[0m Droping body, as this info is not needed                                          \u001b]8;id=949310;file:///tmp/ipykernel_56661/30988630.py\u001b\\\u001b[2m30988630.py\u001b[0m\u001b]8;;\u001b\\\u001b[2m:\u001b[0m\u001b]8;id=946738;file:///tmp/ipykernel_56661/30988630.py#6\u001b\\\u001b[2m6\u001b[0m\u001b]8;;\u001b\\\n"
      ]
     },
     "metadata": {},
     "output_type": "display_data"
    }
   ],
   "source": [
    "#Body means that the body was found, so if it not null this means the survived is 0. Remove it\n",
    "# if did not survive and body was recovered\n",
    "\n",
    "bodys = df[(~df['body'].isna()) & (df['survived'] == 1)]\n",
    "if bodys.shape[0] == 0:\n",
    "    logger.warning(\"Droping body, as this info is not needed\")\n",
    "    df = df.drop(columns = ['body'], axis = 1,  errors='ignore')\n",
    "\n",
    "#drop it as there is no needed information"
   ]
  },
  {
   "cell_type": "code",
   "execution_count": 14,
   "id": "950e704e-6a2f-4e1c-9a33-33efbd4b7379",
   "metadata": {},
   "outputs": [
    {
     "data": {
      "text/html": [
       "<div>\n",
       "<style scoped>\n",
       "    .dataframe tbody tr th:only-of-type {\n",
       "        vertical-align: middle;\n",
       "    }\n",
       "\n",
       "    .dataframe tbody tr th {\n",
       "        vertical-align: top;\n",
       "    }\n",
       "\n",
       "    .dataframe thead th {\n",
       "        text-align: right;\n",
       "    }\n",
       "</style>\n",
       "<table border=\"1\" class=\"dataframe\">\n",
       "  <thead>\n",
       "    <tr style=\"text-align: right;\">\n",
       "      <th></th>\n",
       "      <th>survived</th>\n",
       "      <th>name</th>\n",
       "      <th>sex</th>\n",
       "      <th>age</th>\n",
       "      <th>sibsp</th>\n",
       "      <th>parch</th>\n",
       "      <th>ticket</th>\n",
       "      <th>fare</th>\n",
       "      <th>cabin</th>\n",
       "      <th>embarked</th>\n",
       "      <th>boat</th>\n",
       "      <th>home.dest</th>\n",
       "      <th>class_0</th>\n",
       "      <th>class_1</th>\n",
       "      <th>class_2</th>\n",
       "    </tr>\n",
       "  </thead>\n",
       "  <tbody>\n",
       "    <tr>\n",
       "      <th>19</th>\n",
       "      <td>0</td>\n",
       "      <td>Beattie, Mr. Thomson</td>\n",
       "      <td>0</td>\n",
       "      <td>36.0</td>\n",
       "      <td>0</td>\n",
       "      <td>0.0</td>\n",
       "      <td>13050</td>\n",
       "      <td>75.2417</td>\n",
       "      <td>C6</td>\n",
       "      <td>C</td>\n",
       "      <td>A</td>\n",
       "      <td>Winnipeg, MN</td>\n",
       "      <td>1.0</td>\n",
       "      <td>0.0</td>\n",
       "      <td>0.0</td>\n",
       "    </tr>\n",
       "    <tr>\n",
       "      <th>166</th>\n",
       "      <td>0</td>\n",
       "      <td>Hoyt, Mr. William Fisher</td>\n",
       "      <td>0</td>\n",
       "      <td>NaN</td>\n",
       "      <td>0</td>\n",
       "      <td>0.0</td>\n",
       "      <td>PC 17600</td>\n",
       "      <td>30.6958</td>\n",
       "      <td>None</td>\n",
       "      <td>C</td>\n",
       "      <td>14</td>\n",
       "      <td>New York, NY</td>\n",
       "      <td>1.0</td>\n",
       "      <td>0.0</td>\n",
       "      <td>0.0</td>\n",
       "    </tr>\n",
       "    <tr>\n",
       "      <th>544</th>\n",
       "      <td>0</td>\n",
       "      <td>Renouf, Mr. Peter Henry</td>\n",
       "      <td>0</td>\n",
       "      <td>34.0</td>\n",
       "      <td>1</td>\n",
       "      <td>0.0</td>\n",
       "      <td>31027</td>\n",
       "      <td>21.0000</td>\n",
       "      <td>None</td>\n",
       "      <td>S</td>\n",
       "      <td>12</td>\n",
       "      <td>Elizabeth, NJ</td>\n",
       "      <td>0.0</td>\n",
       "      <td>1.0</td>\n",
       "      <td>0.0</td>\n",
       "    </tr>\n",
       "    <tr>\n",
       "      <th>655</th>\n",
       "      <td>0</td>\n",
       "      <td>Backstrom, Mr. Karl Alfred</td>\n",
       "      <td>0</td>\n",
       "      <td>32.0</td>\n",
       "      <td>1</td>\n",
       "      <td>0.0</td>\n",
       "      <td>3101278</td>\n",
       "      <td>15.8500</td>\n",
       "      <td>None</td>\n",
       "      <td>S</td>\n",
       "      <td>D</td>\n",
       "      <td>Ruotsinphytaa, Finland New York, NY</td>\n",
       "      <td>0.0</td>\n",
       "      <td>0.0</td>\n",
       "      <td>1.0</td>\n",
       "    </tr>\n",
       "    <tr>\n",
       "      <th>853</th>\n",
       "      <td>0</td>\n",
       "      <td>Harmer, Mr. Abraham (David Lishin)</td>\n",
       "      <td>0</td>\n",
       "      <td>25.0</td>\n",
       "      <td>0</td>\n",
       "      <td>0.0</td>\n",
       "      <td>374887</td>\n",
       "      <td>7.2500</td>\n",
       "      <td>None</td>\n",
       "      <td>S</td>\n",
       "      <td>B</td>\n",
       "      <td>None</td>\n",
       "      <td>0.0</td>\n",
       "      <td>0.0</td>\n",
       "      <td>1.0</td>\n",
       "    </tr>\n",
       "    <tr>\n",
       "      <th>921</th>\n",
       "      <td>0</td>\n",
       "      <td>Keefe, Mr. Arthur</td>\n",
       "      <td>0</td>\n",
       "      <td>NaN</td>\n",
       "      <td>0</td>\n",
       "      <td>0.0</td>\n",
       "      <td>323592</td>\n",
       "      <td>7.2500</td>\n",
       "      <td>None</td>\n",
       "      <td>S</td>\n",
       "      <td>A</td>\n",
       "      <td>None</td>\n",
       "      <td>0.0</td>\n",
       "      <td>0.0</td>\n",
       "      <td>1.0</td>\n",
       "    </tr>\n",
       "    <tr>\n",
       "      <th>968</th>\n",
       "      <td>0</td>\n",
       "      <td>Lindell, Mr. Edvard Bengtsson</td>\n",
       "      <td>0</td>\n",
       "      <td>36.0</td>\n",
       "      <td>1</td>\n",
       "      <td>0.0</td>\n",
       "      <td>349910</td>\n",
       "      <td>15.5500</td>\n",
       "      <td>None</td>\n",
       "      <td>S</td>\n",
       "      <td>A</td>\n",
       "      <td>None</td>\n",
       "      <td>0.0</td>\n",
       "      <td>0.0</td>\n",
       "      <td>1.0</td>\n",
       "    </tr>\n",
       "    <tr>\n",
       "      <th>969</th>\n",
       "      <td>0</td>\n",
       "      <td>Lindell, Mrs. Edvard Bengtsson (Elin Gerda Persson)</td>\n",
       "      <td>1</td>\n",
       "      <td>30.0</td>\n",
       "      <td>1</td>\n",
       "      <td>0.0</td>\n",
       "      <td>349910</td>\n",
       "      <td>15.5500</td>\n",
       "      <td>None</td>\n",
       "      <td>S</td>\n",
       "      <td>A</td>\n",
       "      <td>None</td>\n",
       "      <td>0.0</td>\n",
       "      <td>0.0</td>\n",
       "      <td>1.0</td>\n",
       "    </tr>\n",
       "    <tr>\n",
       "      <th>1299</th>\n",
       "      <td>0</td>\n",
       "      <td>Yasbeck, Mr. Antoni</td>\n",
       "      <td>0</td>\n",
       "      <td>27.0</td>\n",
       "      <td>1</td>\n",
       "      <td>0.0</td>\n",
       "      <td>2659</td>\n",
       "      <td>14.4542</td>\n",
       "      <td>None</td>\n",
       "      <td>C</td>\n",
       "      <td>C</td>\n",
       "      <td>None</td>\n",
       "      <td>0.0</td>\n",
       "      <td>0.0</td>\n",
       "      <td>1.0</td>\n",
       "    </tr>\n",
       "  </tbody>\n",
       "</table>\n",
       "</div>"
      ],
      "text/plain": [
       "      survived                                                 name  sex  \\\n",
       "19           0                                 Beattie, Mr. Thomson    0   \n",
       "166          0                             Hoyt, Mr. William Fisher    0   \n",
       "544          0                              Renouf, Mr. Peter Henry    0   \n",
       "655          0                           Backstrom, Mr. Karl Alfred    0   \n",
       "853          0                   Harmer, Mr. Abraham (David Lishin)    0   \n",
       "921          0                                    Keefe, Mr. Arthur    0   \n",
       "968          0                        Lindell, Mr. Edvard Bengtsson    0   \n",
       "969          0  Lindell, Mrs. Edvard Bengtsson (Elin Gerda Persson)    1   \n",
       "1299         0                                  Yasbeck, Mr. Antoni    0   \n",
       "\n",
       "       age  sibsp  parch    ticket     fare cabin embarked boat  \\\n",
       "19    36.0      0    0.0     13050  75.2417    C6        C    A   \n",
       "166    NaN      0    0.0  PC 17600  30.6958  None        C   14   \n",
       "544   34.0      1    0.0     31027  21.0000  None        S   12   \n",
       "655   32.0      1    0.0   3101278  15.8500  None        S    D   \n",
       "853   25.0      0    0.0    374887   7.2500  None        S    B   \n",
       "921    NaN      0    0.0    323592   7.2500  None        S    A   \n",
       "968   36.0      1    0.0    349910  15.5500  None        S    A   \n",
       "969   30.0      1    0.0    349910  15.5500  None        S    A   \n",
       "1299  27.0      1    0.0      2659  14.4542  None        C    C   \n",
       "\n",
       "                                home.dest  class_0  class_1  class_2  \n",
       "19                           Winnipeg, MN      1.0      0.0      0.0  \n",
       "166                          New York, NY      1.0      0.0      0.0  \n",
       "544                         Elizabeth, NJ      0.0      1.0      0.0  \n",
       "655   Ruotsinphytaa, Finland New York, NY      0.0      0.0      1.0  \n",
       "853                                  None      0.0      0.0      1.0  \n",
       "921                                  None      0.0      0.0      1.0  \n",
       "968                                  None      0.0      0.0      1.0  \n",
       "969                                  None      0.0      0.0      1.0  \n",
       "1299                                 None      0.0      0.0      1.0  "
      ]
     },
     "metadata": {},
     "output_type": "display_data"
    },
    {
     "data": {
      "text/plain": [
       "boat\n",
       "A     4\n",
       "14    1\n",
       "12    1\n",
       "D     1\n",
       "B     1\n",
       "C     1\n",
       "Name: count, dtype: int64"
      ]
     },
     "execution_count": 14,
     "metadata": {},
     "output_type": "execute_result"
    }
   ],
   "source": [
    "#Boat is not needed as we are trying to get info if survived, so if boat is not null its survived, right? Not really.. there are people which did not survived on boat... what to do with that?\n",
    "boats = df[(~df['boat'].isna()) & (df['survived'] == 0)]\n",
    "display(boats)\n",
    "boats['boat'].value_counts()\n",
    "#Those info are random... leave it..."
   ]
  },
  {
   "cell_type": "code",
   "execution_count": 15,
   "id": "0c210a92-702d-4458-9eb8-9f1846078722",
   "metadata": {},
   "outputs": [],
   "source": [
    "#Ticket to int, cleanup"
   ]
  },
  {
   "cell_type": "code",
   "execution_count": 16,
   "id": "aa9272b7-dff1-4c93-bd6c-06b2068f4470",
   "metadata": {
    "editable": true,
    "slideshow": {
     "slide_type": ""
    },
    "tags": []
   },
   "outputs": [],
   "source": [
    "'''sorted_tickets = df[['ticket','embarked','home.dest']].sort_values(by = 'ticket')\n",
    "for _embarked in sorted_tickets['embarked'].unique():\n",
    "    display(sorted_tickets[sorted_tickets['embarked'] == _embarked ].value_counts())\n",
    "\n",
    "#match the string from the end not begining\n",
    "'''\n",
    "df['ticket'] = df.ticket.str.extract(r'([^.]\\d+$)')\n",
    "df['ticket']  = df['ticket'].fillna('0').astype(int) # The one with value LINE, I assume they are crew members?\n"
   ]
  },
  {
   "cell_type": "code",
   "execution_count": 17,
   "id": "0e1ad830-316f-4552-8e2d-82ee01c3b28d",
   "metadata": {},
   "outputs": [],
   "source": [
    "#EMbarked cleanup"
   ]
  },
  {
   "cell_type": "code",
   "execution_count": 18,
   "id": "53e62a1b-a5c5-4b6f-bfa0-4a5c2f67f8d9",
   "metadata": {
    "editable": true,
    "slideshow": {
     "slide_type": ""
    },
    "tags": []
   },
   "outputs": [],
   "source": [
    "#Age. What to do with Nan? input a mean based on embarked, sex and class"
   ]
  },
  {
   "cell_type": "code",
   "execution_count": 27,
   "id": "bf8bd58f-80c0-4f3d-98f2-8a7a0030512f",
   "metadata": {
    "editable": true,
    "scrolled": true,
    "slideshow": {
     "slide_type": ""
    },
    "tags": []
   },
   "outputs": [
    {
     "data": {
      "text/html": [
       "<pre style=\"white-space:pre;overflow-x:auto;line-height:normal;font-family:Menlo,'DejaVu Sans Mono',consolas,'Courier New',monospace\"><span style=\"color: #7fbfbf; text-decoration-color: #7fbfbf\">[10:36:55] </span><span style=\"color: #008000; text-decoration-color: #008000\">DEBUG   </span>       survived                                             name  sex  \\         <a href=\"file:///tmp/ipykernel_56661/1467914557.py\" target=\"_blank\"><span style=\"color: #7f7f7f; text-decoration-color: #7f7f7f\">1467914557.py</span></a><span style=\"color: #7f7f7f; text-decoration-color: #7f7f7f\">:</span><a href=\"file:///tmp/ipykernel_56661/1467914557.py#3\" target=\"_blank\"><span style=\"color: #7f7f7f; text-decoration-color: #7f7f7f\">3</span></a>\n",
       "<span style=\"color: #7fbfbf; text-decoration-color: #7fbfbf\">           </span>         <span style=\"color: #008080; text-decoration-color: #008080; font-weight: bold\">0</span>            <span style=\"color: #008080; text-decoration-color: #008080; font-weight: bold\">1</span>                    Allen, Miss. Elisabeth Walton    <span style=\"color: #008080; text-decoration-color: #008080; font-weight: bold\">1</span>            <span style=\"color: #7f7f7f; text-decoration-color: #7f7f7f\">               </span>\n",
       "<span style=\"color: #7fbfbf; text-decoration-color: #7fbfbf\">           </span>         <span style=\"color: #008080; text-decoration-color: #008080; font-weight: bold\">1</span>            <span style=\"color: #008080; text-decoration-color: #008080; font-weight: bold\">1</span>                   Allison, Master. Hudson Trevor    <span style=\"color: #008080; text-decoration-color: #008080; font-weight: bold\">0</span>            <span style=\"color: #7f7f7f; text-decoration-color: #7f7f7f\">               </span>\n",
       "<span style=\"color: #7fbfbf; text-decoration-color: #7fbfbf\">           </span>         <span style=\"color: #008080; text-decoration-color: #008080; font-weight: bold\">2</span>            <span style=\"color: #008080; text-decoration-color: #008080; font-weight: bold\">0</span>                     Allison, Miss. Helen Loraine    <span style=\"color: #008080; text-decoration-color: #008080; font-weight: bold\">1</span>            <span style=\"color: #7f7f7f; text-decoration-color: #7f7f7f\">               </span>\n",
       "<span style=\"color: #7fbfbf; text-decoration-color: #7fbfbf\">           </span>         <span style=\"color: #008080; text-decoration-color: #008080; font-weight: bold\">3</span>            <span style=\"color: #008080; text-decoration-color: #008080; font-weight: bold\">0</span>             Allison, Mr. Hudson Joshua Creighton    <span style=\"color: #008080; text-decoration-color: #008080; font-weight: bold\">0</span>            <span style=\"color: #7f7f7f; text-decoration-color: #7f7f7f\">               </span>\n",
       "<span style=\"color: #7fbfbf; text-decoration-color: #7fbfbf\">           </span>         <span style=\"color: #008080; text-decoration-color: #008080; font-weight: bold\">4</span>            <span style=\"color: #008080; text-decoration-color: #008080; font-weight: bold\">0</span>  Allison, Mrs. Hudson J C <span style=\"font-weight: bold\">(</span>Bessie Waldo Daniels<span style=\"font-weight: bold\">)</span>    <span style=\"color: #008080; text-decoration-color: #008080; font-weight: bold\">1</span>            <span style=\"color: #7f7f7f; text-decoration-color: #7f7f7f\">               </span>\n",
       "<span style=\"color: #7fbfbf; text-decoration-color: #7fbfbf\">           </span>         <span style=\"color: #808000; text-decoration-color: #808000\">...</span>        <span style=\"color: #808000; text-decoration-color: #808000\">...</span>                                              <span style=\"color: #808000; text-decoration-color: #808000\">...</span>  <span style=\"color: #808000; text-decoration-color: #808000\">...</span>            <span style=\"color: #7f7f7f; text-decoration-color: #7f7f7f\">               </span>\n",
       "<span style=\"color: #7fbfbf; text-decoration-color: #7fbfbf\">           </span>         <span style=\"color: #008080; text-decoration-color: #008080; font-weight: bold\">1304</span>         <span style=\"color: #008080; text-decoration-color: #008080; font-weight: bold\">0</span>                             Zabour, Miss. Hileni    <span style=\"color: #008080; text-decoration-color: #008080; font-weight: bold\">1</span>            <span style=\"color: #7f7f7f; text-decoration-color: #7f7f7f\">               </span>\n",
       "<span style=\"color: #7fbfbf; text-decoration-color: #7fbfbf\">           </span>         <span style=\"color: #008080; text-decoration-color: #008080; font-weight: bold\">1305</span>         <span style=\"color: #008080; text-decoration-color: #008080; font-weight: bold\">0</span>                            Zabour, Miss. Thamine    <span style=\"color: #008080; text-decoration-color: #008080; font-weight: bold\">1</span>            <span style=\"color: #7f7f7f; text-decoration-color: #7f7f7f\">               </span>\n",
       "<span style=\"color: #7fbfbf; text-decoration-color: #7fbfbf\">           </span>         <span style=\"color: #008080; text-decoration-color: #008080; font-weight: bold\">1306</span>         <span style=\"color: #008080; text-decoration-color: #008080; font-weight: bold\">0</span>                        Zakarian, Mr. Mapriededer    <span style=\"color: #008080; text-decoration-color: #008080; font-weight: bold\">0</span>            <span style=\"color: #7f7f7f; text-decoration-color: #7f7f7f\">               </span>\n",
       "<span style=\"color: #7fbfbf; text-decoration-color: #7fbfbf\">           </span>         <span style=\"color: #008080; text-decoration-color: #008080; font-weight: bold\">1307</span>         <span style=\"color: #008080; text-decoration-color: #008080; font-weight: bold\">0</span>                              Zakarian, Mr. Ortin    <span style=\"color: #008080; text-decoration-color: #008080; font-weight: bold\">0</span>            <span style=\"color: #7f7f7f; text-decoration-color: #7f7f7f\">               </span>\n",
       "<span style=\"color: #7fbfbf; text-decoration-color: #7fbfbf\">           </span>         <span style=\"color: #008080; text-decoration-color: #008080; font-weight: bold\">1308</span>         <span style=\"color: #008080; text-decoration-color: #008080; font-weight: bold\">0</span>                               Zimmerman, Mr. Leo    <span style=\"color: #008080; text-decoration-color: #008080; font-weight: bold\">0</span>            <span style=\"color: #7f7f7f; text-decoration-color: #7f7f7f\">               </span>\n",
       "<span style=\"color: #7fbfbf; text-decoration-color: #7fbfbf\">           </span>                                                                                         <span style=\"color: #7f7f7f; text-decoration-color: #7f7f7f\">               </span>\n",
       "<span style=\"color: #7fbfbf; text-decoration-color: #7fbfbf\">           </span>                     age  sibsp  parch  ticket      fare    cabin embarked  boat  \\      <span style=\"color: #7f7f7f; text-decoration-color: #7f7f7f\">               </span>\n",
       "<span style=\"color: #7fbfbf; text-decoration-color: #7fbfbf\">           </span>         <span style=\"color: #008080; text-decoration-color: #008080; font-weight: bold\">0</span>     <span style=\"color: #008080; text-decoration-color: #008080; font-weight: bold\">29.000000</span>      <span style=\"color: #008080; text-decoration-color: #008080; font-weight: bold\">0</span>    <span style=\"color: #008080; text-decoration-color: #008080; font-weight: bold\">0.0</span>   <span style=\"color: #008080; text-decoration-color: #008080; font-weight: bold\">24160</span>  <span style=\"color: #008080; text-decoration-color: #008080; font-weight: bold\">211.3375</span>       B5        S     <span style=\"color: #008080; text-decoration-color: #008080; font-weight: bold\">2</span>         <span style=\"color: #7f7f7f; text-decoration-color: #7f7f7f\">               </span>\n",
       "<span style=\"color: #7fbfbf; text-decoration-color: #7fbfbf\">           </span>         <span style=\"color: #008080; text-decoration-color: #008080; font-weight: bold\">1</span>      <span style=\"color: #008080; text-decoration-color: #008080; font-weight: bold\">0.916700</span>      <span style=\"color: #008080; text-decoration-color: #008080; font-weight: bold\">1</span>    <span style=\"color: #008080; text-decoration-color: #008080; font-weight: bold\">2.0</span>  <span style=\"color: #008080; text-decoration-color: #008080; font-weight: bold\">113781</span>  <span style=\"color: #008080; text-decoration-color: #008080; font-weight: bold\">151.5500</span>  C22 C26        S    <span style=\"color: #008080; text-decoration-color: #008080; font-weight: bold\">11</span>         <span style=\"color: #7f7f7f; text-decoration-color: #7f7f7f\">               </span>\n",
       "<span style=\"color: #7fbfbf; text-decoration-color: #7fbfbf\">           </span>         <span style=\"color: #008080; text-decoration-color: #008080; font-weight: bold\">2</span>      <span style=\"color: #008080; text-decoration-color: #008080; font-weight: bold\">2.000000</span>      <span style=\"color: #008080; text-decoration-color: #008080; font-weight: bold\">1</span>    <span style=\"color: #008080; text-decoration-color: #008080; font-weight: bold\">2.0</span>  <span style=\"color: #008080; text-decoration-color: #008080; font-weight: bold\">113781</span>  <span style=\"color: #008080; text-decoration-color: #008080; font-weight: bold\">151.5500</span>  C22 C26        S  <span style=\"color: #800080; text-decoration-color: #800080; font-style: italic\">None</span>         <span style=\"color: #7f7f7f; text-decoration-color: #7f7f7f\">               </span>\n",
       "<span style=\"color: #7fbfbf; text-decoration-color: #7fbfbf\">           </span>         <span style=\"color: #008080; text-decoration-color: #008080; font-weight: bold\">3</span>     <span style=\"color: #008080; text-decoration-color: #008080; font-weight: bold\">30.000000</span>      <span style=\"color: #008080; text-decoration-color: #008080; font-weight: bold\">1</span>    <span style=\"color: #008080; text-decoration-color: #008080; font-weight: bold\">2.0</span>  <span style=\"color: #008080; text-decoration-color: #008080; font-weight: bold\">113781</span>  <span style=\"color: #008080; text-decoration-color: #008080; font-weight: bold\">151.5500</span>  C22 C26        S  <span style=\"color: #800080; text-decoration-color: #800080; font-style: italic\">None</span>         <span style=\"color: #7f7f7f; text-decoration-color: #7f7f7f\">               </span>\n",
       "<span style=\"color: #7fbfbf; text-decoration-color: #7fbfbf\">           </span>         <span style=\"color: #008080; text-decoration-color: #008080; font-weight: bold\">4</span>     <span style=\"color: #008080; text-decoration-color: #008080; font-weight: bold\">25.000000</span>      <span style=\"color: #008080; text-decoration-color: #008080; font-weight: bold\">1</span>    <span style=\"color: #008080; text-decoration-color: #008080; font-weight: bold\">2.0</span>  <span style=\"color: #008080; text-decoration-color: #008080; font-weight: bold\">113781</span>  <span style=\"color: #008080; text-decoration-color: #008080; font-weight: bold\">151.5500</span>  C22 C26        S  <span style=\"color: #800080; text-decoration-color: #800080; font-style: italic\">None</span>         <span style=\"color: #7f7f7f; text-decoration-color: #7f7f7f\">               </span>\n",
       "<span style=\"color: #7fbfbf; text-decoration-color: #7fbfbf\">           </span>         <span style=\"color: #808000; text-decoration-color: #808000\">...</span>         <span style=\"color: #808000; text-decoration-color: #808000\">...</span>    <span style=\"color: #808000; text-decoration-color: #808000\">...</span>    <span style=\"color: #808000; text-decoration-color: #808000\">...</span>     <span style=\"color: #808000; text-decoration-color: #808000\">...</span>       <span style=\"color: #808000; text-decoration-color: #808000\">...</span>      <span style=\"color: #808000; text-decoration-color: #808000\">...</span>      <span style=\"color: #808000; text-decoration-color: #808000\">...</span>   <span style=\"color: #808000; text-decoration-color: #808000\">...</span>         <span style=\"color: #7f7f7f; text-decoration-color: #7f7f7f\">               </span>\n",
       "<span style=\"color: #7fbfbf; text-decoration-color: #7fbfbf\">           </span>         <span style=\"color: #008080; text-decoration-color: #008080; font-weight: bold\">1304</span>  <span style=\"color: #008080; text-decoration-color: #008080; font-weight: bold\">14.500000</span>      <span style=\"color: #008080; text-decoration-color: #008080; font-weight: bold\">1</span>    <span style=\"color: #008080; text-decoration-color: #008080; font-weight: bold\">0.0</span>    <span style=\"color: #008080; text-decoration-color: #008080; font-weight: bold\">2665</span>   <span style=\"color: #008080; text-decoration-color: #008080; font-weight: bold\">14.4542</span>     <span style=\"color: #800080; text-decoration-color: #800080; font-style: italic\">None</span>        C  <span style=\"color: #800080; text-decoration-color: #800080; font-style: italic\">None</span>         <span style=\"color: #7f7f7f; text-decoration-color: #7f7f7f\">               </span>\n",
       "<span style=\"color: #7fbfbf; text-decoration-color: #7fbfbf\">           </span>         <span style=\"color: #008080; text-decoration-color: #008080; font-weight: bold\">1305</span>  <span style=\"color: #008080; text-decoration-color: #008080; font-weight: bold\">16.818182</span>      <span style=\"color: #008080; text-decoration-color: #008080; font-weight: bold\">1</span>    <span style=\"color: #008080; text-decoration-color: #008080; font-weight: bold\">0.0</span>    <span style=\"color: #008080; text-decoration-color: #008080; font-weight: bold\">2665</span>   <span style=\"color: #008080; text-decoration-color: #008080; font-weight: bold\">14.4542</span>     <span style=\"color: #800080; text-decoration-color: #800080; font-style: italic\">None</span>        C  <span style=\"color: #800080; text-decoration-color: #800080; font-style: italic\">None</span>         <span style=\"color: #7f7f7f; text-decoration-color: #7f7f7f\">               </span>\n",
       "<span style=\"color: #7fbfbf; text-decoration-color: #7fbfbf\">           </span>         <span style=\"color: #008080; text-decoration-color: #008080; font-weight: bold\">1306</span>  <span style=\"color: #008080; text-decoration-color: #008080; font-weight: bold\">26.500000</span>      <span style=\"color: #008080; text-decoration-color: #008080; font-weight: bold\">0</span>    <span style=\"color: #008080; text-decoration-color: #008080; font-weight: bold\">0.0</span>    <span style=\"color: #008080; text-decoration-color: #008080; font-weight: bold\">2656</span>    <span style=\"color: #008080; text-decoration-color: #008080; font-weight: bold\">7.2250</span>     <span style=\"color: #800080; text-decoration-color: #800080; font-style: italic\">None</span>        C  <span style=\"color: #800080; text-decoration-color: #800080; font-style: italic\">None</span>         <span style=\"color: #7f7f7f; text-decoration-color: #7f7f7f\">               </span>\n",
       "<span style=\"color: #7fbfbf; text-decoration-color: #7fbfbf\">           </span>         <span style=\"color: #008080; text-decoration-color: #008080; font-weight: bold\">1307</span>  <span style=\"color: #008080; text-decoration-color: #008080; font-weight: bold\">27.000000</span>      <span style=\"color: #008080; text-decoration-color: #008080; font-weight: bold\">0</span>    <span style=\"color: #008080; text-decoration-color: #008080; font-weight: bold\">0.0</span>    <span style=\"color: #008080; text-decoration-color: #008080; font-weight: bold\">2670</span>    <span style=\"color: #008080; text-decoration-color: #008080; font-weight: bold\">7.2250</span>     <span style=\"color: #800080; text-decoration-color: #800080; font-style: italic\">None</span>        C  <span style=\"color: #800080; text-decoration-color: #800080; font-style: italic\">None</span>         <span style=\"color: #7f7f7f; text-decoration-color: #7f7f7f\">               </span>\n",
       "<span style=\"color: #7fbfbf; text-decoration-color: #7fbfbf\">           </span>         <span style=\"color: #008080; text-decoration-color: #008080; font-weight: bold\">1308</span>  <span style=\"color: #008080; text-decoration-color: #008080; font-weight: bold\">29.000000</span>      <span style=\"color: #008080; text-decoration-color: #008080; font-weight: bold\">0</span>    <span style=\"color: #008080; text-decoration-color: #008080; font-weight: bold\">0.0</span>  <span style=\"color: #008080; text-decoration-color: #008080; font-weight: bold\">315082</span>    <span style=\"color: #008080; text-decoration-color: #008080; font-weight: bold\">7.8750</span>     <span style=\"color: #800080; text-decoration-color: #800080; font-style: italic\">None</span>        S  <span style=\"color: #800080; text-decoration-color: #800080; font-style: italic\">None</span>         <span style=\"color: #7f7f7f; text-decoration-color: #7f7f7f\">               </span>\n",
       "<span style=\"color: #7fbfbf; text-decoration-color: #7fbfbf\">           </span>                                                                                         <span style=\"color: #7f7f7f; text-decoration-color: #7f7f7f\">               </span>\n",
       "<span style=\"color: #7fbfbf; text-decoration-color: #7fbfbf\">           </span>                                     home.dest  class_0  class_1  class_2                <span style=\"color: #7f7f7f; text-decoration-color: #7f7f7f\">               </span>\n",
       "<span style=\"color: #7fbfbf; text-decoration-color: #7fbfbf\">           </span>         <span style=\"color: #008080; text-decoration-color: #008080; font-weight: bold\">0</span>                        St Louis, MO      <span style=\"color: #008080; text-decoration-color: #008080; font-weight: bold\">1.0</span>      <span style=\"color: #008080; text-decoration-color: #008080; font-weight: bold\">0.0</span>      <span style=\"color: #008080; text-decoration-color: #008080; font-weight: bold\">0.0</span>                <span style=\"color: #7f7f7f; text-decoration-color: #7f7f7f\">               </span>\n",
       "<span style=\"color: #7fbfbf; text-decoration-color: #7fbfbf\">           </span>         <span style=\"color: #008080; text-decoration-color: #008080; font-weight: bold\">1</span>     Montreal, PQ <span style=\"color: #800080; text-decoration-color: #800080\">/</span> Chesterville, ON      <span style=\"color: #008080; text-decoration-color: #008080; font-weight: bold\">1.0</span>      <span style=\"color: #008080; text-decoration-color: #008080; font-weight: bold\">0.0</span>      <span style=\"color: #008080; text-decoration-color: #008080; font-weight: bold\">0.0</span>                <span style=\"color: #7f7f7f; text-decoration-color: #7f7f7f\">               </span>\n",
       "<span style=\"color: #7fbfbf; text-decoration-color: #7fbfbf\">           </span>         <span style=\"color: #008080; text-decoration-color: #008080; font-weight: bold\">2</span>     Montreal, PQ <span style=\"color: #800080; text-decoration-color: #800080\">/</span> Chesterville, ON      <span style=\"color: #008080; text-decoration-color: #008080; font-weight: bold\">1.0</span>      <span style=\"color: #008080; text-decoration-color: #008080; font-weight: bold\">0.0</span>      <span style=\"color: #008080; text-decoration-color: #008080; font-weight: bold\">0.0</span>                <span style=\"color: #7f7f7f; text-decoration-color: #7f7f7f\">               </span>\n",
       "<span style=\"color: #7fbfbf; text-decoration-color: #7fbfbf\">           </span>         <span style=\"color: #008080; text-decoration-color: #008080; font-weight: bold\">3</span>     Montreal, PQ <span style=\"color: #800080; text-decoration-color: #800080\">/</span> Chesterville, ON      <span style=\"color: #008080; text-decoration-color: #008080; font-weight: bold\">1.0</span>      <span style=\"color: #008080; text-decoration-color: #008080; font-weight: bold\">0.0</span>      <span style=\"color: #008080; text-decoration-color: #008080; font-weight: bold\">0.0</span>                <span style=\"color: #7f7f7f; text-decoration-color: #7f7f7f\">               </span>\n",
       "<span style=\"color: #7fbfbf; text-decoration-color: #7fbfbf\">           </span>         <span style=\"color: #008080; text-decoration-color: #008080; font-weight: bold\">4</span>     Montreal, PQ <span style=\"color: #800080; text-decoration-color: #800080\">/</span> Chesterville, ON      <span style=\"color: #008080; text-decoration-color: #008080; font-weight: bold\">1.0</span>      <span style=\"color: #008080; text-decoration-color: #008080; font-weight: bold\">0.0</span>      <span style=\"color: #008080; text-decoration-color: #008080; font-weight: bold\">0.0</span>                <span style=\"color: #7f7f7f; text-decoration-color: #7f7f7f\">               </span>\n",
       "<span style=\"color: #7fbfbf; text-decoration-color: #7fbfbf\">           </span>         <span style=\"color: #808000; text-decoration-color: #808000\">...</span>                               <span style=\"color: #808000; text-decoration-color: #808000\">...</span>      <span style=\"color: #808000; text-decoration-color: #808000\">...</span>      <span style=\"color: #808000; text-decoration-color: #808000\">...</span>      <span style=\"color: #808000; text-decoration-color: #808000\">...</span>                <span style=\"color: #7f7f7f; text-decoration-color: #7f7f7f\">               </span>\n",
       "<span style=\"color: #7fbfbf; text-decoration-color: #7fbfbf\">           </span>         <span style=\"color: #008080; text-decoration-color: #008080; font-weight: bold\">1304</span>                             <span style=\"color: #800080; text-decoration-color: #800080; font-style: italic\">None</span>      <span style=\"color: #008080; text-decoration-color: #008080; font-weight: bold\">0.0</span>      <span style=\"color: #008080; text-decoration-color: #008080; font-weight: bold\">0.0</span>      <span style=\"color: #008080; text-decoration-color: #008080; font-weight: bold\">1.0</span>                <span style=\"color: #7f7f7f; text-decoration-color: #7f7f7f\">               </span>\n",
       "<span style=\"color: #7fbfbf; text-decoration-color: #7fbfbf\">           </span>         <span style=\"color: #008080; text-decoration-color: #008080; font-weight: bold\">1305</span>                             <span style=\"color: #800080; text-decoration-color: #800080; font-style: italic\">None</span>      <span style=\"color: #008080; text-decoration-color: #008080; font-weight: bold\">0.0</span>      <span style=\"color: #008080; text-decoration-color: #008080; font-weight: bold\">0.0</span>      <span style=\"color: #008080; text-decoration-color: #008080; font-weight: bold\">1.0</span>                <span style=\"color: #7f7f7f; text-decoration-color: #7f7f7f\">               </span>\n",
       "<span style=\"color: #7fbfbf; text-decoration-color: #7fbfbf\">           </span>         <span style=\"color: #008080; text-decoration-color: #008080; font-weight: bold\">1306</span>                             <span style=\"color: #800080; text-decoration-color: #800080; font-style: italic\">None</span>      <span style=\"color: #008080; text-decoration-color: #008080; font-weight: bold\">0.0</span>      <span style=\"color: #008080; text-decoration-color: #008080; font-weight: bold\">0.0</span>      <span style=\"color: #008080; text-decoration-color: #008080; font-weight: bold\">1.0</span>                <span style=\"color: #7f7f7f; text-decoration-color: #7f7f7f\">               </span>\n",
       "<span style=\"color: #7fbfbf; text-decoration-color: #7fbfbf\">           </span>         <span style=\"color: #008080; text-decoration-color: #008080; font-weight: bold\">1307</span>                             <span style=\"color: #800080; text-decoration-color: #800080; font-style: italic\">None</span>      <span style=\"color: #008080; text-decoration-color: #008080; font-weight: bold\">0.0</span>      <span style=\"color: #008080; text-decoration-color: #008080; font-weight: bold\">0.0</span>      <span style=\"color: #008080; text-decoration-color: #008080; font-weight: bold\">1.0</span>                <span style=\"color: #7f7f7f; text-decoration-color: #7f7f7f\">               </span>\n",
       "<span style=\"color: #7fbfbf; text-decoration-color: #7fbfbf\">           </span>         <span style=\"color: #008080; text-decoration-color: #008080; font-weight: bold\">1308</span>                             <span style=\"color: #800080; text-decoration-color: #800080; font-style: italic\">None</span>      <span style=\"color: #008080; text-decoration-color: #008080; font-weight: bold\">0.0</span>      <span style=\"color: #008080; text-decoration-color: #008080; font-weight: bold\">0.0</span>      <span style=\"color: #008080; text-decoration-color: #008080; font-weight: bold\">1.0</span>                <span style=\"color: #7f7f7f; text-decoration-color: #7f7f7f\">               </span>\n",
       "<span style=\"color: #7fbfbf; text-decoration-color: #7fbfbf\">           </span>                                                                                         <span style=\"color: #7f7f7f; text-decoration-color: #7f7f7f\">               </span>\n",
       "<span style=\"color: #7fbfbf; text-decoration-color: #7fbfbf\">           </span>         <span style=\"font-weight: bold\">[</span><span style=\"color: #008080; text-decoration-color: #008080; font-weight: bold\">1307</span> rows x <span style=\"color: #008080; text-decoration-color: #008080; font-weight: bold\">15</span> columns<span style=\"font-weight: bold\">]</span>                                                        <span style=\"color: #7f7f7f; text-decoration-color: #7f7f7f\">               </span>\n",
       "</pre>\n"
      ],
      "text/plain": [
       "\u001b[2;36m[10:36:55]\u001b[0m\u001b[2;36m \u001b[0m\u001b[32mDEBUG   \u001b[0m       survived                                             name  sex  \\         \u001b]8;id=523307;file:///tmp/ipykernel_56661/1467914557.py\u001b\\\u001b[2m1467914557.py\u001b[0m\u001b]8;;\u001b\\\u001b[2m:\u001b[0m\u001b]8;id=681483;file:///tmp/ipykernel_56661/1467914557.py#3\u001b\\\u001b[2m3\u001b[0m\u001b]8;;\u001b\\\n",
       "\u001b[2;36m           \u001b[0m         \u001b[1;36m0\u001b[0m            \u001b[1;36m1\u001b[0m                    Allen, Miss. Elisabeth Walton    \u001b[1;36m1\u001b[0m            \u001b[2m               \u001b[0m\n",
       "\u001b[2;36m           \u001b[0m         \u001b[1;36m1\u001b[0m            \u001b[1;36m1\u001b[0m                   Allison, Master. Hudson Trevor    \u001b[1;36m0\u001b[0m            \u001b[2m               \u001b[0m\n",
       "\u001b[2;36m           \u001b[0m         \u001b[1;36m2\u001b[0m            \u001b[1;36m0\u001b[0m                     Allison, Miss. Helen Loraine    \u001b[1;36m1\u001b[0m            \u001b[2m               \u001b[0m\n",
       "\u001b[2;36m           \u001b[0m         \u001b[1;36m3\u001b[0m            \u001b[1;36m0\u001b[0m             Allison, Mr. Hudson Joshua Creighton    \u001b[1;36m0\u001b[0m            \u001b[2m               \u001b[0m\n",
       "\u001b[2;36m           \u001b[0m         \u001b[1;36m4\u001b[0m            \u001b[1;36m0\u001b[0m  Allison, Mrs. Hudson J C \u001b[1m(\u001b[0mBessie Waldo Daniels\u001b[1m)\u001b[0m    \u001b[1;36m1\u001b[0m            \u001b[2m               \u001b[0m\n",
       "\u001b[2;36m           \u001b[0m         \u001b[33m...\u001b[0m        \u001b[33m...\u001b[0m                                              \u001b[33m...\u001b[0m  \u001b[33m...\u001b[0m            \u001b[2m               \u001b[0m\n",
       "\u001b[2;36m           \u001b[0m         \u001b[1;36m1304\u001b[0m         \u001b[1;36m0\u001b[0m                             Zabour, Miss. Hileni    \u001b[1;36m1\u001b[0m            \u001b[2m               \u001b[0m\n",
       "\u001b[2;36m           \u001b[0m         \u001b[1;36m1305\u001b[0m         \u001b[1;36m0\u001b[0m                            Zabour, Miss. Thamine    \u001b[1;36m1\u001b[0m            \u001b[2m               \u001b[0m\n",
       "\u001b[2;36m           \u001b[0m         \u001b[1;36m1306\u001b[0m         \u001b[1;36m0\u001b[0m                        Zakarian, Mr. Mapriededer    \u001b[1;36m0\u001b[0m            \u001b[2m               \u001b[0m\n",
       "\u001b[2;36m           \u001b[0m         \u001b[1;36m1307\u001b[0m         \u001b[1;36m0\u001b[0m                              Zakarian, Mr. Ortin    \u001b[1;36m0\u001b[0m            \u001b[2m               \u001b[0m\n",
       "\u001b[2;36m           \u001b[0m         \u001b[1;36m1308\u001b[0m         \u001b[1;36m0\u001b[0m                               Zimmerman, Mr. Leo    \u001b[1;36m0\u001b[0m            \u001b[2m               \u001b[0m\n",
       "\u001b[2;36m           \u001b[0m                                                                                         \u001b[2m               \u001b[0m\n",
       "\u001b[2;36m           \u001b[0m                     age  sibsp  parch  ticket      fare    cabin embarked  boat  \\      \u001b[2m               \u001b[0m\n",
       "\u001b[2;36m           \u001b[0m         \u001b[1;36m0\u001b[0m     \u001b[1;36m29.000000\u001b[0m      \u001b[1;36m0\u001b[0m    \u001b[1;36m0.0\u001b[0m   \u001b[1;36m24160\u001b[0m  \u001b[1;36m211.3375\u001b[0m       B5        S     \u001b[1;36m2\u001b[0m         \u001b[2m               \u001b[0m\n",
       "\u001b[2;36m           \u001b[0m         \u001b[1;36m1\u001b[0m      \u001b[1;36m0.916700\u001b[0m      \u001b[1;36m1\u001b[0m    \u001b[1;36m2.0\u001b[0m  \u001b[1;36m113781\u001b[0m  \u001b[1;36m151.5500\u001b[0m  C22 C26        S    \u001b[1;36m11\u001b[0m         \u001b[2m               \u001b[0m\n",
       "\u001b[2;36m           \u001b[0m         \u001b[1;36m2\u001b[0m      \u001b[1;36m2.000000\u001b[0m      \u001b[1;36m1\u001b[0m    \u001b[1;36m2.0\u001b[0m  \u001b[1;36m113781\u001b[0m  \u001b[1;36m151.5500\u001b[0m  C22 C26        S  \u001b[3;35mNone\u001b[0m         \u001b[2m               \u001b[0m\n",
       "\u001b[2;36m           \u001b[0m         \u001b[1;36m3\u001b[0m     \u001b[1;36m30.000000\u001b[0m      \u001b[1;36m1\u001b[0m    \u001b[1;36m2.0\u001b[0m  \u001b[1;36m113781\u001b[0m  \u001b[1;36m151.5500\u001b[0m  C22 C26        S  \u001b[3;35mNone\u001b[0m         \u001b[2m               \u001b[0m\n",
       "\u001b[2;36m           \u001b[0m         \u001b[1;36m4\u001b[0m     \u001b[1;36m25.000000\u001b[0m      \u001b[1;36m1\u001b[0m    \u001b[1;36m2.0\u001b[0m  \u001b[1;36m113781\u001b[0m  \u001b[1;36m151.5500\u001b[0m  C22 C26        S  \u001b[3;35mNone\u001b[0m         \u001b[2m               \u001b[0m\n",
       "\u001b[2;36m           \u001b[0m         \u001b[33m...\u001b[0m         \u001b[33m...\u001b[0m    \u001b[33m...\u001b[0m    \u001b[33m...\u001b[0m     \u001b[33m...\u001b[0m       \u001b[33m...\u001b[0m      \u001b[33m...\u001b[0m      \u001b[33m...\u001b[0m   \u001b[33m...\u001b[0m         \u001b[2m               \u001b[0m\n",
       "\u001b[2;36m           \u001b[0m         \u001b[1;36m1304\u001b[0m  \u001b[1;36m14.500000\u001b[0m      \u001b[1;36m1\u001b[0m    \u001b[1;36m0.0\u001b[0m    \u001b[1;36m2665\u001b[0m   \u001b[1;36m14.4542\u001b[0m     \u001b[3;35mNone\u001b[0m        C  \u001b[3;35mNone\u001b[0m         \u001b[2m               \u001b[0m\n",
       "\u001b[2;36m           \u001b[0m         \u001b[1;36m1305\u001b[0m  \u001b[1;36m16.818182\u001b[0m      \u001b[1;36m1\u001b[0m    \u001b[1;36m0.0\u001b[0m    \u001b[1;36m2665\u001b[0m   \u001b[1;36m14.4542\u001b[0m     \u001b[3;35mNone\u001b[0m        C  \u001b[3;35mNone\u001b[0m         \u001b[2m               \u001b[0m\n",
       "\u001b[2;36m           \u001b[0m         \u001b[1;36m1306\u001b[0m  \u001b[1;36m26.500000\u001b[0m      \u001b[1;36m0\u001b[0m    \u001b[1;36m0.0\u001b[0m    \u001b[1;36m2656\u001b[0m    \u001b[1;36m7.2250\u001b[0m     \u001b[3;35mNone\u001b[0m        C  \u001b[3;35mNone\u001b[0m         \u001b[2m               \u001b[0m\n",
       "\u001b[2;36m           \u001b[0m         \u001b[1;36m1307\u001b[0m  \u001b[1;36m27.000000\u001b[0m      \u001b[1;36m0\u001b[0m    \u001b[1;36m0.0\u001b[0m    \u001b[1;36m2670\u001b[0m    \u001b[1;36m7.2250\u001b[0m     \u001b[3;35mNone\u001b[0m        C  \u001b[3;35mNone\u001b[0m         \u001b[2m               \u001b[0m\n",
       "\u001b[2;36m           \u001b[0m         \u001b[1;36m1308\u001b[0m  \u001b[1;36m29.000000\u001b[0m      \u001b[1;36m0\u001b[0m    \u001b[1;36m0.0\u001b[0m  \u001b[1;36m315082\u001b[0m    \u001b[1;36m7.8750\u001b[0m     \u001b[3;35mNone\u001b[0m        S  \u001b[3;35mNone\u001b[0m         \u001b[2m               \u001b[0m\n",
       "\u001b[2;36m           \u001b[0m                                                                                         \u001b[2m               \u001b[0m\n",
       "\u001b[2;36m           \u001b[0m                                     home.dest  class_0  class_1  class_2                \u001b[2m               \u001b[0m\n",
       "\u001b[2;36m           \u001b[0m         \u001b[1;36m0\u001b[0m                        St Louis, MO      \u001b[1;36m1.0\u001b[0m      \u001b[1;36m0.0\u001b[0m      \u001b[1;36m0.0\u001b[0m                \u001b[2m               \u001b[0m\n",
       "\u001b[2;36m           \u001b[0m         \u001b[1;36m1\u001b[0m     Montreal, PQ \u001b[35m/\u001b[0m Chesterville, ON      \u001b[1;36m1.0\u001b[0m      \u001b[1;36m0.0\u001b[0m      \u001b[1;36m0.0\u001b[0m                \u001b[2m               \u001b[0m\n",
       "\u001b[2;36m           \u001b[0m         \u001b[1;36m2\u001b[0m     Montreal, PQ \u001b[35m/\u001b[0m Chesterville, ON      \u001b[1;36m1.0\u001b[0m      \u001b[1;36m0.0\u001b[0m      \u001b[1;36m0.0\u001b[0m                \u001b[2m               \u001b[0m\n",
       "\u001b[2;36m           \u001b[0m         \u001b[1;36m3\u001b[0m     Montreal, PQ \u001b[35m/\u001b[0m Chesterville, ON      \u001b[1;36m1.0\u001b[0m      \u001b[1;36m0.0\u001b[0m      \u001b[1;36m0.0\u001b[0m                \u001b[2m               \u001b[0m\n",
       "\u001b[2;36m           \u001b[0m         \u001b[1;36m4\u001b[0m     Montreal, PQ \u001b[35m/\u001b[0m Chesterville, ON      \u001b[1;36m1.0\u001b[0m      \u001b[1;36m0.0\u001b[0m      \u001b[1;36m0.0\u001b[0m                \u001b[2m               \u001b[0m\n",
       "\u001b[2;36m           \u001b[0m         \u001b[33m...\u001b[0m                               \u001b[33m...\u001b[0m      \u001b[33m...\u001b[0m      \u001b[33m...\u001b[0m      \u001b[33m...\u001b[0m                \u001b[2m               \u001b[0m\n",
       "\u001b[2;36m           \u001b[0m         \u001b[1;36m1304\u001b[0m                             \u001b[3;35mNone\u001b[0m      \u001b[1;36m0.0\u001b[0m      \u001b[1;36m0.0\u001b[0m      \u001b[1;36m1.0\u001b[0m                \u001b[2m               \u001b[0m\n",
       "\u001b[2;36m           \u001b[0m         \u001b[1;36m1305\u001b[0m                             \u001b[3;35mNone\u001b[0m      \u001b[1;36m0.0\u001b[0m      \u001b[1;36m0.0\u001b[0m      \u001b[1;36m1.0\u001b[0m                \u001b[2m               \u001b[0m\n",
       "\u001b[2;36m           \u001b[0m         \u001b[1;36m1306\u001b[0m                             \u001b[3;35mNone\u001b[0m      \u001b[1;36m0.0\u001b[0m      \u001b[1;36m0.0\u001b[0m      \u001b[1;36m1.0\u001b[0m                \u001b[2m               \u001b[0m\n",
       "\u001b[2;36m           \u001b[0m         \u001b[1;36m1307\u001b[0m                             \u001b[3;35mNone\u001b[0m      \u001b[1;36m0.0\u001b[0m      \u001b[1;36m0.0\u001b[0m      \u001b[1;36m1.0\u001b[0m                \u001b[2m               \u001b[0m\n",
       "\u001b[2;36m           \u001b[0m         \u001b[1;36m1308\u001b[0m                             \u001b[3;35mNone\u001b[0m      \u001b[1;36m0.0\u001b[0m      \u001b[1;36m0.0\u001b[0m      \u001b[1;36m1.0\u001b[0m                \u001b[2m               \u001b[0m\n",
       "\u001b[2;36m           \u001b[0m                                                                                         \u001b[2m               \u001b[0m\n",
       "\u001b[2;36m           \u001b[0m         \u001b[1m[\u001b[0m\u001b[1;36m1307\u001b[0m rows x \u001b[1;36m15\u001b[0m columns\u001b[1m]\u001b[0m                                                        \u001b[2m               \u001b[0m\n"
      ]
     },
     "metadata": {},
     "output_type": "display_data"
    },
    {
     "data": {
      "text/html": [
       "<pre style=\"white-space:pre;overflow-x:auto;line-height:normal;font-family:Menlo,'DejaVu Sans Mono',consolas,'Courier New',monospace\"><span style=\"color: #7fbfbf; text-decoration-color: #7fbfbf\">           </span><span style=\"color: #008000; text-decoration-color: #008000\">DEBUG   </span> EMBARKED : S                                                                    <a href=\"file:///tmp/ipykernel_56661/1467914557.py\" target=\"_blank\"><span style=\"color: #7f7f7f; text-decoration-color: #7f7f7f\">1467914557.py</span></a><span style=\"color: #7f7f7f; text-decoration-color: #7f7f7f\">:</span><a href=\"file:///tmp/ipykernel_56661/1467914557.py#6\" target=\"_blank\"><span style=\"color: #7f7f7f; text-decoration-color: #7f7f7f\">6</span></a>\n",
       "</pre>\n"
      ],
      "text/plain": [
       "\u001b[2;36m          \u001b[0m\u001b[2;36m \u001b[0m\u001b[32mDEBUG   \u001b[0m EMBARKED : S                                                                    \u001b]8;id=146306;file:///tmp/ipykernel_56661/1467914557.py\u001b\\\u001b[2m1467914557.py\u001b[0m\u001b]8;;\u001b\\\u001b[2m:\u001b[0m\u001b]8;id=920070;file:///tmp/ipykernel_56661/1467914557.py#6\u001b\\\u001b[2m6\u001b[0m\u001b]8;;\u001b\\\n"
      ]
     },
     "metadata": {},
     "output_type": "display_data"
    },
    {
     "data": {
      "text/html": [
       "<pre style=\"white-space:pre;overflow-x:auto;line-height:normal;font-family:Menlo,'DejaVu Sans Mono',consolas,'Courier New',monospace\"><span style=\"color: #7fbfbf; text-decoration-color: #7fbfbf\">           </span><span style=\"color: #008000; text-decoration-color: #008000\">DEBUG   </span> SEX : <span style=\"color: #008080; text-decoration-color: #008080; font-weight: bold\">0</span>                                                                         <a href=\"file:///tmp/ipykernel_56661/1467914557.py\" target=\"_blank\"><span style=\"color: #7f7f7f; text-decoration-color: #7f7f7f\">1467914557.py</span></a><span style=\"color: #7f7f7f; text-decoration-color: #7f7f7f\">:</span><a href=\"file:///tmp/ipykernel_56661/1467914557.py#8\" target=\"_blank\"><span style=\"color: #7f7f7f; text-decoration-color: #7f7f7f\">8</span></a>\n",
       "</pre>\n"
      ],
      "text/plain": [
       "\u001b[2;36m          \u001b[0m\u001b[2;36m \u001b[0m\u001b[32mDEBUG   \u001b[0m SEX : \u001b[1;36m0\u001b[0m                                                                         \u001b]8;id=473922;file:///tmp/ipykernel_56661/1467914557.py\u001b\\\u001b[2m1467914557.py\u001b[0m\u001b]8;;\u001b\\\u001b[2m:\u001b[0m\u001b]8;id=470631;file:///tmp/ipykernel_56661/1467914557.py#8\u001b\\\u001b[2m8\u001b[0m\u001b]8;;\u001b\\\n"
      ]
     },
     "metadata": {},
     "output_type": "display_data"
    },
    {
     "data": {
      "text/html": [
       "<pre style=\"white-space:pre;overflow-x:auto;line-height:normal;font-family:Menlo,'DejaVu Sans Mono',consolas,'Courier New',monospace\"><span style=\"color: #7fbfbf; text-decoration-color: #7fbfbf\">           </span><span style=\"color: #008000; text-decoration-color: #008000\">DEBUG   </span> CLASS : class_0                                                                <a href=\"file:///tmp/ipykernel_56661/1467914557.py\" target=\"_blank\"><span style=\"color: #7f7f7f; text-decoration-color: #7f7f7f\">1467914557.py</span></a><span style=\"color: #7f7f7f; text-decoration-color: #7f7f7f\">:</span><a href=\"file:///tmp/ipykernel_56661/1467914557.py#11\" target=\"_blank\"><span style=\"color: #7f7f7f; text-decoration-color: #7f7f7f\">11</span></a>\n",
       "</pre>\n"
      ],
      "text/plain": [
       "\u001b[2;36m          \u001b[0m\u001b[2;36m \u001b[0m\u001b[32mDEBUG   \u001b[0m CLASS : class_0                                                                \u001b]8;id=977449;file:///tmp/ipykernel_56661/1467914557.py\u001b\\\u001b[2m1467914557.py\u001b[0m\u001b]8;;\u001b\\\u001b[2m:\u001b[0m\u001b]8;id=217793;file:///tmp/ipykernel_56661/1467914557.py#11\u001b\\\u001b[2m11\u001b[0m\u001b]8;;\u001b\\\n"
      ]
     },
     "metadata": {},
     "output_type": "display_data"
    },
    {
     "data": {
      "text/html": [
       "<pre style=\"white-space:pre;overflow-x:auto;line-height:normal;font-family:Menlo,'DejaVu Sans Mono',consolas,'Courier New',monospace\"><span style=\"color: #7fbfbf; text-decoration-color: #7fbfbf\">           </span><span style=\"color: #008000; text-decoration-color: #008000\">DEBUG   </span> AGE_MEAN : <span style=\"color: #008080; text-decoration-color: #008080; font-weight: bold\">41.705939080459764</span>                                                  <a href=\"file:///tmp/ipykernel_56661/1467914557.py\" target=\"_blank\"><span style=\"color: #7f7f7f; text-decoration-color: #7f7f7f\">1467914557.py</span></a><span style=\"color: #7f7f7f; text-decoration-color: #7f7f7f\">:</span><a href=\"file:///tmp/ipykernel_56661/1467914557.py#14\" target=\"_blank\"><span style=\"color: #7f7f7f; text-decoration-color: #7f7f7f\">14</span></a>\n",
       "</pre>\n"
      ],
      "text/plain": [
       "\u001b[2;36m          \u001b[0m\u001b[2;36m \u001b[0m\u001b[32mDEBUG   \u001b[0m AGE_MEAN : \u001b[1;36m41.705939080459764\u001b[0m                                                  \u001b]8;id=483791;file:///tmp/ipykernel_56661/1467914557.py\u001b\\\u001b[2m1467914557.py\u001b[0m\u001b]8;;\u001b\\\u001b[2m:\u001b[0m\u001b]8;id=213162;file:///tmp/ipykernel_56661/1467914557.py#14\u001b\\\u001b[2m14\u001b[0m\u001b]8;;\u001b\\\n"
      ]
     },
     "metadata": {},
     "output_type": "display_data"
    },
    {
     "data": {
      "text/html": [
       "<pre style=\"white-space:pre;overflow-x:auto;line-height:normal;font-family:Menlo,'DejaVu Sans Mono',consolas,'Courier New',monospace\"><span style=\"color: #7fbfbf; text-decoration-color: #7fbfbf\">           </span><span style=\"color: #008000; text-decoration-color: #008000\">DEBUG   </span> CLASS : class_1                                                                <a href=\"file:///tmp/ipykernel_56661/1467914557.py\" target=\"_blank\"><span style=\"color: #7f7f7f; text-decoration-color: #7f7f7f\">1467914557.py</span></a><span style=\"color: #7f7f7f; text-decoration-color: #7f7f7f\">:</span><a href=\"file:///tmp/ipykernel_56661/1467914557.py#11\" target=\"_blank\"><span style=\"color: #7f7f7f; text-decoration-color: #7f7f7f\">11</span></a>\n",
       "</pre>\n"
      ],
      "text/plain": [
       "\u001b[2;36m          \u001b[0m\u001b[2;36m \u001b[0m\u001b[32mDEBUG   \u001b[0m CLASS : class_1                                                                \u001b]8;id=517226;file:///tmp/ipykernel_56661/1467914557.py\u001b\\\u001b[2m1467914557.py\u001b[0m\u001b]8;;\u001b\\\u001b[2m:\u001b[0m\u001b]8;id=140722;file:///tmp/ipykernel_56661/1467914557.py#11\u001b\\\u001b[2m11\u001b[0m\u001b]8;;\u001b\\\n"
      ]
     },
     "metadata": {},
     "output_type": "display_data"
    },
    {
     "data": {
      "text/html": [
       "<pre style=\"white-space:pre;overflow-x:auto;line-height:normal;font-family:Menlo,'DejaVu Sans Mono',consolas,'Courier New',monospace\"><span style=\"color: #7fbfbf; text-decoration-color: #7fbfbf\">           </span><span style=\"color: #008000; text-decoration-color: #008000\">DEBUG   </span> AGE_MEAN : <span style=\"color: #008080; text-decoration-color: #008080; font-weight: bold\">30.491725531914895</span>                                                  <a href=\"file:///tmp/ipykernel_56661/1467914557.py\" target=\"_blank\"><span style=\"color: #7f7f7f; text-decoration-color: #7f7f7f\">1467914557.py</span></a><span style=\"color: #7f7f7f; text-decoration-color: #7f7f7f\">:</span><a href=\"file:///tmp/ipykernel_56661/1467914557.py#14\" target=\"_blank\"><span style=\"color: #7f7f7f; text-decoration-color: #7f7f7f\">14</span></a>\n",
       "</pre>\n"
      ],
      "text/plain": [
       "\u001b[2;36m          \u001b[0m\u001b[2;36m \u001b[0m\u001b[32mDEBUG   \u001b[0m AGE_MEAN : \u001b[1;36m30.491725531914895\u001b[0m                                                  \u001b]8;id=994080;file:///tmp/ipykernel_56661/1467914557.py\u001b\\\u001b[2m1467914557.py\u001b[0m\u001b]8;;\u001b\\\u001b[2m:\u001b[0m\u001b]8;id=215517;file:///tmp/ipykernel_56661/1467914557.py#14\u001b\\\u001b[2m14\u001b[0m\u001b]8;;\u001b\\\n"
      ]
     },
     "metadata": {},
     "output_type": "display_data"
    },
    {
     "data": {
      "text/html": [
       "<pre style=\"white-space:pre;overflow-x:auto;line-height:normal;font-family:Menlo,'DejaVu Sans Mono',consolas,'Courier New',monospace\"><span style=\"color: #7fbfbf; text-decoration-color: #7fbfbf\">           </span><span style=\"color: #008000; text-decoration-color: #008000\">DEBUG   </span> CLASS : class_2                                                                <a href=\"file:///tmp/ipykernel_56661/1467914557.py\" target=\"_blank\"><span style=\"color: #7f7f7f; text-decoration-color: #7f7f7f\">1467914557.py</span></a><span style=\"color: #7f7f7f; text-decoration-color: #7f7f7f\">:</span><a href=\"file:///tmp/ipykernel_56661/1467914557.py#11\" target=\"_blank\"><span style=\"color: #7f7f7f; text-decoration-color: #7f7f7f\">11</span></a>\n",
       "</pre>\n"
      ],
      "text/plain": [
       "\u001b[2;36m          \u001b[0m\u001b[2;36m \u001b[0m\u001b[32mDEBUG   \u001b[0m CLASS : class_2                                                                \u001b]8;id=510317;file:///tmp/ipykernel_56661/1467914557.py\u001b\\\u001b[2m1467914557.py\u001b[0m\u001b]8;;\u001b\\\u001b[2m:\u001b[0m\u001b]8;id=790911;file:///tmp/ipykernel_56661/1467914557.py#11\u001b\\\u001b[2m11\u001b[0m\u001b]8;;\u001b\\\n"
      ]
     },
     "metadata": {},
     "output_type": "display_data"
    },
    {
     "data": {
      "text/html": [
       "<pre style=\"white-space:pre;overflow-x:auto;line-height:normal;font-family:Menlo,'DejaVu Sans Mono',consolas,'Courier New',monospace\"><span style=\"color: #7fbfbf; text-decoration-color: #7fbfbf\">           </span><span style=\"color: #008000; text-decoration-color: #008000\">DEBUG   </span> AGE_MEAN : <span style=\"color: #008080; text-decoration-color: #008080; font-weight: bold\">26.146264137931038</span>                                                  <a href=\"file:///tmp/ipykernel_56661/1467914557.py\" target=\"_blank\"><span style=\"color: #7f7f7f; text-decoration-color: #7f7f7f\">1467914557.py</span></a><span style=\"color: #7f7f7f; text-decoration-color: #7f7f7f\">:</span><a href=\"file:///tmp/ipykernel_56661/1467914557.py#14\" target=\"_blank\"><span style=\"color: #7f7f7f; text-decoration-color: #7f7f7f\">14</span></a>\n",
       "</pre>\n"
      ],
      "text/plain": [
       "\u001b[2;36m          \u001b[0m\u001b[2;36m \u001b[0m\u001b[32mDEBUG   \u001b[0m AGE_MEAN : \u001b[1;36m26.146264137931038\u001b[0m                                                  \u001b]8;id=768041;file:///tmp/ipykernel_56661/1467914557.py\u001b\\\u001b[2m1467914557.py\u001b[0m\u001b]8;;\u001b\\\u001b[2m:\u001b[0m\u001b]8;id=956314;file:///tmp/ipykernel_56661/1467914557.py#14\u001b\\\u001b[2m14\u001b[0m\u001b]8;;\u001b\\\n"
      ]
     },
     "metadata": {},
     "output_type": "display_data"
    },
    {
     "data": {
      "text/html": [
       "<pre style=\"white-space:pre;overflow-x:auto;line-height:normal;font-family:Menlo,'DejaVu Sans Mono',consolas,'Courier New',monospace\"><span style=\"color: #7fbfbf; text-decoration-color: #7fbfbf\">           </span><span style=\"color: #008000; text-decoration-color: #008000\">DEBUG   </span> SEX : <span style=\"color: #008080; text-decoration-color: #008080; font-weight: bold\">1</span>                                                                         <a href=\"file:///tmp/ipykernel_56661/1467914557.py\" target=\"_blank\"><span style=\"color: #7f7f7f; text-decoration-color: #7f7f7f\">1467914557.py</span></a><span style=\"color: #7f7f7f; text-decoration-color: #7f7f7f\">:</span><a href=\"file:///tmp/ipykernel_56661/1467914557.py#8\" target=\"_blank\"><span style=\"color: #7f7f7f; text-decoration-color: #7f7f7f\">8</span></a>\n",
       "</pre>\n"
      ],
      "text/plain": [
       "\u001b[2;36m          \u001b[0m\u001b[2;36m \u001b[0m\u001b[32mDEBUG   \u001b[0m SEX : \u001b[1;36m1\u001b[0m                                                                         \u001b]8;id=353260;file:///tmp/ipykernel_56661/1467914557.py\u001b\\\u001b[2m1467914557.py\u001b[0m\u001b]8;;\u001b\\\u001b[2m:\u001b[0m\u001b]8;id=841125;file:///tmp/ipykernel_56661/1467914557.py#8\u001b\\\u001b[2m8\u001b[0m\u001b]8;;\u001b\\\n"
      ]
     },
     "metadata": {},
     "output_type": "display_data"
    },
    {
     "data": {
      "text/html": [
       "<pre style=\"white-space:pre;overflow-x:auto;line-height:normal;font-family:Menlo,'DejaVu Sans Mono',consolas,'Courier New',monospace\"><span style=\"color: #7fbfbf; text-decoration-color: #7fbfbf\">           </span><span style=\"color: #008000; text-decoration-color: #008000\">DEBUG   </span> CLASS : class_0                                                                <a href=\"file:///tmp/ipykernel_56661/1467914557.py\" target=\"_blank\"><span style=\"color: #7f7f7f; text-decoration-color: #7f7f7f\">1467914557.py</span></a><span style=\"color: #7f7f7f; text-decoration-color: #7f7f7f\">:</span><a href=\"file:///tmp/ipykernel_56661/1467914557.py#11\" target=\"_blank\"><span style=\"color: #7f7f7f; text-decoration-color: #7f7f7f\">11</span></a>\n",
       "</pre>\n"
      ],
      "text/plain": [
       "\u001b[2;36m          \u001b[0m\u001b[2;36m \u001b[0m\u001b[32mDEBUG   \u001b[0m CLASS : class_0                                                                \u001b]8;id=829154;file:///tmp/ipykernel_56661/1467914557.py\u001b\\\u001b[2m1467914557.py\u001b[0m\u001b]8;;\u001b\\\u001b[2m:\u001b[0m\u001b]8;id=572520;file:///tmp/ipykernel_56661/1467914557.py#11\u001b\\\u001b[2m11\u001b[0m\u001b]8;;\u001b\\\n"
      ]
     },
     "metadata": {},
     "output_type": "display_data"
    },
    {
     "data": {
      "text/html": [
       "<pre style=\"white-space:pre;overflow-x:auto;line-height:normal;font-family:Menlo,'DejaVu Sans Mono',consolas,'Courier New',monospace\"><span style=\"color: #7fbfbf; text-decoration-color: #7fbfbf\">           </span><span style=\"color: #008000; text-decoration-color: #008000\">DEBUG   </span> AGE_MEAN : <span style=\"color: #008080; text-decoration-color: #008080; font-weight: bold\">35.609375</span>                                                           <a href=\"file:///tmp/ipykernel_56661/1467914557.py\" target=\"_blank\"><span style=\"color: #7f7f7f; text-decoration-color: #7f7f7f\">1467914557.py</span></a><span style=\"color: #7f7f7f; text-decoration-color: #7f7f7f\">:</span><a href=\"file:///tmp/ipykernel_56661/1467914557.py#14\" target=\"_blank\"><span style=\"color: #7f7f7f; text-decoration-color: #7f7f7f\">14</span></a>\n",
       "</pre>\n"
      ],
      "text/plain": [
       "\u001b[2;36m          \u001b[0m\u001b[2;36m \u001b[0m\u001b[32mDEBUG   \u001b[0m AGE_MEAN : \u001b[1;36m35.609375\u001b[0m                                                           \u001b]8;id=42373;file:///tmp/ipykernel_56661/1467914557.py\u001b\\\u001b[2m1467914557.py\u001b[0m\u001b]8;;\u001b\\\u001b[2m:\u001b[0m\u001b]8;id=739583;file:///tmp/ipykernel_56661/1467914557.py#14\u001b\\\u001b[2m14\u001b[0m\u001b]8;;\u001b\\\n"
      ]
     },
     "metadata": {},
     "output_type": "display_data"
    },
    {
     "data": {
      "text/html": [
       "<pre style=\"white-space:pre;overflow-x:auto;line-height:normal;font-family:Menlo,'DejaVu Sans Mono',consolas,'Courier New',monospace\"><span style=\"color: #7fbfbf; text-decoration-color: #7fbfbf\">           </span><span style=\"color: #008000; text-decoration-color: #008000\">DEBUG   </span> CLASS : class_1                                                                <a href=\"file:///tmp/ipykernel_56661/1467914557.py\" target=\"_blank\"><span style=\"color: #7f7f7f; text-decoration-color: #7f7f7f\">1467914557.py</span></a><span style=\"color: #7f7f7f; text-decoration-color: #7f7f7f\">:</span><a href=\"file:///tmp/ipykernel_56661/1467914557.py#11\" target=\"_blank\"><span style=\"color: #7f7f7f; text-decoration-color: #7f7f7f\">11</span></a>\n",
       "</pre>\n"
      ],
      "text/plain": [
       "\u001b[2;36m          \u001b[0m\u001b[2;36m \u001b[0m\u001b[32mDEBUG   \u001b[0m CLASS : class_1                                                                \u001b]8;id=903303;file:///tmp/ipykernel_56661/1467914557.py\u001b\\\u001b[2m1467914557.py\u001b[0m\u001b]8;;\u001b\\\u001b[2m:\u001b[0m\u001b]8;id=430899;file:///tmp/ipykernel_56661/1467914557.py#11\u001b\\\u001b[2m11\u001b[0m\u001b]8;;\u001b\\\n"
      ]
     },
     "metadata": {},
     "output_type": "display_data"
    },
    {
     "data": {
      "text/html": [
       "<pre style=\"white-space:pre;overflow-x:auto;line-height:normal;font-family:Menlo,'DejaVu Sans Mono',consolas,'Courier New',monospace\"><span style=\"color: #7fbfbf; text-decoration-color: #7fbfbf\">           </span><span style=\"color: #008000; text-decoration-color: #008000\">DEBUG   </span> AGE_MEAN : <span style=\"color: #008080; text-decoration-color: #008080; font-weight: bold\">28.455128571428574</span>                                                  <a href=\"file:///tmp/ipykernel_56661/1467914557.py\" target=\"_blank\"><span style=\"color: #7f7f7f; text-decoration-color: #7f7f7f\">1467914557.py</span></a><span style=\"color: #7f7f7f; text-decoration-color: #7f7f7f\">:</span><a href=\"file:///tmp/ipykernel_56661/1467914557.py#14\" target=\"_blank\"><span style=\"color: #7f7f7f; text-decoration-color: #7f7f7f\">14</span></a>\n",
       "</pre>\n"
      ],
      "text/plain": [
       "\u001b[2;36m          \u001b[0m\u001b[2;36m \u001b[0m\u001b[32mDEBUG   \u001b[0m AGE_MEAN : \u001b[1;36m28.455128571428574\u001b[0m                                                  \u001b]8;id=737240;file:///tmp/ipykernel_56661/1467914557.py\u001b\\\u001b[2m1467914557.py\u001b[0m\u001b]8;;\u001b\\\u001b[2m:\u001b[0m\u001b]8;id=20942;file:///tmp/ipykernel_56661/1467914557.py#14\u001b\\\u001b[2m14\u001b[0m\u001b]8;;\u001b\\\n"
      ]
     },
     "metadata": {},
     "output_type": "display_data"
    },
    {
     "data": {
      "text/html": [
       "<pre style=\"white-space:pre;overflow-x:auto;line-height:normal;font-family:Menlo,'DejaVu Sans Mono',consolas,'Courier New',monospace\"><span style=\"color: #7fbfbf; text-decoration-color: #7fbfbf\">           </span><span style=\"color: #008000; text-decoration-color: #008000\">DEBUG   </span> CLASS : class_2                                                                <a href=\"file:///tmp/ipykernel_56661/1467914557.py\" target=\"_blank\"><span style=\"color: #7f7f7f; text-decoration-color: #7f7f7f\">1467914557.py</span></a><span style=\"color: #7f7f7f; text-decoration-color: #7f7f7f\">:</span><a href=\"file:///tmp/ipykernel_56661/1467914557.py#11\" target=\"_blank\"><span style=\"color: #7f7f7f; text-decoration-color: #7f7f7f\">11</span></a>\n",
       "</pre>\n"
      ],
      "text/plain": [
       "\u001b[2;36m          \u001b[0m\u001b[2;36m \u001b[0m\u001b[32mDEBUG   \u001b[0m CLASS : class_2                                                                \u001b]8;id=792005;file:///tmp/ipykernel_56661/1467914557.py\u001b\\\u001b[2m1467914557.py\u001b[0m\u001b]8;;\u001b\\\u001b[2m:\u001b[0m\u001b]8;id=269811;file:///tmp/ipykernel_56661/1467914557.py#11\u001b\\\u001b[2m11\u001b[0m\u001b]8;;\u001b\\\n"
      ]
     },
     "metadata": {},
     "output_type": "display_data"
    },
    {
     "data": {
      "text/html": [
       "<pre style=\"white-space:pre;overflow-x:auto;line-height:normal;font-family:Menlo,'DejaVu Sans Mono',consolas,'Courier New',monospace\"><span style=\"color: #7fbfbf; text-decoration-color: #7fbfbf\">           </span><span style=\"color: #008000; text-decoration-color: #008000\">DEBUG   </span> AGE_MEAN : <span style=\"color: #008080; text-decoration-color: #008080; font-weight: bold\">22.85474036697247</span>                                                   <a href=\"file:///tmp/ipykernel_56661/1467914557.py\" target=\"_blank\"><span style=\"color: #7f7f7f; text-decoration-color: #7f7f7f\">1467914557.py</span></a><span style=\"color: #7f7f7f; text-decoration-color: #7f7f7f\">:</span><a href=\"file:///tmp/ipykernel_56661/1467914557.py#14\" target=\"_blank\"><span style=\"color: #7f7f7f; text-decoration-color: #7f7f7f\">14</span></a>\n",
       "</pre>\n"
      ],
      "text/plain": [
       "\u001b[2;36m          \u001b[0m\u001b[2;36m \u001b[0m\u001b[32mDEBUG   \u001b[0m AGE_MEAN : \u001b[1;36m22.85474036697247\u001b[0m                                                   \u001b]8;id=730033;file:///tmp/ipykernel_56661/1467914557.py\u001b\\\u001b[2m1467914557.py\u001b[0m\u001b]8;;\u001b\\\u001b[2m:\u001b[0m\u001b]8;id=378658;file:///tmp/ipykernel_56661/1467914557.py#14\u001b\\\u001b[2m14\u001b[0m\u001b]8;;\u001b\\\n"
      ]
     },
     "metadata": {},
     "output_type": "display_data"
    },
    {
     "data": {
      "text/html": [
       "<pre style=\"white-space:pre;overflow-x:auto;line-height:normal;font-family:Menlo,'DejaVu Sans Mono',consolas,'Courier New',monospace\"><span style=\"color: #7fbfbf; text-decoration-color: #7fbfbf\">           </span><span style=\"color: #008000; text-decoration-color: #008000\">DEBUG   </span> EMBARKED : C                                                                    <a href=\"file:///tmp/ipykernel_56661/1467914557.py\" target=\"_blank\"><span style=\"color: #7f7f7f; text-decoration-color: #7f7f7f\">1467914557.py</span></a><span style=\"color: #7f7f7f; text-decoration-color: #7f7f7f\">:</span><a href=\"file:///tmp/ipykernel_56661/1467914557.py#6\" target=\"_blank\"><span style=\"color: #7f7f7f; text-decoration-color: #7f7f7f\">6</span></a>\n",
       "</pre>\n"
      ],
      "text/plain": [
       "\u001b[2;36m          \u001b[0m\u001b[2;36m \u001b[0m\u001b[32mDEBUG   \u001b[0m EMBARKED : C                                                                    \u001b]8;id=611335;file:///tmp/ipykernel_56661/1467914557.py\u001b\\\u001b[2m1467914557.py\u001b[0m\u001b]8;;\u001b\\\u001b[2m:\u001b[0m\u001b]8;id=177404;file:///tmp/ipykernel_56661/1467914557.py#6\u001b\\\u001b[2m6\u001b[0m\u001b]8;;\u001b\\\n"
      ]
     },
     "metadata": {},
     "output_type": "display_data"
    },
    {
     "data": {
      "text/html": [
       "<pre style=\"white-space:pre;overflow-x:auto;line-height:normal;font-family:Menlo,'DejaVu Sans Mono',consolas,'Courier New',monospace\"><span style=\"color: #7fbfbf; text-decoration-color: #7fbfbf\">           </span><span style=\"color: #008000; text-decoration-color: #008000\">DEBUG   </span> SEX : <span style=\"color: #008080; text-decoration-color: #008080; font-weight: bold\">0</span>                                                                         <a href=\"file:///tmp/ipykernel_56661/1467914557.py\" target=\"_blank\"><span style=\"color: #7f7f7f; text-decoration-color: #7f7f7f\">1467914557.py</span></a><span style=\"color: #7f7f7f; text-decoration-color: #7f7f7f\">:</span><a href=\"file:///tmp/ipykernel_56661/1467914557.py#8\" target=\"_blank\"><span style=\"color: #7f7f7f; text-decoration-color: #7f7f7f\">8</span></a>\n",
       "</pre>\n"
      ],
      "text/plain": [
       "\u001b[2;36m          \u001b[0m\u001b[2;36m \u001b[0m\u001b[32mDEBUG   \u001b[0m SEX : \u001b[1;36m0\u001b[0m                                                                         \u001b]8;id=290895;file:///tmp/ipykernel_56661/1467914557.py\u001b\\\u001b[2m1467914557.py\u001b[0m\u001b]8;;\u001b\\\u001b[2m:\u001b[0m\u001b]8;id=511099;file:///tmp/ipykernel_56661/1467914557.py#8\u001b\\\u001b[2m8\u001b[0m\u001b]8;;\u001b\\\n"
      ]
     },
     "metadata": {},
     "output_type": "display_data"
    },
    {
     "data": {
      "text/html": [
       "<pre style=\"white-space:pre;overflow-x:auto;line-height:normal;font-family:Menlo,'DejaVu Sans Mono',consolas,'Courier New',monospace\"><span style=\"color: #7fbfbf; text-decoration-color: #7fbfbf\">           </span><span style=\"color: #008000; text-decoration-color: #008000\">DEBUG   </span> CLASS : class_0                                                                <a href=\"file:///tmp/ipykernel_56661/1467914557.py\" target=\"_blank\"><span style=\"color: #7f7f7f; text-decoration-color: #7f7f7f\">1467914557.py</span></a><span style=\"color: #7f7f7f; text-decoration-color: #7f7f7f\">:</span><a href=\"file:///tmp/ipykernel_56661/1467914557.py#11\" target=\"_blank\"><span style=\"color: #7f7f7f; text-decoration-color: #7f7f7f\">11</span></a>\n",
       "</pre>\n"
      ],
      "text/plain": [
       "\u001b[2;36m          \u001b[0m\u001b[2;36m \u001b[0m\u001b[32mDEBUG   \u001b[0m CLASS : class_0                                                                \u001b]8;id=665256;file:///tmp/ipykernel_56661/1467914557.py\u001b\\\u001b[2m1467914557.py\u001b[0m\u001b]8;;\u001b\\\u001b[2m:\u001b[0m\u001b]8;id=332984;file:///tmp/ipykernel_56661/1467914557.py#11\u001b\\\u001b[2m11\u001b[0m\u001b]8;;\u001b\\\n"
      ]
     },
     "metadata": {},
     "output_type": "display_data"
    },
    {
     "data": {
      "text/html": [
       "<pre style=\"white-space:pre;overflow-x:auto;line-height:normal;font-family:Menlo,'DejaVu Sans Mono',consolas,'Courier New',monospace\"><span style=\"color: #7fbfbf; text-decoration-color: #7fbfbf\">           </span><span style=\"color: #008000; text-decoration-color: #008000\">DEBUG   </span> AGE_MEAN : <span style=\"color: #008080; text-decoration-color: #008080; font-weight: bold\">40.047619047619044</span>                                                  <a href=\"file:///tmp/ipykernel_56661/1467914557.py\" target=\"_blank\"><span style=\"color: #7f7f7f; text-decoration-color: #7f7f7f\">1467914557.py</span></a><span style=\"color: #7f7f7f; text-decoration-color: #7f7f7f\">:</span><a href=\"file:///tmp/ipykernel_56661/1467914557.py#14\" target=\"_blank\"><span style=\"color: #7f7f7f; text-decoration-color: #7f7f7f\">14</span></a>\n",
       "</pre>\n"
      ],
      "text/plain": [
       "\u001b[2;36m          \u001b[0m\u001b[2;36m \u001b[0m\u001b[32mDEBUG   \u001b[0m AGE_MEAN : \u001b[1;36m40.047619047619044\u001b[0m                                                  \u001b]8;id=646250;file:///tmp/ipykernel_56661/1467914557.py\u001b\\\u001b[2m1467914557.py\u001b[0m\u001b]8;;\u001b\\\u001b[2m:\u001b[0m\u001b]8;id=755597;file:///tmp/ipykernel_56661/1467914557.py#14\u001b\\\u001b[2m14\u001b[0m\u001b]8;;\u001b\\\n"
      ]
     },
     "metadata": {},
     "output_type": "display_data"
    },
    {
     "data": {
      "text/html": [
       "<pre style=\"white-space:pre;overflow-x:auto;line-height:normal;font-family:Menlo,'DejaVu Sans Mono',consolas,'Courier New',monospace\"><span style=\"color: #7fbfbf; text-decoration-color: #7fbfbf\">           </span><span style=\"color: #008000; text-decoration-color: #008000\">DEBUG   </span> CLASS : class_1                                                                <a href=\"file:///tmp/ipykernel_56661/1467914557.py\" target=\"_blank\"><span style=\"color: #7f7f7f; text-decoration-color: #7f7f7f\">1467914557.py</span></a><span style=\"color: #7f7f7f; text-decoration-color: #7f7f7f\">:</span><a href=\"file:///tmp/ipykernel_56661/1467914557.py#11\" target=\"_blank\"><span style=\"color: #7f7f7f; text-decoration-color: #7f7f7f\">11</span></a>\n",
       "</pre>\n"
      ],
      "text/plain": [
       "\u001b[2;36m          \u001b[0m\u001b[2;36m \u001b[0m\u001b[32mDEBUG   \u001b[0m CLASS : class_1                                                                \u001b]8;id=853550;file:///tmp/ipykernel_56661/1467914557.py\u001b\\\u001b[2m1467914557.py\u001b[0m\u001b]8;;\u001b\\\u001b[2m:\u001b[0m\u001b]8;id=321606;file:///tmp/ipykernel_56661/1467914557.py#11\u001b\\\u001b[2m11\u001b[0m\u001b]8;;\u001b\\\n"
      ]
     },
     "metadata": {},
     "output_type": "display_data"
    },
    {
     "data": {
      "text/html": [
       "<pre style=\"white-space:pre;overflow-x:auto;line-height:normal;font-family:Menlo,'DejaVu Sans Mono',consolas,'Courier New',monospace\"><span style=\"color: #7fbfbf; text-decoration-color: #7fbfbf\">           </span><span style=\"color: #008000; text-decoration-color: #008000\">DEBUG   </span> AGE_MEAN : <span style=\"color: #008080; text-decoration-color: #008080; font-weight: bold\">27.26923076923077</span>                                                   <a href=\"file:///tmp/ipykernel_56661/1467914557.py\" target=\"_blank\"><span style=\"color: #7f7f7f; text-decoration-color: #7f7f7f\">1467914557.py</span></a><span style=\"color: #7f7f7f; text-decoration-color: #7f7f7f\">:</span><a href=\"file:///tmp/ipykernel_56661/1467914557.py#14\" target=\"_blank\"><span style=\"color: #7f7f7f; text-decoration-color: #7f7f7f\">14</span></a>\n",
       "</pre>\n"
      ],
      "text/plain": [
       "\u001b[2;36m          \u001b[0m\u001b[2;36m \u001b[0m\u001b[32mDEBUG   \u001b[0m AGE_MEAN : \u001b[1;36m27.26923076923077\u001b[0m                                                   \u001b]8;id=423852;file:///tmp/ipykernel_56661/1467914557.py\u001b\\\u001b[2m1467914557.py\u001b[0m\u001b]8;;\u001b\\\u001b[2m:\u001b[0m\u001b]8;id=999131;file:///tmp/ipykernel_56661/1467914557.py#14\u001b\\\u001b[2m14\u001b[0m\u001b]8;;\u001b\\\n"
      ]
     },
     "metadata": {},
     "output_type": "display_data"
    },
    {
     "data": {
      "text/html": [
       "<pre style=\"white-space:pre;overflow-x:auto;line-height:normal;font-family:Menlo,'DejaVu Sans Mono',consolas,'Courier New',monospace\"><span style=\"color: #7fbfbf; text-decoration-color: #7fbfbf\">           </span><span style=\"color: #008000; text-decoration-color: #008000\">DEBUG   </span> CLASS : class_2                                                                <a href=\"file:///tmp/ipykernel_56661/1467914557.py\" target=\"_blank\"><span style=\"color: #7f7f7f; text-decoration-color: #7f7f7f\">1467914557.py</span></a><span style=\"color: #7f7f7f; text-decoration-color: #7f7f7f\">:</span><a href=\"file:///tmp/ipykernel_56661/1467914557.py#11\" target=\"_blank\"><span style=\"color: #7f7f7f; text-decoration-color: #7f7f7f\">11</span></a>\n",
       "</pre>\n"
      ],
      "text/plain": [
       "\u001b[2;36m          \u001b[0m\u001b[2;36m \u001b[0m\u001b[32mDEBUG   \u001b[0m CLASS : class_2                                                                \u001b]8;id=704036;file:///tmp/ipykernel_56661/1467914557.py\u001b\\\u001b[2m1467914557.py\u001b[0m\u001b]8;;\u001b\\\u001b[2m:\u001b[0m\u001b]8;id=612150;file:///tmp/ipykernel_56661/1467914557.py#11\u001b\\\u001b[2m11\u001b[0m\u001b]8;;\u001b\\\n"
      ]
     },
     "metadata": {},
     "output_type": "display_data"
    },
    {
     "data": {
      "text/html": [
       "<pre style=\"white-space:pre;overflow-x:auto;line-height:normal;font-family:Menlo,'DejaVu Sans Mono',consolas,'Courier New',monospace\"><span style=\"color: #7fbfbf; text-decoration-color: #7fbfbf\">           </span><span style=\"color: #008000; text-decoration-color: #008000\">DEBUG   </span> AGE_MEAN : <span style=\"color: #008080; text-decoration-color: #008080; font-weight: bold\">24.129386842105262</span>                                                  <a href=\"file:///tmp/ipykernel_56661/1467914557.py\" target=\"_blank\"><span style=\"color: #7f7f7f; text-decoration-color: #7f7f7f\">1467914557.py</span></a><span style=\"color: #7f7f7f; text-decoration-color: #7f7f7f\">:</span><a href=\"file:///tmp/ipykernel_56661/1467914557.py#14\" target=\"_blank\"><span style=\"color: #7f7f7f; text-decoration-color: #7f7f7f\">14</span></a>\n",
       "</pre>\n"
      ],
      "text/plain": [
       "\u001b[2;36m          \u001b[0m\u001b[2;36m \u001b[0m\u001b[32mDEBUG   \u001b[0m AGE_MEAN : \u001b[1;36m24.129386842105262\u001b[0m                                                  \u001b]8;id=587208;file:///tmp/ipykernel_56661/1467914557.py\u001b\\\u001b[2m1467914557.py\u001b[0m\u001b]8;;\u001b\\\u001b[2m:\u001b[0m\u001b]8;id=699733;file:///tmp/ipykernel_56661/1467914557.py#14\u001b\\\u001b[2m14\u001b[0m\u001b]8;;\u001b\\\n"
      ]
     },
     "metadata": {},
     "output_type": "display_data"
    },
    {
     "data": {
      "text/html": [
       "<pre style=\"white-space:pre;overflow-x:auto;line-height:normal;font-family:Menlo,'DejaVu Sans Mono',consolas,'Courier New',monospace\"><span style=\"color: #7fbfbf; text-decoration-color: #7fbfbf\">           </span><span style=\"color: #008000; text-decoration-color: #008000\">DEBUG   </span> SEX : <span style=\"color: #008080; text-decoration-color: #008080; font-weight: bold\">1</span>                                                                         <a href=\"file:///tmp/ipykernel_56661/1467914557.py\" target=\"_blank\"><span style=\"color: #7f7f7f; text-decoration-color: #7f7f7f\">1467914557.py</span></a><span style=\"color: #7f7f7f; text-decoration-color: #7f7f7f\">:</span><a href=\"file:///tmp/ipykernel_56661/1467914557.py#8\" target=\"_blank\"><span style=\"color: #7f7f7f; text-decoration-color: #7f7f7f\">8</span></a>\n",
       "</pre>\n"
      ],
      "text/plain": [
       "\u001b[2;36m          \u001b[0m\u001b[2;36m \u001b[0m\u001b[32mDEBUG   \u001b[0m SEX : \u001b[1;36m1\u001b[0m                                                                         \u001b]8;id=455784;file:///tmp/ipykernel_56661/1467914557.py\u001b\\\u001b[2m1467914557.py\u001b[0m\u001b]8;;\u001b\\\u001b[2m:\u001b[0m\u001b]8;id=8710;file:///tmp/ipykernel_56661/1467914557.py#8\u001b\\\u001b[2m8\u001b[0m\u001b]8;;\u001b\\\n"
      ]
     },
     "metadata": {},
     "output_type": "display_data"
    },
    {
     "data": {
      "text/html": [
       "<pre style=\"white-space:pre;overflow-x:auto;line-height:normal;font-family:Menlo,'DejaVu Sans Mono',consolas,'Courier New',monospace\"><span style=\"color: #7fbfbf; text-decoration-color: #7fbfbf\">           </span><span style=\"color: #008000; text-decoration-color: #008000\">DEBUG   </span> CLASS : class_0                                                                <a href=\"file:///tmp/ipykernel_56661/1467914557.py\" target=\"_blank\"><span style=\"color: #7f7f7f; text-decoration-color: #7f7f7f\">1467914557.py</span></a><span style=\"color: #7f7f7f; text-decoration-color: #7f7f7f\">:</span><a href=\"file:///tmp/ipykernel_56661/1467914557.py#11\" target=\"_blank\"><span style=\"color: #7f7f7f; text-decoration-color: #7f7f7f\">11</span></a>\n",
       "</pre>\n"
      ],
      "text/plain": [
       "\u001b[2;36m          \u001b[0m\u001b[2;36m \u001b[0m\u001b[32mDEBUG   \u001b[0m CLASS : class_0                                                                \u001b]8;id=40466;file:///tmp/ipykernel_56661/1467914557.py\u001b\\\u001b[2m1467914557.py\u001b[0m\u001b]8;;\u001b\\\u001b[2m:\u001b[0m\u001b]8;id=394084;file:///tmp/ipykernel_56661/1467914557.py#11\u001b\\\u001b[2m11\u001b[0m\u001b]8;;\u001b\\\n"
      ]
     },
     "metadata": {},
     "output_type": "display_data"
    },
    {
     "data": {
      "text/html": [
       "<pre style=\"white-space:pre;overflow-x:auto;line-height:normal;font-family:Menlo,'DejaVu Sans Mono',consolas,'Courier New',monospace\"><span style=\"color: #7fbfbf; text-decoration-color: #7fbfbf\">           </span><span style=\"color: #008000; text-decoration-color: #008000\">DEBUG   </span> AGE_MEAN : <span style=\"color: #008080; text-decoration-color: #008080; font-weight: bold\">38.10769230769231</span>                                                   <a href=\"file:///tmp/ipykernel_56661/1467914557.py\" target=\"_blank\"><span style=\"color: #7f7f7f; text-decoration-color: #7f7f7f\">1467914557.py</span></a><span style=\"color: #7f7f7f; text-decoration-color: #7f7f7f\">:</span><a href=\"file:///tmp/ipykernel_56661/1467914557.py#14\" target=\"_blank\"><span style=\"color: #7f7f7f; text-decoration-color: #7f7f7f\">14</span></a>\n",
       "</pre>\n"
      ],
      "text/plain": [
       "\u001b[2;36m          \u001b[0m\u001b[2;36m \u001b[0m\u001b[32mDEBUG   \u001b[0m AGE_MEAN : \u001b[1;36m38.10769230769231\u001b[0m                                                   \u001b]8;id=161987;file:///tmp/ipykernel_56661/1467914557.py\u001b\\\u001b[2m1467914557.py\u001b[0m\u001b]8;;\u001b\\\u001b[2m:\u001b[0m\u001b]8;id=959326;file:///tmp/ipykernel_56661/1467914557.py#14\u001b\\\u001b[2m14\u001b[0m\u001b]8;;\u001b\\\n"
      ]
     },
     "metadata": {},
     "output_type": "display_data"
    },
    {
     "data": {
      "text/html": [
       "<pre style=\"white-space:pre;overflow-x:auto;line-height:normal;font-family:Menlo,'DejaVu Sans Mono',consolas,'Courier New',monospace\"><span style=\"color: #7fbfbf; text-decoration-color: #7fbfbf\">           </span><span style=\"color: #008000; text-decoration-color: #008000\">DEBUG   </span> CLASS : class_1                                                                <a href=\"file:///tmp/ipykernel_56661/1467914557.py\" target=\"_blank\"><span style=\"color: #7f7f7f; text-decoration-color: #7f7f7f\">1467914557.py</span></a><span style=\"color: #7f7f7f; text-decoration-color: #7f7f7f\">:</span><a href=\"file:///tmp/ipykernel_56661/1467914557.py#11\" target=\"_blank\"><span style=\"color: #7f7f7f; text-decoration-color: #7f7f7f\">11</span></a>\n",
       "</pre>\n"
      ],
      "text/plain": [
       "\u001b[2;36m          \u001b[0m\u001b[2;36m \u001b[0m\u001b[32mDEBUG   \u001b[0m CLASS : class_1                                                                \u001b]8;id=92502;file:///tmp/ipykernel_56661/1467914557.py\u001b\\\u001b[2m1467914557.py\u001b[0m\u001b]8;;\u001b\\\u001b[2m:\u001b[0m\u001b]8;id=564745;file:///tmp/ipykernel_56661/1467914557.py#11\u001b\\\u001b[2m11\u001b[0m\u001b]8;;\u001b\\\n"
      ]
     },
     "metadata": {},
     "output_type": "display_data"
    },
    {
     "data": {
      "text/html": [
       "<pre style=\"white-space:pre;overflow-x:auto;line-height:normal;font-family:Menlo,'DejaVu Sans Mono',consolas,'Courier New',monospace\"><span style=\"color: #7fbfbf; text-decoration-color: #7fbfbf\">           </span><span style=\"color: #008000; text-decoration-color: #008000\">DEBUG   </span> AGE_MEAN : <span style=\"color: #008080; text-decoration-color: #008080; font-weight: bold\">19.363636363636363</span>                                                  <a href=\"file:///tmp/ipykernel_56661/1467914557.py\" target=\"_blank\"><span style=\"color: #7f7f7f; text-decoration-color: #7f7f7f\">1467914557.py</span></a><span style=\"color: #7f7f7f; text-decoration-color: #7f7f7f\">:</span><a href=\"file:///tmp/ipykernel_56661/1467914557.py#14\" target=\"_blank\"><span style=\"color: #7f7f7f; text-decoration-color: #7f7f7f\">14</span></a>\n",
       "</pre>\n"
      ],
      "text/plain": [
       "\u001b[2;36m          \u001b[0m\u001b[2;36m \u001b[0m\u001b[32mDEBUG   \u001b[0m AGE_MEAN : \u001b[1;36m19.363636363636363\u001b[0m                                                  \u001b]8;id=389439;file:///tmp/ipykernel_56661/1467914557.py\u001b\\\u001b[2m1467914557.py\u001b[0m\u001b]8;;\u001b\\\u001b[2m:\u001b[0m\u001b]8;id=673270;file:///tmp/ipykernel_56661/1467914557.py#14\u001b\\\u001b[2m14\u001b[0m\u001b]8;;\u001b\\\n"
      ]
     },
     "metadata": {},
     "output_type": "display_data"
    },
    {
     "data": {
      "text/html": [
       "<pre style=\"white-space:pre;overflow-x:auto;line-height:normal;font-family:Menlo,'DejaVu Sans Mono',consolas,'Courier New',monospace\"><span style=\"color: #7fbfbf; text-decoration-color: #7fbfbf\">           </span><span style=\"color: #008000; text-decoration-color: #008000\">DEBUG   </span> CLASS : class_2                                                                <a href=\"file:///tmp/ipykernel_56661/1467914557.py\" target=\"_blank\"><span style=\"color: #7f7f7f; text-decoration-color: #7f7f7f\">1467914557.py</span></a><span style=\"color: #7f7f7f; text-decoration-color: #7f7f7f\">:</span><a href=\"file:///tmp/ipykernel_56661/1467914557.py#11\" target=\"_blank\"><span style=\"color: #7f7f7f; text-decoration-color: #7f7f7f\">11</span></a>\n",
       "</pre>\n"
      ],
      "text/plain": [
       "\u001b[2;36m          \u001b[0m\u001b[2;36m \u001b[0m\u001b[32mDEBUG   \u001b[0m CLASS : class_2                                                                \u001b]8;id=640841;file:///tmp/ipykernel_56661/1467914557.py\u001b\\\u001b[2m1467914557.py\u001b[0m\u001b]8;;\u001b\\\u001b[2m:\u001b[0m\u001b]8;id=671605;file:///tmp/ipykernel_56661/1467914557.py#11\u001b\\\u001b[2m11\u001b[0m\u001b]8;;\u001b\\\n"
      ]
     },
     "metadata": {},
     "output_type": "display_data"
    },
    {
     "data": {
      "text/html": [
       "<pre style=\"white-space:pre;overflow-x:auto;line-height:normal;font-family:Menlo,'DejaVu Sans Mono',consolas,'Courier New',monospace\"><span style=\"color: #7fbfbf; text-decoration-color: #7fbfbf\">           </span><span style=\"color: #008000; text-decoration-color: #008000\">DEBUG   </span> AGE_MEAN : <span style=\"color: #008080; text-decoration-color: #008080; font-weight: bold\">16.81818181818182</span>                                                   <a href=\"file:///tmp/ipykernel_56661/1467914557.py\" target=\"_blank\"><span style=\"color: #7f7f7f; text-decoration-color: #7f7f7f\">1467914557.py</span></a><span style=\"color: #7f7f7f; text-decoration-color: #7f7f7f\">:</span><a href=\"file:///tmp/ipykernel_56661/1467914557.py#14\" target=\"_blank\"><span style=\"color: #7f7f7f; text-decoration-color: #7f7f7f\">14</span></a>\n",
       "</pre>\n"
      ],
      "text/plain": [
       "\u001b[2;36m          \u001b[0m\u001b[2;36m \u001b[0m\u001b[32mDEBUG   \u001b[0m AGE_MEAN : \u001b[1;36m16.81818181818182\u001b[0m                                                   \u001b]8;id=480260;file:///tmp/ipykernel_56661/1467914557.py\u001b\\\u001b[2m1467914557.py\u001b[0m\u001b]8;;\u001b\\\u001b[2m:\u001b[0m\u001b]8;id=13710;file:///tmp/ipykernel_56661/1467914557.py#14\u001b\\\u001b[2m14\u001b[0m\u001b]8;;\u001b\\\n"
      ]
     },
     "metadata": {},
     "output_type": "display_data"
    },
    {
     "data": {
      "text/html": [
       "<pre style=\"white-space:pre;overflow-x:auto;line-height:normal;font-family:Menlo,'DejaVu Sans Mono',consolas,'Courier New',monospace\"><span style=\"color: #7fbfbf; text-decoration-color: #7fbfbf\">           </span><span style=\"color: #008000; text-decoration-color: #008000\">DEBUG   </span> EMBARKED : Q                                                                    <a href=\"file:///tmp/ipykernel_56661/1467914557.py\" target=\"_blank\"><span style=\"color: #7f7f7f; text-decoration-color: #7f7f7f\">1467914557.py</span></a><span style=\"color: #7f7f7f; text-decoration-color: #7f7f7f\">:</span><a href=\"file:///tmp/ipykernel_56661/1467914557.py#6\" target=\"_blank\"><span style=\"color: #7f7f7f; text-decoration-color: #7f7f7f\">6</span></a>\n",
       "</pre>\n"
      ],
      "text/plain": [
       "\u001b[2;36m          \u001b[0m\u001b[2;36m \u001b[0m\u001b[32mDEBUG   \u001b[0m EMBARKED : Q                                                                    \u001b]8;id=320848;file:///tmp/ipykernel_56661/1467914557.py\u001b\\\u001b[2m1467914557.py\u001b[0m\u001b]8;;\u001b\\\u001b[2m:\u001b[0m\u001b]8;id=844763;file:///tmp/ipykernel_56661/1467914557.py#6\u001b\\\u001b[2m6\u001b[0m\u001b]8;;\u001b\\\n"
      ]
     },
     "metadata": {},
     "output_type": "display_data"
    },
    {
     "data": {
      "text/html": [
       "<pre style=\"white-space:pre;overflow-x:auto;line-height:normal;font-family:Menlo,'DejaVu Sans Mono',consolas,'Courier New',monospace\"><span style=\"color: #7fbfbf; text-decoration-color: #7fbfbf\">           </span><span style=\"color: #008000; text-decoration-color: #008000\">DEBUG   </span> SEX : <span style=\"color: #008080; text-decoration-color: #008080; font-weight: bold\">0</span>                                                                         <a href=\"file:///tmp/ipykernel_56661/1467914557.py\" target=\"_blank\"><span style=\"color: #7f7f7f; text-decoration-color: #7f7f7f\">1467914557.py</span></a><span style=\"color: #7f7f7f; text-decoration-color: #7f7f7f\">:</span><a href=\"file:///tmp/ipykernel_56661/1467914557.py#8\" target=\"_blank\"><span style=\"color: #7f7f7f; text-decoration-color: #7f7f7f\">8</span></a>\n",
       "</pre>\n"
      ],
      "text/plain": [
       "\u001b[2;36m          \u001b[0m\u001b[2;36m \u001b[0m\u001b[32mDEBUG   \u001b[0m SEX : \u001b[1;36m0\u001b[0m                                                                         \u001b]8;id=314612;file:///tmp/ipykernel_56661/1467914557.py\u001b\\\u001b[2m1467914557.py\u001b[0m\u001b]8;;\u001b\\\u001b[2m:\u001b[0m\u001b]8;id=347228;file:///tmp/ipykernel_56661/1467914557.py#8\u001b\\\u001b[2m8\u001b[0m\u001b]8;;\u001b\\\n"
      ]
     },
     "metadata": {},
     "output_type": "display_data"
    },
    {
     "data": {
      "text/html": [
       "<pre style=\"white-space:pre;overflow-x:auto;line-height:normal;font-family:Menlo,'DejaVu Sans Mono',consolas,'Courier New',monospace\"><span style=\"color: #7fbfbf; text-decoration-color: #7fbfbf\">           </span><span style=\"color: #008000; text-decoration-color: #008000\">DEBUG   </span> CLASS : class_0                                                                <a href=\"file:///tmp/ipykernel_56661/1467914557.py\" target=\"_blank\"><span style=\"color: #7f7f7f; text-decoration-color: #7f7f7f\">1467914557.py</span></a><span style=\"color: #7f7f7f; text-decoration-color: #7f7f7f\">:</span><a href=\"file:///tmp/ipykernel_56661/1467914557.py#11\" target=\"_blank\"><span style=\"color: #7f7f7f; text-decoration-color: #7f7f7f\">11</span></a>\n",
       "</pre>\n"
      ],
      "text/plain": [
       "\u001b[2;36m          \u001b[0m\u001b[2;36m \u001b[0m\u001b[32mDEBUG   \u001b[0m CLASS : class_0                                                                \u001b]8;id=890675;file:///tmp/ipykernel_56661/1467914557.py\u001b\\\u001b[2m1467914557.py\u001b[0m\u001b]8;;\u001b\\\u001b[2m:\u001b[0m\u001b]8;id=27249;file:///tmp/ipykernel_56661/1467914557.py#11\u001b\\\u001b[2m11\u001b[0m\u001b]8;;\u001b\\\n"
      ]
     },
     "metadata": {},
     "output_type": "display_data"
    },
    {
     "data": {
      "text/html": [
       "<pre style=\"white-space:pre;overflow-x:auto;line-height:normal;font-family:Menlo,'DejaVu Sans Mono',consolas,'Courier New',monospace\"><span style=\"color: #7fbfbf; text-decoration-color: #7fbfbf\">           </span><span style=\"color: #008000; text-decoration-color: #008000\">DEBUG   </span> AGE_MEAN : <span style=\"color: #008080; text-decoration-color: #008080; font-weight: bold\">44.0</span>                                                                <a href=\"file:///tmp/ipykernel_56661/1467914557.py\" target=\"_blank\"><span style=\"color: #7f7f7f; text-decoration-color: #7f7f7f\">1467914557.py</span></a><span style=\"color: #7f7f7f; text-decoration-color: #7f7f7f\">:</span><a href=\"file:///tmp/ipykernel_56661/1467914557.py#14\" target=\"_blank\"><span style=\"color: #7f7f7f; text-decoration-color: #7f7f7f\">14</span></a>\n",
       "</pre>\n"
      ],
      "text/plain": [
       "\u001b[2;36m          \u001b[0m\u001b[2;36m \u001b[0m\u001b[32mDEBUG   \u001b[0m AGE_MEAN : \u001b[1;36m44.0\u001b[0m                                                                \u001b]8;id=726827;file:///tmp/ipykernel_56661/1467914557.py\u001b\\\u001b[2m1467914557.py\u001b[0m\u001b]8;;\u001b\\\u001b[2m:\u001b[0m\u001b]8;id=858194;file:///tmp/ipykernel_56661/1467914557.py#14\u001b\\\u001b[2m14\u001b[0m\u001b]8;;\u001b\\\n"
      ]
     },
     "metadata": {},
     "output_type": "display_data"
    },
    {
     "data": {
      "text/html": [
       "<pre style=\"white-space:pre;overflow-x:auto;line-height:normal;font-family:Menlo,'DejaVu Sans Mono',consolas,'Courier New',monospace\"><span style=\"color: #7fbfbf; text-decoration-color: #7fbfbf\">           </span><span style=\"color: #008000; text-decoration-color: #008000\">DEBUG   </span> CLASS : class_1                                                                <a href=\"file:///tmp/ipykernel_56661/1467914557.py\" target=\"_blank\"><span style=\"color: #7f7f7f; text-decoration-color: #7f7f7f\">1467914557.py</span></a><span style=\"color: #7f7f7f; text-decoration-color: #7f7f7f\">:</span><a href=\"file:///tmp/ipykernel_56661/1467914557.py#11\" target=\"_blank\"><span style=\"color: #7f7f7f; text-decoration-color: #7f7f7f\">11</span></a>\n",
       "</pre>\n"
      ],
      "text/plain": [
       "\u001b[2;36m          \u001b[0m\u001b[2;36m \u001b[0m\u001b[32mDEBUG   \u001b[0m CLASS : class_1                                                                \u001b]8;id=885019;file:///tmp/ipykernel_56661/1467914557.py\u001b\\\u001b[2m1467914557.py\u001b[0m\u001b]8;;\u001b\\\u001b[2m:\u001b[0m\u001b]8;id=27074;file:///tmp/ipykernel_56661/1467914557.py#11\u001b\\\u001b[2m11\u001b[0m\u001b]8;;\u001b\\\n"
      ]
     },
     "metadata": {},
     "output_type": "display_data"
    },
    {
     "data": {
      "text/html": [
       "<pre style=\"white-space:pre;overflow-x:auto;line-height:normal;font-family:Menlo,'DejaVu Sans Mono',consolas,'Courier New',monospace\"><span style=\"color: #7fbfbf; text-decoration-color: #7fbfbf\">           </span><span style=\"color: #008000; text-decoration-color: #008000\">DEBUG   </span> AGE_MEAN : <span style=\"color: #008080; text-decoration-color: #008080; font-weight: bold\">53.75</span>                                                               <a href=\"file:///tmp/ipykernel_56661/1467914557.py\" target=\"_blank\"><span style=\"color: #7f7f7f; text-decoration-color: #7f7f7f\">1467914557.py</span></a><span style=\"color: #7f7f7f; text-decoration-color: #7f7f7f\">:</span><a href=\"file:///tmp/ipykernel_56661/1467914557.py#14\" target=\"_blank\"><span style=\"color: #7f7f7f; text-decoration-color: #7f7f7f\">14</span></a>\n",
       "</pre>\n"
      ],
      "text/plain": [
       "\u001b[2;36m          \u001b[0m\u001b[2;36m \u001b[0m\u001b[32mDEBUG   \u001b[0m AGE_MEAN : \u001b[1;36m53.75\u001b[0m                                                               \u001b]8;id=313431;file:///tmp/ipykernel_56661/1467914557.py\u001b\\\u001b[2m1467914557.py\u001b[0m\u001b]8;;\u001b\\\u001b[2m:\u001b[0m\u001b]8;id=472510;file:///tmp/ipykernel_56661/1467914557.py#14\u001b\\\u001b[2m14\u001b[0m\u001b]8;;\u001b\\\n"
      ]
     },
     "metadata": {},
     "output_type": "display_data"
    },
    {
     "data": {
      "text/html": [
       "<pre style=\"white-space:pre;overflow-x:auto;line-height:normal;font-family:Menlo,'DejaVu Sans Mono',consolas,'Courier New',monospace\"><span style=\"color: #7fbfbf; text-decoration-color: #7fbfbf\">           </span><span style=\"color: #008000; text-decoration-color: #008000\">DEBUG   </span> CLASS : class_2                                                                <a href=\"file:///tmp/ipykernel_56661/1467914557.py\" target=\"_blank\"><span style=\"color: #7f7f7f; text-decoration-color: #7f7f7f\">1467914557.py</span></a><span style=\"color: #7f7f7f; text-decoration-color: #7f7f7f\">:</span><a href=\"file:///tmp/ipykernel_56661/1467914557.py#11\" target=\"_blank\"><span style=\"color: #7f7f7f; text-decoration-color: #7f7f7f\">11</span></a>\n",
       "</pre>\n"
      ],
      "text/plain": [
       "\u001b[2;36m          \u001b[0m\u001b[2;36m \u001b[0m\u001b[32mDEBUG   \u001b[0m CLASS : class_2                                                                \u001b]8;id=949072;file:///tmp/ipykernel_56661/1467914557.py\u001b\\\u001b[2m1467914557.py\u001b[0m\u001b]8;;\u001b\\\u001b[2m:\u001b[0m\u001b]8;id=641648;file:///tmp/ipykernel_56661/1467914557.py#11\u001b\\\u001b[2m11\u001b[0m\u001b]8;;\u001b\\\n"
      ]
     },
     "metadata": {},
     "output_type": "display_data"
    },
    {
     "data": {
      "text/html": [
       "<pre style=\"white-space:pre;overflow-x:auto;line-height:normal;font-family:Menlo,'DejaVu Sans Mono',consolas,'Courier New',monospace\"><span style=\"color: #7fbfbf; text-decoration-color: #7fbfbf\">           </span><span style=\"color: #008000; text-decoration-color: #008000\">DEBUG   </span> AGE_MEAN : <span style=\"color: #008080; text-decoration-color: #008080; font-weight: bold\">26.73809523809524</span>                                                   <a href=\"file:///tmp/ipykernel_56661/1467914557.py\" target=\"_blank\"><span style=\"color: #7f7f7f; text-decoration-color: #7f7f7f\">1467914557.py</span></a><span style=\"color: #7f7f7f; text-decoration-color: #7f7f7f\">:</span><a href=\"file:///tmp/ipykernel_56661/1467914557.py#14\" target=\"_blank\"><span style=\"color: #7f7f7f; text-decoration-color: #7f7f7f\">14</span></a>\n",
       "</pre>\n"
      ],
      "text/plain": [
       "\u001b[2;36m          \u001b[0m\u001b[2;36m \u001b[0m\u001b[32mDEBUG   \u001b[0m AGE_MEAN : \u001b[1;36m26.73809523809524\u001b[0m                                                   \u001b]8;id=196810;file:///tmp/ipykernel_56661/1467914557.py\u001b\\\u001b[2m1467914557.py\u001b[0m\u001b]8;;\u001b\\\u001b[2m:\u001b[0m\u001b]8;id=692735;file:///tmp/ipykernel_56661/1467914557.py#14\u001b\\\u001b[2m14\u001b[0m\u001b]8;;\u001b\\\n"
      ]
     },
     "metadata": {},
     "output_type": "display_data"
    },
    {
     "data": {
      "text/html": [
       "<pre style=\"white-space:pre;overflow-x:auto;line-height:normal;font-family:Menlo,'DejaVu Sans Mono',consolas,'Courier New',monospace\"><span style=\"color: #7fbfbf; text-decoration-color: #7fbfbf\">           </span><span style=\"color: #008000; text-decoration-color: #008000\">DEBUG   </span> SEX : <span style=\"color: #008080; text-decoration-color: #008080; font-weight: bold\">1</span>                                                                         <a href=\"file:///tmp/ipykernel_56661/1467914557.py\" target=\"_blank\"><span style=\"color: #7f7f7f; text-decoration-color: #7f7f7f\">1467914557.py</span></a><span style=\"color: #7f7f7f; text-decoration-color: #7f7f7f\">:</span><a href=\"file:///tmp/ipykernel_56661/1467914557.py#8\" target=\"_blank\"><span style=\"color: #7f7f7f; text-decoration-color: #7f7f7f\">8</span></a>\n",
       "</pre>\n"
      ],
      "text/plain": [
       "\u001b[2;36m          \u001b[0m\u001b[2;36m \u001b[0m\u001b[32mDEBUG   \u001b[0m SEX : \u001b[1;36m1\u001b[0m                                                                         \u001b]8;id=45806;file:///tmp/ipykernel_56661/1467914557.py\u001b\\\u001b[2m1467914557.py\u001b[0m\u001b]8;;\u001b\\\u001b[2m:\u001b[0m\u001b]8;id=15886;file:///tmp/ipykernel_56661/1467914557.py#8\u001b\\\u001b[2m8\u001b[0m\u001b]8;;\u001b\\\n"
      ]
     },
     "metadata": {},
     "output_type": "display_data"
    },
    {
     "data": {
      "text/html": [
       "<pre style=\"white-space:pre;overflow-x:auto;line-height:normal;font-family:Menlo,'DejaVu Sans Mono',consolas,'Courier New',monospace\"><span style=\"color: #7fbfbf; text-decoration-color: #7fbfbf\">           </span><span style=\"color: #008000; text-decoration-color: #008000\">DEBUG   </span> CLASS : class_0                                                                <a href=\"file:///tmp/ipykernel_56661/1467914557.py\" target=\"_blank\"><span style=\"color: #7f7f7f; text-decoration-color: #7f7f7f\">1467914557.py</span></a><span style=\"color: #7f7f7f; text-decoration-color: #7f7f7f\">:</span><a href=\"file:///tmp/ipykernel_56661/1467914557.py#11\" target=\"_blank\"><span style=\"color: #7f7f7f; text-decoration-color: #7f7f7f\">11</span></a>\n",
       "</pre>\n"
      ],
      "text/plain": [
       "\u001b[2;36m          \u001b[0m\u001b[2;36m \u001b[0m\u001b[32mDEBUG   \u001b[0m CLASS : class_0                                                                \u001b]8;id=579324;file:///tmp/ipykernel_56661/1467914557.py\u001b\\\u001b[2m1467914557.py\u001b[0m\u001b]8;;\u001b\\\u001b[2m:\u001b[0m\u001b]8;id=684222;file:///tmp/ipykernel_56661/1467914557.py#11\u001b\\\u001b[2m11\u001b[0m\u001b]8;;\u001b\\\n"
      ]
     },
     "metadata": {},
     "output_type": "display_data"
    },
    {
     "data": {
      "text/html": [
       "<pre style=\"white-space:pre;overflow-x:auto;line-height:normal;font-family:Menlo,'DejaVu Sans Mono',consolas,'Courier New',monospace\"><span style=\"color: #7fbfbf; text-decoration-color: #7fbfbf\">           </span><span style=\"color: #008000; text-decoration-color: #008000\">DEBUG   </span> AGE_MEAN : <span style=\"color: #008080; text-decoration-color: #008080; font-weight: bold\">35.0</span>                                                                <a href=\"file:///tmp/ipykernel_56661/1467914557.py\" target=\"_blank\"><span style=\"color: #7f7f7f; text-decoration-color: #7f7f7f\">1467914557.py</span></a><span style=\"color: #7f7f7f; text-decoration-color: #7f7f7f\">:</span><a href=\"file:///tmp/ipykernel_56661/1467914557.py#14\" target=\"_blank\"><span style=\"color: #7f7f7f; text-decoration-color: #7f7f7f\">14</span></a>\n",
       "</pre>\n"
      ],
      "text/plain": [
       "\u001b[2;36m          \u001b[0m\u001b[2;36m \u001b[0m\u001b[32mDEBUG   \u001b[0m AGE_MEAN : \u001b[1;36m35.0\u001b[0m                                                                \u001b]8;id=339247;file:///tmp/ipykernel_56661/1467914557.py\u001b\\\u001b[2m1467914557.py\u001b[0m\u001b]8;;\u001b\\\u001b[2m:\u001b[0m\u001b]8;id=241173;file:///tmp/ipykernel_56661/1467914557.py#14\u001b\\\u001b[2m14\u001b[0m\u001b]8;;\u001b\\\n"
      ]
     },
     "metadata": {},
     "output_type": "display_data"
    },
    {
     "data": {
      "text/html": [
       "<pre style=\"white-space:pre;overflow-x:auto;line-height:normal;font-family:Menlo,'DejaVu Sans Mono',consolas,'Courier New',monospace\"><span style=\"color: #7fbfbf; text-decoration-color: #7fbfbf\">           </span><span style=\"color: #008000; text-decoration-color: #008000\">DEBUG   </span> CLASS : class_1                                                                <a href=\"file:///tmp/ipykernel_56661/1467914557.py\" target=\"_blank\"><span style=\"color: #7f7f7f; text-decoration-color: #7f7f7f\">1467914557.py</span></a><span style=\"color: #7f7f7f; text-decoration-color: #7f7f7f\">:</span><a href=\"file:///tmp/ipykernel_56661/1467914557.py#11\" target=\"_blank\"><span style=\"color: #7f7f7f; text-decoration-color: #7f7f7f\">11</span></a>\n",
       "</pre>\n"
      ],
      "text/plain": [
       "\u001b[2;36m          \u001b[0m\u001b[2;36m \u001b[0m\u001b[32mDEBUG   \u001b[0m CLASS : class_1                                                                \u001b]8;id=524300;file:///tmp/ipykernel_56661/1467914557.py\u001b\\\u001b[2m1467914557.py\u001b[0m\u001b]8;;\u001b\\\u001b[2m:\u001b[0m\u001b]8;id=53776;file:///tmp/ipykernel_56661/1467914557.py#11\u001b\\\u001b[2m11\u001b[0m\u001b]8;;\u001b\\\n"
      ]
     },
     "metadata": {},
     "output_type": "display_data"
    },
    {
     "data": {
      "text/html": [
       "<pre style=\"white-space:pre;overflow-x:auto;line-height:normal;font-family:Menlo,'DejaVu Sans Mono',consolas,'Courier New',monospace\"><span style=\"color: #7fbfbf; text-decoration-color: #7fbfbf\">           </span><span style=\"color: #008000; text-decoration-color: #008000\">DEBUG   </span> AGE_MEAN : <span style=\"color: #008080; text-decoration-color: #008080; font-weight: bold\">30.0</span>                                                                <a href=\"file:///tmp/ipykernel_56661/1467914557.py\" target=\"_blank\"><span style=\"color: #7f7f7f; text-decoration-color: #7f7f7f\">1467914557.py</span></a><span style=\"color: #7f7f7f; text-decoration-color: #7f7f7f\">:</span><a href=\"file:///tmp/ipykernel_56661/1467914557.py#14\" target=\"_blank\"><span style=\"color: #7f7f7f; text-decoration-color: #7f7f7f\">14</span></a>\n",
       "</pre>\n"
      ],
      "text/plain": [
       "\u001b[2;36m          \u001b[0m\u001b[2;36m \u001b[0m\u001b[32mDEBUG   \u001b[0m AGE_MEAN : \u001b[1;36m30.0\u001b[0m                                                                \u001b]8;id=150021;file:///tmp/ipykernel_56661/1467914557.py\u001b\\\u001b[2m1467914557.py\u001b[0m\u001b]8;;\u001b\\\u001b[2m:\u001b[0m\u001b]8;id=745552;file:///tmp/ipykernel_56661/1467914557.py#14\u001b\\\u001b[2m14\u001b[0m\u001b]8;;\u001b\\\n"
      ]
     },
     "metadata": {},
     "output_type": "display_data"
    },
    {
     "data": {
      "text/html": [
       "<pre style=\"white-space:pre;overflow-x:auto;line-height:normal;font-family:Menlo,'DejaVu Sans Mono',consolas,'Courier New',monospace\"><span style=\"color: #7fbfbf; text-decoration-color: #7fbfbf\">           </span><span style=\"color: #008000; text-decoration-color: #008000\">DEBUG   </span> CLASS : class_2                                                                <a href=\"file:///tmp/ipykernel_56661/1467914557.py\" target=\"_blank\"><span style=\"color: #7f7f7f; text-decoration-color: #7f7f7f\">1467914557.py</span></a><span style=\"color: #7f7f7f; text-decoration-color: #7f7f7f\">:</span><a href=\"file:///tmp/ipykernel_56661/1467914557.py#11\" target=\"_blank\"><span style=\"color: #7f7f7f; text-decoration-color: #7f7f7f\">11</span></a>\n",
       "</pre>\n"
      ],
      "text/plain": [
       "\u001b[2;36m          \u001b[0m\u001b[2;36m \u001b[0m\u001b[32mDEBUG   \u001b[0m CLASS : class_2                                                                \u001b]8;id=819867;file:///tmp/ipykernel_56661/1467914557.py\u001b\\\u001b[2m1467914557.py\u001b[0m\u001b]8;;\u001b\\\u001b[2m:\u001b[0m\u001b]8;id=113544;file:///tmp/ipykernel_56661/1467914557.py#11\u001b\\\u001b[2m11\u001b[0m\u001b]8;;\u001b\\\n"
      ]
     },
     "metadata": {},
     "output_type": "display_data"
    },
    {
     "data": {
      "text/html": [
       "<pre style=\"white-space:pre;overflow-x:auto;line-height:normal;font-family:Menlo,'DejaVu Sans Mono',consolas,'Courier New',monospace\"><span style=\"color: #7fbfbf; text-decoration-color: #7fbfbf\">           </span><span style=\"color: #008000; text-decoration-color: #008000\">DEBUG   </span> AGE_MEAN : <span style=\"color: #008080; text-decoration-color: #008080; font-weight: bold\">24.333333333333332</span>                                                  <a href=\"file:///tmp/ipykernel_56661/1467914557.py\" target=\"_blank\"><span style=\"color: #7f7f7f; text-decoration-color: #7f7f7f\">1467914557.py</span></a><span style=\"color: #7f7f7f; text-decoration-color: #7f7f7f\">:</span><a href=\"file:///tmp/ipykernel_56661/1467914557.py#14\" target=\"_blank\"><span style=\"color: #7f7f7f; text-decoration-color: #7f7f7f\">14</span></a>\n",
       "</pre>\n"
      ],
      "text/plain": [
       "\u001b[2;36m          \u001b[0m\u001b[2;36m \u001b[0m\u001b[32mDEBUG   \u001b[0m AGE_MEAN : \u001b[1;36m24.333333333333332\u001b[0m                                                  \u001b]8;id=775642;file:///tmp/ipykernel_56661/1467914557.py\u001b\\\u001b[2m1467914557.py\u001b[0m\u001b]8;;\u001b\\\u001b[2m:\u001b[0m\u001b]8;id=558007;file:///tmp/ipykernel_56661/1467914557.py#14\u001b\\\u001b[2m14\u001b[0m\u001b]8;;\u001b\\\n"
      ]
     },
     "metadata": {},
     "output_type": "display_data"
    }
   ],
   "source": [
    "not_na_age = df[~(df['age'].isna())]\n",
    "not_null = not_na_age[not_na_age['embarked'].notnull()]\n",
    "logger.debug(not_null)\n",
    "clone = df.copy()\n",
    "for _embarked in not_null['embarked'].unique():\n",
    "    logger.debug(f\"EMBARKED : {_embarked}\")\n",
    "    for _sex in [0,1]:\n",
    "        logger.debug(f\"SEX : {_sex}\")\n",
    "        _sex_df = not_null[ (not_null['sex'] == _sex)]\n",
    "        for _class in ['class_0','class_1','class_2']:\n",
    "            logger.debug(f\"CLASS : {_class}\")\n",
    "            _class_x = _sex_df[(_sex_df[_class] == 1) & (_sex_df['embarked'] == _embarked)]\n",
    "            _mean = _class_x['age'].mean()\n",
    "            logger.debug(f\"AGE_MEAN : {_class_x['age'].mean()}\")\n",
    "            # Input the values where all thos information are correct to DF\n",
    "            full_cond = (clone['age'].isna()) & (clone['sex'] == _sex) & (clone[_class] == 1) & (clone['embarked'] == _embarked);\n",
    "            clone.loc[full_cond,'age'] = clone.loc[full_cond,'age'].fillna(_mean)\n",
    "                \n",
    "df = clone"
   ]
  },
  {
   "cell_type": "markdown",
   "id": "0a5f223b-3ec6-42e7-bc5e-4f5bc699af39",
   "metadata": {},
   "source": [
    "After cleanup!"
   ]
  },
  {
   "cell_type": "code",
   "execution_count": null,
   "id": "73d802fd-0a91-4438-aaa9-c0327c7e045d",
   "metadata": {},
   "outputs": [],
   "source": [
    "msno.matrix(df)\n",
    "plt.show()"
   ]
  },
  {
   "cell_type": "markdown",
   "id": "7d0a7315-244e-4f50-beb5-37a1a3c29ffd",
   "metadata": {},
   "source": [
    "#so maybe add some info not about age itself but about the general binning? infant < 2, child < 10, and so one?"
   ]
  },
  {
   "cell_type": "code",
   "execution_count": null,
   "id": "f0eb6429-7eb9-4ba5-9874-7467165528ea",
   "metadata": {},
   "outputs": [],
   "source": [
    "plot_hist_for_stat(df,'age', 'percent')\n"
   ]
  },
  {
   "cell_type": "markdown",
   "id": "535269f5-c340-4bef-8c09-e31c54d6eeed",
   "metadata": {},
   "source": [
    "There are items with 0 fee, which is weird\n",
    "how Fare can be 0? Only man. Multiple ages, and multiple Pclass\n",
    "maybe they are workers? Or they are sponsors? No.. sponsors would get more family, I think\n"
   ]
  },
  {
   "cell_type": "code",
   "execution_count": null,
   "id": "a1b8883d-ef28-4c95-b190-350c95ed7aa6",
   "metadata": {
    "scrolled": true
   },
   "outputs": [],
   "source": [
    "logger.info(df['fare'].describe())\n",
    "zero_fee = df[df['fare'] == 0]\n",
    "\n",
    "def search_string(s, search):\n",
    "    return search in str(s).lower()\n",
    "\n",
    "for Name in zero_fee['name']:\n",
    "    _name_list = list(Name.split(\" \"))\n",
    "    length = len(_name_list)\n",
    "    sure_name = _name_list[length-1].lower()\n",
    "    mask = df.apply(lambda x: x.map(lambda s: search_string(s, sure_name)))\n",
    "    filtered_df = df.loc[mask.any(axis=1)]\n",
    "    logger.info(sure_name)\n",
    "    logger.info(filtered_df['name'])\n",
    "    logger.info(\"^\"*10)\n",
    "    "
   ]
  },
  {
   "cell_type": "markdown",
   "id": "435680a6-5ad9-4c7e-85f5-a0af0e56acc0",
   "metadata": {},
   "source": [
    "## 0 fee"
   ]
  },
  {
   "cell_type": "code",
   "execution_count": null,
   "id": "d41850e2-3cac-4ed7-a651-2302e9a2ce14",
   "metadata": {},
   "outputs": [],
   "source": [
    "_indexes  = zero_fee.index.to_numpy();\n",
    "_len_0 = len(_indexes)\n",
    "logger.info(f'Percent of people with 0 Fee is = {(_len_0 * 100) / df.shape[0]} %')\n",
    "df = df.drop(index=_indexes)"
   ]
  },
  {
   "cell_type": "code",
   "execution_count": null,
   "id": "0709dd6f-478c-4a08-9aeb-7934df7575ab",
   "metadata": {},
   "outputs": [],
   "source": [
    "logger.info(df.sort_values('fare', ascending = False).head(80)[['fare','class_0','class_1','class_2']])\n",
    "logger.info(df.sort_values('fare').head(80)[['fare','class_0','class_1','class_2']])\n"
   ]
  },
  {
   "cell_type": "code",
   "execution_count": null,
   "id": "7c14fc64-df93-4560-9937-ad46a40583e3",
   "metadata": {},
   "outputs": [],
   "source": [
    "df['fare'].value_counts()"
   ]
  },
  {
   "cell_type": "code",
   "execution_count": null,
   "id": "2aa82c81-ca2e-490b-91c7-61e0bc288965",
   "metadata": {},
   "outputs": [],
   "source": [
    "#Drop name, for now\n",
    "numerical_data = get_data_type(df,PDataType.NUMERICAL)\n",
    "'''\n",
    "no_name_DF = df.drop(columns = ['name', 'ticket'])\n",
    "plot_overall_correlation_for(no_name_DF,'survived',5)\n",
    "plot_correlation_for(no_name_DF, 'survived',10)\n",
    "'''\n"
   ]
  },
  {
   "cell_type": "markdown",
   "id": "21ab0236-936e-4ae2-a3d3-2ff5080b4e41",
   "metadata": {},
   "source": [
    "## Fare and PClass have high correlation. So... look it up?"
   ]
  },
  {
   "cell_type": "code",
   "execution_count": null,
   "id": "66b24e38-ce89-4206-b595-0f859b7873b2",
   "metadata": {},
   "outputs": [],
   "source": [
    "Pclasses = ['class_0','class_1','class_2']\n",
    "fig, axs = plt.subplots(1, len(Pclasses), figsize=(20,10))\n",
    "for i,Pclass in enumerate(Pclasses):\n",
    "    sns.histplot(no_name_DF[no_name_DF[Pclass] == 1]['Fare'], ax = axs[i], label = f'Pclass =[{Pclass}]')\n",
    "plt.show()\n"
   ]
  },
  {
   "cell_type": "code",
   "execution_count": null,
   "id": "d8a2a207-dc8b-4da5-bb93-e2fb3dd9e36e",
   "metadata": {},
   "outputs": [],
   "source": [
    "plot_correlation_for(no_name_DF, 'Sex',10)"
   ]
  },
  {
   "cell_type": "code",
   "execution_count": null,
   "id": "fcecccac-c0c2-46af-9a49-9cab0b5c09f9",
   "metadata": {},
   "outputs": [],
   "source": [
    "#Correlation between sex and survival. In Percent\n",
    "women = no_name_DF.loc[no_name_DF.Sex == 1][\"Survived\"]\n",
    "rate_women = (sum(women)/len(women) ) * 100\n",
    "#logger.info(f\"woman count : {no_name_DF.loc[no_name_DF.Sex == 1].value_counts():,.2f} %\")\n",
    "allSexes = no_name_DF['Sex'].value_counts();\n",
    "logger.info(f\"Man on Titanic {allSexes[0]}\")\n",
    "logger.info(f\"Woman on Titanic {allSexes[1]}\")\n",
    "logger.info(f\"Woman/Man ratio on Titanic {allSexes[1]/allSexes[0]}\")\n",
    "\n",
    "logger.info(f\"Survival rate woman : {rate_women:,.2f} %\")\n",
    "\n",
    "man = no_name_DF.loc[no_name_DF.Sex == 0][\"Survived\"]\n",
    "rate_men = (sum(man)/len(man))*100\n",
    "logger.info(f\"Survival rate man : {rate_men:,.2f} %\")\n"
   ]
  },
  {
   "cell_type": "code",
   "execution_count": null,
   "id": "951f33ee-7ec2-4717-833b-c69bbb74edb1",
   "metadata": {},
   "outputs": [],
   "source": [
    "def logger.info_fee_boxplot(_df):\n",
    "    _0 = _df.loc[_df['class_0'] == 1, 'Fare'].values\n",
    "    _1 = _df.loc[_df['class_1'] == 1, 'Fare'].values\n",
    "    _2 = _df.loc[_df['class_2'] == 1, 'Fare'].values\n",
    "    plt.boxplot([_0,_1,_2], labels = [\"class_0\",\"class_1\",\"class_2\"])\n",
    "logger.info_fee_boxplot(df)"
   ]
  },
  {
   "cell_type": "code",
   "execution_count": null,
   "id": "a11d8d63-99cf-4b6b-b9f2-4114a6e8c5b6",
   "metadata": {},
   "outputs": [],
   "source": [
    "from sklearn.model_selection import train_test_split\n",
    "from sklearn.linear_model import LogisticRegression\n",
    "from sklearn.metrics import accuracy_score, confusion_matrix\n",
    "from sklearn.metrics import confusion_matrix, ConfusionMatrixDisplay\n",
    "from sklearn.metrics import RocCurveDisplay\n",
    "from sklearn.model_selection import cross_val_score\n"
   ]
  },
  {
   "cell_type": "code",
   "execution_count": null,
   "id": "dea75f7a-f9f2-4ef5-820e-a490941f573d",
   "metadata": {},
   "outputs": [],
   "source": [
    "\n",
    "def train_LogisticRegression(X,y):   \n",
    "    X_train, X_test, y_train, y_test = train_test_split(X, y, test_size = 0.33, random_state = 0)\n",
    "    log_reg = LogisticRegression(max_iter=1000) ## I have some error in here...\n",
    "    log_reg.fit(X_train.values, y_train) # Provide only values without headers!\n",
    "    logger.info(f\"log_reg score = {log_reg.score(X_test.values, y_test)}\")\n",
    "    return (X_train, X_test, y_train, y_test, log_reg) #Return values only\n",
    "\n",
    "def do_prediction(_df,_targetColumnString):\n",
    "    logger.info(\"!-\"*10)\n",
    "    X = _df.drop(_targetColumnString, axis = 1)\n",
    "    y = _df[_targetColumnString]\n",
    "    X_train, X_test, y_train, y_test, log_reg = train_LogisticRegression(X,y)\n",
    "    logger.info(f\"cross_val_score = {cross_val_score(log_reg, X, y, cv=5).mean()}\")\n",
    "    y_predicted = log_reg.predict(X_test.values)\n",
    "    cm = confusion_matrix(y_test, y_predicted)\n",
    "    disp = ConfusionMatrixDisplay.from_estimator(log_reg, X_test.values, y_test)\n",
    "    disp.plot()\n",
    "    log_regrression_curve = RocCurveDisplay.from_estimator(log_reg, X_test.values, y_test)\n",
    "    logger.info(\"!-\"*10)\n",
    "    return log_reg;\n"
   ]
  },
  {
   "cell_type": "markdown",
   "id": "e23b2062-c83d-4409-aa53-f02358bd0fad",
   "metadata": {},
   "source": [
    "# Some random predictions"
   ]
  },
  {
   "cell_type": "code",
   "execution_count": null,
   "id": "708f1e96-19d2-4f5e-b4e5-4e1c76b4ff1a",
   "metadata": {},
   "outputs": [],
   "source": [
    "def create_passenger(sex,age,sib_sp_abo,par_chil_abo, fare, classType):\n",
    "    return ([[sex,age,sib_sp_abo,par_chil_abo, fare, classType == 0, classType == 1, classType == 2]],\n",
    "            f\" sex=[{sex}],age=[{age}],sib_sp_abo=[{sib_sp_abo}],par_chil_abo=[{par_chil_abo}], fare=[{fare}], classType=[{classType}]\")\n",
    "\n",
    "passengers = [create_passenger(1,30,0,0,21,0),\n",
    " create_passenger(0,30,0,0,21,0),\n",
    " create_passenger(1,30,0,0,21,1),\n",
    " create_passenger(0,30,0,0,21,1),\n",
    " create_passenger(1,30,0,0,21,2),\n",
    " create_passenger(0,30,0,0,21,2),\n",
    "create_passenger(1,30,0,0,76,0),\n",
    "create_passenger(0,30,0,0,76,0)]\n"
   ]
  },
  {
   "cell_type": "code",
   "execution_count": null,
   "id": "dd054a21-c842-4c82-9f08-87616d474a10",
   "metadata": {},
   "outputs": [],
   "source": [
    "def predict_for_passengers(_passengers, predictor):\n",
    "    logger.info(10*'^-')\n",
    "    for passenger_v, passenger_s in _passengers:\n",
    "        predictor.predict(passenger_v)[0]\n",
    "        probability = predictor.predict_proba(passenger_v)[0][1]\n",
    "        logger.info(f'Parameters: {passenger_s}')\n",
    "        logger.info(f'\\tProbability of survival: {probability:.1%}')\n",
    "    logger.info(10*'@-')"
   ]
  },
  {
   "cell_type": "markdown",
   "id": "fef80acd-e1e7-4ad5-a4f6-443c0d863338",
   "metadata": {},
   "source": [
    "# Try to remove those highest values of fee and see what will happend!"
   ]
  },
  {
   "cell_type": "code",
   "execution_count": null,
   "id": "b78741fb-870b-43f3-b257-17de628970a8",
   "metadata": {},
   "outputs": [],
   "source": [
    "_0 = df.loc[df['class_0'] == 1, 'Fare'].quantile(0.75, interpolation='midpoint')\n",
    "_1 = df.loc[df['class_1'] == 1, 'Fare'].quantile(0.75, interpolation='midpoint')\n",
    "_2 = df.loc[df['class_2'] == 1, 'Fare'].quantile(0.65, interpolation='midpoint')\n",
    "\n",
    "df_removed_fee = df.copy()\n",
    "df_removed_fee.drop(columns=['Name'], inplace=True)\n",
    "\n",
    "df_removed_fee.drop(df_removed_fee[(df_removed_fee['class_0'] == 1) & (df_removed_fee['Fare'] > _0)].index, inplace=True)\n",
    "df_removed_fee.drop(df_removed_fee[(df_removed_fee['class_1'] == 1) & (df_removed_fee['Fare'] > _1)].index, inplace=True)\n",
    "df_removed_fee.drop(df_removed_fee[(df_removed_fee['class_2'] == 1) & (df_removed_fee['Fare'] > _2)].index, inplace=True)\n",
    "\n",
    "logger.info_fee_boxplot(df_removed_fee)\n",
    "plt.show()\n",
    "logger.info_fee_boxplot(df)\n",
    "def logger.info_fee_boxplot_2(_df):\n",
    "    _2 = _df.loc[_df['class_2'] == 1, 'Fare'].values\n",
    "    plt.boxplot([_2], labels = [\"class_2\"])\n",
    "plt.show()\n",
    "logger.info_fee_boxplot_2(df_removed_fee)\n"
   ]
  },
  {
   "cell_type": "code",
   "execution_count": null,
   "id": "67db74f0-9474-4ce4-b272-bc88dc44fceb",
   "metadata": {},
   "outputs": [],
   "source": [
    "df_removed_0_fee = df_removed_fee.copy()\n",
    "\n",
    "df_removed_0_fee.drop(df_removed_fee[(df_removed_fee['Fare'] == 0)].index, inplace=True)\n",
    "logger.info_fee_boxplot(df_removed_0_fee)\n",
    "plt.show()\n",
    "logger.info_fee_boxplot(df_removed_0_fee)"
   ]
  },
  {
   "cell_type": "code",
   "execution_count": null,
   "id": "8a17a73f-10bf-4bd1-9c1a-f32a207ab4d6",
   "metadata": {},
   "outputs": [],
   "source": [
    "removed_fee_log_pred = do_prediction(df_removed_fee, 'Survived')\n",
    "outliners_log_pred = do_prediction(no_name_DF, 'Survived')\n",
    "removed_0_fee_log_pred = do_prediction(df_removed_0_fee, 'Survived')\n",
    "\n",
    "predict_for_passengers(passengers,removed_fee_log_pred)\n",
    "predict_for_passengers(passengers,outliners_log_pred)\n",
    "predict_for_passengers(passengers,removed_0_fee_log_pred)"
   ]
  },
  {
   "cell_type": "code",
   "execution_count": null,
   "id": "ea23831e-a0db-477b-b533-63cfb56b6dd7",
   "metadata": {},
   "outputs": [],
   "source": []
  }
 ],
 "metadata": {
  "kernelspec": {
   "display_name": "Python 3 (ipykernel)",
   "language": "python",
   "name": "python3"
  },
  "language_info": {
   "codemirror_mode": {
    "name": "ipython",
    "version": 3
   },
   "file_extension": ".py",
   "mimetype": "text/x-python",
   "name": "python",
   "nbconvert_exporter": "python",
   "pygments_lexer": "ipython3",
   "version": "3.11.5"
  }
 },
 "nbformat": 4,
 "nbformat_minor": 5
}
