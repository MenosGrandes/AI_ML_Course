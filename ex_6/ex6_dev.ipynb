{
 "cells": [
  {
   "cell_type": "markdown",
   "id": "0785d47e-6e21-4599-9267-5b390aa6bc44",
   "metadata": {},
   "source": [
    "## 4.Project/homework\n",
    "\n",
    "Choose one of the following topics and solve it:\n",
    "\n",
    "### 4.1 **Diabetes Dataset**.\n",
    "\n",
    "Predict whether a patient has diabetes based on the following diagnostic measurements:\n",
    "- Pregnancies: Number of times pregnant\n",
    "- Glucose: Plasma glucose concentration a 2 hours in an oral glucose tolerance test\n",
    "- Blood Pressure: Diastolic blood pressure (mm Hg)\n",
    "- SkinThickness: Triceps skinfold thickness (mm)\n",
    "- Insulin: 2-Hour serum insulin (mu U/ml)\n",
    "- BMI: Body mass index (weight in kg/(height in m)^2)\n",
    "- DiabetesPedigreeFunction: Diabetes pedigree function\n",
    "- Age: Age (years)\n",
    "- The outcome is a binary class (0 or 1)\n",
    "\n",
    "Use MLP based titanic_model and Keras API.\n",
    "\n",
    "### 4.2 **Titanic dataset**\n",
    "\n",
    "Same as lab04 Classification. Use the feature engineering discussed in the project class.\n",
    "\n",
    "Use MLP based titanic_model and Keras API.\n",
    "\n",
    "**This homework is obligatory. Please send colab link to kwant@agh.edu.pl before 24.04.2024.**"
   ]
  },
  {
   "cell_type": "markdown",
   "id": "83fbb04f-622b-4ccd-8922-4f3f75720eb5",
   "metadata": {},
   "source": [
    "## https://web.stanford.edu/class/archive/cs/cs109/cs109.1166/problem12.html\n",
    "0. Survived Indicator\n",
    "1. Passenger Class\n",
    "2. Name\n",
    "3. Sex\n",
    "4. Age\n",
    "5. Siblings Aboard\n",
    "6. Parents Aboard\n",
    "7. Fare paid in £s\n",
    "\n",
    "\n",
    "- survival - Survival (0 = No; 1 = Yes)\n",
    "- class - Passenger Class (1 = 1st; 2 = 2nd; 3 = 3rd)\n",
    "- name - Name\n",
    "- sex - Sex\n",
    "- age - Age\n",
    "- sibsp - Number of Siblings/Spouses Aboard\n",
    "- parch - Number of Parents/Children Aboard\n",
    "- ticket - Ticket Number\n",
    "- fare - Passenger Fare\n",
    "- cabin - Cabin\n",
    "- embarked - Port of Embarkation (C = Cherbourg; Q = Queenstown; S = Southampton)\n",
    "- boat - Lifeboat (if survived)\n",
    "- body - Body number (if did not survive and body was recovered)"
   ]
  },
  {
   "cell_type": "code",
   "execution_count": 46,
   "id": "35602e83-c195-40f8-a093-45e2ff9fe847",
   "metadata": {},
   "outputs": [
    {
     "name": "stdout",
     "output_type": "stream",
     "text": [
      "File ‘requirements.txt’ already there; not retrieving.\n",
      "\n",
      "File ‘titanic_FR.csv’ already there; not retrieving.\n",
      "\n"
     ]
    }
   ],
   "source": [
    "!wget -nc https://raw.githubusercontent.com/MenosGrandes/AI_ML_Course/main/requirements.txt\n",
    "!wget -nc https://raw.githubusercontent.com/MenosGrandes/AI_ML_Course/main/db/titanic_FR.csv"
   ]
  },
  {
   "cell_type": "code",
   "execution_count": 47,
   "id": "154134c4-aa2d-492e-ab1b-07e384e483f7",
   "metadata": {
    "scrolled": true
   },
   "outputs": [
    {
     "name": "stdout",
     "output_type": "stream",
     "text": [
      "Requirement already satisfied: seaborn in /home/mg/AI_Py_3_10/lib/python3.10/site-packages (from -r requirements.txt (line 1)) (0.12.2)\n",
      "Requirement already satisfied: pandas in /home/mg/AI_Py_3_10/lib/python3.10/site-packages (from -r requirements.txt (line 2)) (2.2.1)\n",
      "Requirement already satisfied: numpy in /home/mg/AI_Py_3_10/lib/python3.10/site-packages (from -r requirements.txt (line 3)) (1.26.4)\n",
      "Requirement already satisfied: scikit-learn in /home/mg/AI_Py_3_10/lib/python3.10/site-packages (from -r requirements.txt (line 4)) (1.4.1.post1)\n",
      "Requirement already satisfied: matplotlib in /home/mg/AI_Py_3_10/lib/python3.10/site-packages (from -r requirements.txt (line 5)) (3.8.3)\n",
      "Requirement already satisfied: missingno in /home/mg/AI_Py_3_10/lib/python3.10/site-packages (from -r requirements.txt (line 6)) (0.5.2)\n",
      "Requirement already satisfied: colorlog in /home/mg/AI_Py_3_10/lib/python3.10/site-packages (from -r requirements.txt (line 7)) (6.8.2)\n",
      "Requirement already satisfied: rich in /home/mg/AI_Py_3_10/lib/python3.10/site-packages (from -r requirements.txt (line 8)) (13.7.1)\n",
      "Requirement already satisfied: jupyter_contrib_nbextensions in /home/mg/AI_Py_3_10/lib/python3.10/site-packages (from -r requirements.txt (line 9)) (0.7.0)\n",
      "Requirement already satisfied: jupyter_nbextensions_configurator in /home/mg/AI_Py_3_10/lib/python3.10/site-packages (from -r requirements.txt (line 10)) (0.6.3)\n",
      "Requirement already satisfied: tensorflow in /home/mg/AI_Py_3_10/lib/python3.10/site-packages (from -r requirements.txt (line 11)) (2.16.1)\n",
      "Requirement already satisfied: keras in /home/mg/AI_Py_3_10/lib/python3.10/site-packages (from -r requirements.txt (line 12)) (3.3.2)\n",
      "Requirement already satisfied: python-dateutil>=2.8.2 in /home/mg/AI_Py_3_10/lib/python3.10/site-packages (from pandas->-r requirements.txt (line 2)) (2.9.0.post0)\n",
      "Requirement already satisfied: tzdata>=2022.7 in /home/mg/AI_Py_3_10/lib/python3.10/site-packages (from pandas->-r requirements.txt (line 2)) (2024.1)\n",
      "Requirement already satisfied: pytz>=2020.1 in /home/mg/AI_Py_3_10/lib/python3.10/site-packages (from pandas->-r requirements.txt (line 2)) (2024.1)\n",
      "Requirement already satisfied: threadpoolctl>=2.0.0 in /home/mg/AI_Py_3_10/lib/python3.10/site-packages (from scikit-learn->-r requirements.txt (line 4)) (3.3.0)\n",
      "Requirement already satisfied: scipy>=1.6.0 in /home/mg/AI_Py_3_10/lib/python3.10/site-packages (from scikit-learn->-r requirements.txt (line 4)) (1.11.4)\n",
      "Requirement already satisfied: joblib>=1.2.0 in /home/mg/AI_Py_3_10/lib/python3.10/site-packages (from scikit-learn->-r requirements.txt (line 4)) (1.3.2)\n",
      "Requirement already satisfied: pyparsing>=2.3.1 in /home/mg/AI_Py_3_10/lib/python3.10/site-packages (from matplotlib->-r requirements.txt (line 5)) (3.1.2)\n",
      "Requirement already satisfied: cycler>=0.10 in /home/mg/AI_Py_3_10/lib/python3.10/site-packages (from matplotlib->-r requirements.txt (line 5)) (0.12.1)\n",
      "Requirement already satisfied: kiwisolver>=1.3.1 in /home/mg/AI_Py_3_10/lib/python3.10/site-packages (from matplotlib->-r requirements.txt (line 5)) (1.4.5)\n",
      "Requirement already satisfied: contourpy>=1.0.1 in /home/mg/AI_Py_3_10/lib/python3.10/site-packages (from matplotlib->-r requirements.txt (line 5)) (1.2.0)\n",
      "Requirement already satisfied: packaging>=20.0 in /home/mg/AI_Py_3_10/lib/python3.10/site-packages (from matplotlib->-r requirements.txt (line 5)) (24.0)\n",
      "Requirement already satisfied: pillow>=8 in /home/mg/AI_Py_3_10/lib/python3.10/site-packages (from matplotlib->-r requirements.txt (line 5)) (10.2.0)\n",
      "Requirement already satisfied: fonttools>=4.22.0 in /home/mg/AI_Py_3_10/lib/python3.10/site-packages (from matplotlib->-r requirements.txt (line 5)) (4.49.0)\n",
      "Requirement already satisfied: pygments<3.0.0,>=2.13.0 in /home/mg/AI_Py_3_10/lib/python3.10/site-packages (from rich->-r requirements.txt (line 8)) (2.17.2)\n",
      "Requirement already satisfied: markdown-it-py>=2.2.0 in /home/mg/AI_Py_3_10/lib/python3.10/site-packages (from rich->-r requirements.txt (line 8)) (3.0.0)\n",
      "Requirement already satisfied: ipython_genutils in /home/mg/AI_Py_3_10/lib/python3.10/site-packages (from jupyter_contrib_nbextensions->-r requirements.txt (line 9)) (0.2.0)\n",
      "Requirement already satisfied: jupyter_contrib_core>=0.3.3 in /home/mg/AI_Py_3_10/lib/python3.10/site-packages (from jupyter_contrib_nbextensions->-r requirements.txt (line 9)) (0.4.2)\n",
      "Requirement already satisfied: jupyter_core in /home/mg/AI_Py_3_10/lib/python3.10/site-packages (from jupyter_contrib_nbextensions->-r requirements.txt (line 9)) (5.7.1)\n",
      "Requirement already satisfied: jupyter_highlight_selected_word>=0.1.1 in /home/mg/AI_Py_3_10/lib/python3.10/site-packages (from jupyter_contrib_nbextensions->-r requirements.txt (line 9)) (0.2.0)\n",
      "Requirement already satisfied: lxml in /home/mg/AI_Py_3_10/lib/python3.10/site-packages (from jupyter_contrib_nbextensions->-r requirements.txt (line 9)) (5.2.1)\n",
      "Requirement already satisfied: nbconvert>=6.0 in /home/mg/AI_Py_3_10/lib/python3.10/site-packages (from jupyter_contrib_nbextensions->-r requirements.txt (line 9)) (7.16.2)\n",
      "Requirement already satisfied: notebook>=6.0 in /home/mg/AI_Py_3_10/lib/python3.10/site-packages (from jupyter_contrib_nbextensions->-r requirements.txt (line 9)) (7.1.2)\n",
      "Requirement already satisfied: tornado in /home/mg/AI_Py_3_10/lib/python3.10/site-packages (from jupyter_contrib_nbextensions->-r requirements.txt (line 9)) (6.4)\n",
      "Requirement already satisfied: traitlets>=4.1 in /home/mg/AI_Py_3_10/lib/python3.10/site-packages (from jupyter_contrib_nbextensions->-r requirements.txt (line 9)) (5.14.1)\n",
      "Requirement already satisfied: pyyaml in /home/mg/AI_Py_3_10/lib/python3.10/site-packages (from jupyter_nbextensions_configurator->-r requirements.txt (line 10)) (6.0.1)\n",
      "Requirement already satisfied: libclang>=13.0.0 in /home/mg/AI_Py_3_10/lib/python3.10/site-packages (from tensorflow->-r requirements.txt (line 11)) (18.1.1)\n",
      "Requirement already satisfied: google-pasta>=0.1.1 in /home/mg/AI_Py_3_10/lib/python3.10/site-packages (from tensorflow->-r requirements.txt (line 11)) (0.2.0)\n",
      "Requirement already satisfied: astunparse>=1.6.0 in /home/mg/AI_Py_3_10/lib/python3.10/site-packages (from tensorflow->-r requirements.txt (line 11)) (1.6.3)\n",
      "Requirement already satisfied: gast!=0.5.0,!=0.5.1,!=0.5.2,>=0.2.1 in /home/mg/AI_Py_3_10/lib/python3.10/site-packages (from tensorflow->-r requirements.txt (line 11)) (0.5.4)\n",
      "Requirement already satisfied: protobuf!=4.21.0,!=4.21.1,!=4.21.2,!=4.21.3,!=4.21.4,!=4.21.5,<5.0.0dev,>=3.20.3 in /home/mg/AI_Py_3_10/lib/python3.10/site-packages (from tensorflow->-r requirements.txt (line 11)) (4.25.3)\n",
      "Requirement already satisfied: opt-einsum>=2.3.2 in /home/mg/AI_Py_3_10/lib/python3.10/site-packages (from tensorflow->-r requirements.txt (line 11)) (3.3.0)\n",
      "Requirement already satisfied: setuptools in /home/mg/AI_Py_3_10/lib/python3.10/site-packages (from tensorflow->-r requirements.txt (line 11)) (59.6.0)\n",
      "Requirement already satisfied: tensorflow-io-gcs-filesystem>=0.23.1 in /home/mg/AI_Py_3_10/lib/python3.10/site-packages (from tensorflow->-r requirements.txt (line 11)) (0.36.0)\n",
      "Requirement already satisfied: wrapt>=1.11.0 in /home/mg/AI_Py_3_10/lib/python3.10/site-packages (from tensorflow->-r requirements.txt (line 11)) (1.16.0)\n",
      "Requirement already satisfied: ml-dtypes~=0.3.1 in /home/mg/AI_Py_3_10/lib/python3.10/site-packages (from tensorflow->-r requirements.txt (line 11)) (0.3.2)\n",
      "Requirement already satisfied: h5py>=3.10.0 in /home/mg/AI_Py_3_10/lib/python3.10/site-packages (from tensorflow->-r requirements.txt (line 11)) (3.11.0)\n",
      "Requirement already satisfied: absl-py>=1.0.0 in /home/mg/AI_Py_3_10/lib/python3.10/site-packages (from tensorflow->-r requirements.txt (line 11)) (2.1.0)\n",
      "Requirement already satisfied: tensorboard<2.17,>=2.16 in /home/mg/AI_Py_3_10/lib/python3.10/site-packages (from tensorflow->-r requirements.txt (line 11)) (2.16.2)\n",
      "Requirement already satisfied: flatbuffers>=23.5.26 in /home/mg/AI_Py_3_10/lib/python3.10/site-packages (from tensorflow->-r requirements.txt (line 11)) (24.3.25)\n",
      "Requirement already satisfied: typing-extensions>=3.6.6 in /home/mg/AI_Py_3_10/lib/python3.10/site-packages (from tensorflow->-r requirements.txt (line 11)) (4.10.0)\n",
      "Requirement already satisfied: requests<3,>=2.21.0 in /home/mg/AI_Py_3_10/lib/python3.10/site-packages (from tensorflow->-r requirements.txt (line 11)) (2.31.0)\n",
      "Requirement already satisfied: six>=1.12.0 in /home/mg/AI_Py_3_10/lib/python3.10/site-packages (from tensorflow->-r requirements.txt (line 11)) (1.16.0)\n",
      "Requirement already satisfied: grpcio<2.0,>=1.24.3 in /home/mg/AI_Py_3_10/lib/python3.10/site-packages (from tensorflow->-r requirements.txt (line 11)) (1.62.2)\n",
      "Requirement already satisfied: termcolor>=1.1.0 in /home/mg/AI_Py_3_10/lib/python3.10/site-packages (from tensorflow->-r requirements.txt (line 11)) (2.4.0)\n",
      "Requirement already satisfied: optree in /home/mg/AI_Py_3_10/lib/python3.10/site-packages (from keras->-r requirements.txt (line 12)) (0.11.0)\n",
      "Requirement already satisfied: namex in /home/mg/AI_Py_3_10/lib/python3.10/site-packages (from keras->-r requirements.txt (line 12)) (0.0.8)\n",
      "Requirement already satisfied: wheel<1.0,>=0.23.0 in /home/mg/AI_Py_3_10/lib/python3.10/site-packages (from astunparse>=1.6.0->tensorflow->-r requirements.txt (line 11)) (0.43.0)\n",
      "Requirement already satisfied: mdurl~=0.1 in /home/mg/AI_Py_3_10/lib/python3.10/site-packages (from markdown-it-py>=2.2.0->rich->-r requirements.txt (line 8)) (0.1.2)\n",
      "Requirement already satisfied: defusedxml in /home/mg/AI_Py_3_10/lib/python3.10/site-packages (from nbconvert>=6.0->jupyter_contrib_nbextensions->-r requirements.txt (line 9)) (0.7.1)\n",
      "Requirement already satisfied: mistune<4,>=2.0.3 in /home/mg/AI_Py_3_10/lib/python3.10/site-packages (from nbconvert>=6.0->jupyter_contrib_nbextensions->-r requirements.txt (line 9)) (3.0.2)\n",
      "Requirement already satisfied: nbclient>=0.5.0 in /home/mg/AI_Py_3_10/lib/python3.10/site-packages (from nbconvert>=6.0->jupyter_contrib_nbextensions->-r requirements.txt (line 9)) (0.9.0)\n",
      "Requirement already satisfied: markupsafe>=2.0 in /home/mg/AI_Py_3_10/lib/python3.10/site-packages (from nbconvert>=6.0->jupyter_contrib_nbextensions->-r requirements.txt (line 9)) (2.1.5)\n",
      "Requirement already satisfied: beautifulsoup4 in /home/mg/AI_Py_3_10/lib/python3.10/site-packages (from nbconvert>=6.0->jupyter_contrib_nbextensions->-r requirements.txt (line 9)) (4.12.3)\n",
      "Requirement already satisfied: tinycss2 in /home/mg/AI_Py_3_10/lib/python3.10/site-packages (from nbconvert>=6.0->jupyter_contrib_nbextensions->-r requirements.txt (line 9)) (1.2.1)\n",
      "Requirement already satisfied: jupyterlab-pygments in /home/mg/AI_Py_3_10/lib/python3.10/site-packages (from nbconvert>=6.0->jupyter_contrib_nbextensions->-r requirements.txt (line 9)) (0.3.0)\n",
      "Requirement already satisfied: pandocfilters>=1.4.1 in /home/mg/AI_Py_3_10/lib/python3.10/site-packages (from nbconvert>=6.0->jupyter_contrib_nbextensions->-r requirements.txt (line 9)) (1.5.1)\n",
      "Requirement already satisfied: nbformat>=5.7 in /home/mg/AI_Py_3_10/lib/python3.10/site-packages (from nbconvert>=6.0->jupyter_contrib_nbextensions->-r requirements.txt (line 9)) (5.9.2)\n",
      "Requirement already satisfied: jinja2>=3.0 in /home/mg/AI_Py_3_10/lib/python3.10/site-packages (from nbconvert>=6.0->jupyter_contrib_nbextensions->-r requirements.txt (line 9)) (3.1.3)\n",
      "Requirement already satisfied: bleach!=5.0.0 in /home/mg/AI_Py_3_10/lib/python3.10/site-packages (from nbconvert>=6.0->jupyter_contrib_nbextensions->-r requirements.txt (line 9)) (6.1.0)\n",
      "Requirement already satisfied: platformdirs>=2.5 in /home/mg/AI_Py_3_10/lib/python3.10/site-packages (from jupyter_core->jupyter_contrib_nbextensions->-r requirements.txt (line 9)) (4.2.0)\n",
      "Requirement already satisfied: jupyterlab<4.2,>=4.1.1 in /home/mg/AI_Py_3_10/lib/python3.10/site-packages (from notebook>=6.0->jupyter_contrib_nbextensions->-r requirements.txt (line 9)) (4.1.4)\n",
      "Requirement already satisfied: notebook-shim<0.3,>=0.2 in /home/mg/AI_Py_3_10/lib/python3.10/site-packages (from notebook>=6.0->jupyter_contrib_nbextensions->-r requirements.txt (line 9)) (0.2.4)\n",
      "Requirement already satisfied: jupyter-server<3,>=2.4.0 in /home/mg/AI_Py_3_10/lib/python3.10/site-packages (from notebook>=6.0->jupyter_contrib_nbextensions->-r requirements.txt (line 9)) (2.13.0)\n",
      "Requirement already satisfied: jupyterlab-server<3,>=2.22.1 in /home/mg/AI_Py_3_10/lib/python3.10/site-packages (from notebook>=6.0->jupyter_contrib_nbextensions->-r requirements.txt (line 9)) (2.25.3)\n",
      "Requirement already satisfied: urllib3<3,>=1.21.1 in /home/mg/AI_Py_3_10/lib/python3.10/site-packages (from requests<3,>=2.21.0->tensorflow->-r requirements.txt (line 11)) (2.2.1)\n",
      "Requirement already satisfied: charset-normalizer<4,>=2 in /home/mg/AI_Py_3_10/lib/python3.10/site-packages (from requests<3,>=2.21.0->tensorflow->-r requirements.txt (line 11)) (3.3.2)\n",
      "Requirement already satisfied: idna<4,>=2.5 in /home/mg/AI_Py_3_10/lib/python3.10/site-packages (from requests<3,>=2.21.0->tensorflow->-r requirements.txt (line 11)) (3.6)\n",
      "Requirement already satisfied: certifi>=2017.4.17 in /home/mg/AI_Py_3_10/lib/python3.10/site-packages (from requests<3,>=2.21.0->tensorflow->-r requirements.txt (line 11)) (2024.2.2)\n",
      "Requirement already satisfied: werkzeug>=1.0.1 in /home/mg/AI_Py_3_10/lib/python3.10/site-packages (from tensorboard<2.17,>=2.16->tensorflow->-r requirements.txt (line 11)) (3.0.2)\n",
      "Requirement already satisfied: markdown>=2.6.8 in /home/mg/AI_Py_3_10/lib/python3.10/site-packages (from tensorboard<2.17,>=2.16->tensorflow->-r requirements.txt (line 11)) (3.6)\n",
      "Requirement already satisfied: tensorboard-data-server<0.8.0,>=0.7.0 in /home/mg/AI_Py_3_10/lib/python3.10/site-packages (from tensorboard<2.17,>=2.16->tensorflow->-r requirements.txt (line 11)) (0.7.2)\n",
      "Requirement already satisfied: webencodings in /home/mg/AI_Py_3_10/lib/python3.10/site-packages (from bleach!=5.0.0->nbconvert>=6.0->jupyter_contrib_nbextensions->-r requirements.txt (line 9)) (0.5.1)\n",
      "Requirement already satisfied: overrides in /home/mg/AI_Py_3_10/lib/python3.10/site-packages (from jupyter-server<3,>=2.4.0->notebook>=6.0->jupyter_contrib_nbextensions->-r requirements.txt (line 9)) (7.7.0)\n",
      "Requirement already satisfied: anyio>=3.1.0 in /home/mg/AI_Py_3_10/lib/python3.10/site-packages (from jupyter-server<3,>=2.4.0->notebook>=6.0->jupyter_contrib_nbextensions->-r requirements.txt (line 9)) (4.3.0)\n",
      "Requirement already satisfied: terminado>=0.8.3 in /home/mg/AI_Py_3_10/lib/python3.10/site-packages (from jupyter-server<3,>=2.4.0->notebook>=6.0->jupyter_contrib_nbextensions->-r requirements.txt (line 9)) (0.18.0)\n",
      "Requirement already satisfied: prometheus-client in /home/mg/AI_Py_3_10/lib/python3.10/site-packages (from jupyter-server<3,>=2.4.0->notebook>=6.0->jupyter_contrib_nbextensions->-r requirements.txt (line 9)) (0.20.0)\n",
      "Requirement already satisfied: send2trash>=1.8.2 in /home/mg/AI_Py_3_10/lib/python3.10/site-packages (from jupyter-server<3,>=2.4.0->notebook>=6.0->jupyter_contrib_nbextensions->-r requirements.txt (line 9)) (1.8.2)\n",
      "Requirement already satisfied: argon2-cffi in /home/mg/AI_Py_3_10/lib/python3.10/site-packages (from jupyter-server<3,>=2.4.0->notebook>=6.0->jupyter_contrib_nbextensions->-r requirements.txt (line 9)) (23.1.0)\n",
      "Requirement already satisfied: jupyter-client>=7.4.4 in /home/mg/AI_Py_3_10/lib/python3.10/site-packages (from jupyter-server<3,>=2.4.0->notebook>=6.0->jupyter_contrib_nbextensions->-r requirements.txt (line 9)) (8.6.0)\n",
      "Requirement already satisfied: jupyter-events>=0.9.0 in /home/mg/AI_Py_3_10/lib/python3.10/site-packages (from jupyter-server<3,>=2.4.0->notebook>=6.0->jupyter_contrib_nbextensions->-r requirements.txt (line 9)) (0.9.0)\n",
      "Requirement already satisfied: websocket-client in /home/mg/AI_Py_3_10/lib/python3.10/site-packages (from jupyter-server<3,>=2.4.0->notebook>=6.0->jupyter_contrib_nbextensions->-r requirements.txt (line 9)) (1.7.0)\n",
      "Requirement already satisfied: pyzmq>=24 in /home/mg/AI_Py_3_10/lib/python3.10/site-packages (from jupyter-server<3,>=2.4.0->notebook>=6.0->jupyter_contrib_nbextensions->-r requirements.txt (line 9)) (25.1.2)\n",
      "Requirement already satisfied: jupyter-server-terminals in /home/mg/AI_Py_3_10/lib/python3.10/site-packages (from jupyter-server<3,>=2.4.0->notebook>=6.0->jupyter_contrib_nbextensions->-r requirements.txt (line 9)) (0.5.2)\n",
      "Requirement already satisfied: tomli in /home/mg/AI_Py_3_10/lib/python3.10/site-packages (from jupyterlab<4.2,>=4.1.1->notebook>=6.0->jupyter_contrib_nbextensions->-r requirements.txt (line 9)) (2.0.1)\n",
      "Requirement already satisfied: jupyter-lsp>=2.0.0 in /home/mg/AI_Py_3_10/lib/python3.10/site-packages (from jupyterlab<4.2,>=4.1.1->notebook>=6.0->jupyter_contrib_nbextensions->-r requirements.txt (line 9)) (2.2.4)\n",
      "Requirement already satisfied: ipykernel in /home/mg/AI_Py_3_10/lib/python3.10/site-packages (from jupyterlab<4.2,>=4.1.1->notebook>=6.0->jupyter_contrib_nbextensions->-r requirements.txt (line 9)) (6.29.3)\n",
      "Requirement already satisfied: httpx>=0.25.0 in /home/mg/AI_Py_3_10/lib/python3.10/site-packages (from jupyterlab<4.2,>=4.1.1->notebook>=6.0->jupyter_contrib_nbextensions->-r requirements.txt (line 9)) (0.27.0)\n",
      "Requirement already satisfied: async-lru>=1.0.0 in /home/mg/AI_Py_3_10/lib/python3.10/site-packages (from jupyterlab<4.2,>=4.1.1->notebook>=6.0->jupyter_contrib_nbextensions->-r requirements.txt (line 9)) (2.0.4)\n",
      "Requirement already satisfied: json5>=0.9.0 in /home/mg/AI_Py_3_10/lib/python3.10/site-packages (from jupyterlab-server<3,>=2.22.1->notebook>=6.0->jupyter_contrib_nbextensions->-r requirements.txt (line 9)) (0.9.22)\n",
      "Requirement already satisfied: jsonschema>=4.18.0 in /home/mg/AI_Py_3_10/lib/python3.10/site-packages (from jupyterlab-server<3,>=2.22.1->notebook>=6.0->jupyter_contrib_nbextensions->-r requirements.txt (line 9)) (4.21.1)\n",
      "Requirement already satisfied: babel>=2.10 in /home/mg/AI_Py_3_10/lib/python3.10/site-packages (from jupyterlab-server<3,>=2.22.1->notebook>=6.0->jupyter_contrib_nbextensions->-r requirements.txt (line 9)) (2.14.0)\n",
      "Requirement already satisfied: fastjsonschema in /home/mg/AI_Py_3_10/lib/python3.10/site-packages (from nbformat>=5.7->nbconvert>=6.0->jupyter_contrib_nbextensions->-r requirements.txt (line 9)) (2.19.1)\n",
      "Requirement already satisfied: soupsieve>1.2 in /home/mg/AI_Py_3_10/lib/python3.10/site-packages (from beautifulsoup4->nbconvert>=6.0->jupyter_contrib_nbextensions->-r requirements.txt (line 9)) (2.5)\n",
      "Requirement already satisfied: sniffio>=1.1 in /home/mg/AI_Py_3_10/lib/python3.10/site-packages (from anyio>=3.1.0->jupyter-server<3,>=2.4.0->notebook>=6.0->jupyter_contrib_nbextensions->-r requirements.txt (line 9)) (1.3.1)\n",
      "Requirement already satisfied: exceptiongroup>=1.0.2 in /home/mg/AI_Py_3_10/lib/python3.10/site-packages (from anyio>=3.1.0->jupyter-server<3,>=2.4.0->notebook>=6.0->jupyter_contrib_nbextensions->-r requirements.txt (line 9)) (1.2.0)\n",
      "Requirement already satisfied: httpcore==1.* in /home/mg/AI_Py_3_10/lib/python3.10/site-packages (from httpx>=0.25.0->jupyterlab<4.2,>=4.1.1->notebook>=6.0->jupyter_contrib_nbextensions->-r requirements.txt (line 9)) (1.0.4)\n",
      "Requirement already satisfied: h11<0.15,>=0.13 in /home/mg/AI_Py_3_10/lib/python3.10/site-packages (from httpcore==1.*->httpx>=0.25.0->jupyterlab<4.2,>=4.1.1->notebook>=6.0->jupyter_contrib_nbextensions->-r requirements.txt (line 9)) (0.14.0)\n",
      "Requirement already satisfied: rpds-py>=0.7.1 in /home/mg/AI_Py_3_10/lib/python3.10/site-packages (from jsonschema>=4.18.0->jupyterlab-server<3,>=2.22.1->notebook>=6.0->jupyter_contrib_nbextensions->-r requirements.txt (line 9)) (0.18.0)\n",
      "Requirement already satisfied: jsonschema-specifications>=2023.03.6 in /home/mg/AI_Py_3_10/lib/python3.10/site-packages (from jsonschema>=4.18.0->jupyterlab-server<3,>=2.22.1->notebook>=6.0->jupyter_contrib_nbextensions->-r requirements.txt (line 9)) (2023.12.1)\n",
      "Requirement already satisfied: referencing>=0.28.4 in /home/mg/AI_Py_3_10/lib/python3.10/site-packages (from jsonschema>=4.18.0->jupyterlab-server<3,>=2.22.1->notebook>=6.0->jupyter_contrib_nbextensions->-r requirements.txt (line 9)) (0.33.0)\n",
      "Requirement already satisfied: attrs>=22.2.0 in /home/mg/AI_Py_3_10/lib/python3.10/site-packages (from jsonschema>=4.18.0->jupyterlab-server<3,>=2.22.1->notebook>=6.0->jupyter_contrib_nbextensions->-r requirements.txt (line 9)) (23.2.0)\n",
      "Requirement already satisfied: rfc3339-validator in /home/mg/AI_Py_3_10/lib/python3.10/site-packages (from jupyter-events>=0.9.0->jupyter-server<3,>=2.4.0->notebook>=6.0->jupyter_contrib_nbextensions->-r requirements.txt (line 9)) (0.1.4)\n",
      "Requirement already satisfied: python-json-logger>=2.0.4 in /home/mg/AI_Py_3_10/lib/python3.10/site-packages (from jupyter-events>=0.9.0->jupyter-server<3,>=2.4.0->notebook>=6.0->jupyter_contrib_nbextensions->-r requirements.txt (line 9)) (2.0.7)\n",
      "Requirement already satisfied: rfc3986-validator>=0.1.1 in /home/mg/AI_Py_3_10/lib/python3.10/site-packages (from jupyter-events>=0.9.0->jupyter-server<3,>=2.4.0->notebook>=6.0->jupyter_contrib_nbextensions->-r requirements.txt (line 9)) (0.1.1)\n",
      "Requirement already satisfied: ptyprocess in /home/mg/AI_Py_3_10/lib/python3.10/site-packages (from terminado>=0.8.3->jupyter-server<3,>=2.4.0->notebook>=6.0->jupyter_contrib_nbextensions->-r requirements.txt (line 9)) (0.7.0)\n",
      "Requirement already satisfied: argon2-cffi-bindings in /home/mg/AI_Py_3_10/lib/python3.10/site-packages (from argon2-cffi->jupyter-server<3,>=2.4.0->notebook>=6.0->jupyter_contrib_nbextensions->-r requirements.txt (line 9)) (21.2.0)\n",
      "Requirement already satisfied: nest-asyncio in /home/mg/AI_Py_3_10/lib/python3.10/site-packages (from ipykernel->jupyterlab<4.2,>=4.1.1->notebook>=6.0->jupyter_contrib_nbextensions->-r requirements.txt (line 9)) (1.6.0)\n",
      "Requirement already satisfied: ipython>=7.23.1 in /home/mg/AI_Py_3_10/lib/python3.10/site-packages (from ipykernel->jupyterlab<4.2,>=4.1.1->notebook>=6.0->jupyter_contrib_nbextensions->-r requirements.txt (line 9)) (8.22.2)\n",
      "Requirement already satisfied: matplotlib-inline>=0.1 in /home/mg/AI_Py_3_10/lib/python3.10/site-packages (from ipykernel->jupyterlab<4.2,>=4.1.1->notebook>=6.0->jupyter_contrib_nbextensions->-r requirements.txt (line 9)) (0.1.6)\n",
      "Requirement already satisfied: comm>=0.1.1 in /home/mg/AI_Py_3_10/lib/python3.10/site-packages (from ipykernel->jupyterlab<4.2,>=4.1.1->notebook>=6.0->jupyter_contrib_nbextensions->-r requirements.txt (line 9)) (0.2.1)\n",
      "Requirement already satisfied: psutil in /home/mg/AI_Py_3_10/lib/python3.10/site-packages (from ipykernel->jupyterlab<4.2,>=4.1.1->notebook>=6.0->jupyter_contrib_nbextensions->-r requirements.txt (line 9)) (5.9.8)\n",
      "Requirement already satisfied: debugpy>=1.6.5 in /home/mg/AI_Py_3_10/lib/python3.10/site-packages (from ipykernel->jupyterlab<4.2,>=4.1.1->notebook>=6.0->jupyter_contrib_nbextensions->-r requirements.txt (line 9)) (1.8.1)\n",
      "Requirement already satisfied: pexpect>4.3 in /home/mg/AI_Py_3_10/lib/python3.10/site-packages (from ipython>=7.23.1->ipykernel->jupyterlab<4.2,>=4.1.1->notebook>=6.0->jupyter_contrib_nbextensions->-r requirements.txt (line 9)) (4.9.0)\n",
      "Requirement already satisfied: stack-data in /home/mg/AI_Py_3_10/lib/python3.10/site-packages (from ipython>=7.23.1->ipykernel->jupyterlab<4.2,>=4.1.1->notebook>=6.0->jupyter_contrib_nbextensions->-r requirements.txt (line 9)) (0.6.3)\n",
      "Requirement already satisfied: jedi>=0.16 in /home/mg/AI_Py_3_10/lib/python3.10/site-packages (from ipython>=7.23.1->ipykernel->jupyterlab<4.2,>=4.1.1->notebook>=6.0->jupyter_contrib_nbextensions->-r requirements.txt (line 9)) (0.19.1)\n",
      "Requirement already satisfied: prompt-toolkit<3.1.0,>=3.0.41 in /home/mg/AI_Py_3_10/lib/python3.10/site-packages (from ipython>=7.23.1->ipykernel->jupyterlab<4.2,>=4.1.1->notebook>=6.0->jupyter_contrib_nbextensions->-r requirements.txt (line 9)) (3.0.43)\n",
      "Requirement already satisfied: decorator in /home/mg/AI_Py_3_10/lib/python3.10/site-packages (from ipython>=7.23.1->ipykernel->jupyterlab<4.2,>=4.1.1->notebook>=6.0->jupyter_contrib_nbextensions->-r requirements.txt (line 9)) (5.1.1)\n",
      "Requirement already satisfied: isoduration in /home/mg/AI_Py_3_10/lib/python3.10/site-packages (from jsonschema>=4.18.0->jupyterlab-server<3,>=2.22.1->notebook>=6.0->jupyter_contrib_nbextensions->-r requirements.txt (line 9)) (20.11.0)\n",
      "Requirement already satisfied: jsonpointer>1.13 in /home/mg/AI_Py_3_10/lib/python3.10/site-packages (from jsonschema>=4.18.0->jupyterlab-server<3,>=2.22.1->notebook>=6.0->jupyter_contrib_nbextensions->-r requirements.txt (line 9)) (2.4)\n",
      "Requirement already satisfied: uri-template in /home/mg/AI_Py_3_10/lib/python3.10/site-packages (from jsonschema>=4.18.0->jupyterlab-server<3,>=2.22.1->notebook>=6.0->jupyter_contrib_nbextensions->-r requirements.txt (line 9)) (1.3.0)\n",
      "Requirement already satisfied: fqdn in /home/mg/AI_Py_3_10/lib/python3.10/site-packages (from jsonschema>=4.18.0->jupyterlab-server<3,>=2.22.1->notebook>=6.0->jupyter_contrib_nbextensions->-r requirements.txt (line 9)) (1.5.1)\n",
      "Requirement already satisfied: webcolors>=1.11 in /home/mg/AI_Py_3_10/lib/python3.10/site-packages (from jsonschema>=4.18.0->jupyterlab-server<3,>=2.22.1->notebook>=6.0->jupyter_contrib_nbextensions->-r requirements.txt (line 9)) (1.13)\n",
      "Requirement already satisfied: cffi>=1.0.1 in /home/mg/AI_Py_3_10/lib/python3.10/site-packages (from argon2-cffi-bindings->argon2-cffi->jupyter-server<3,>=2.4.0->notebook>=6.0->jupyter_contrib_nbextensions->-r requirements.txt (line 9)) (1.16.0)\n",
      "Requirement already satisfied: pycparser in /home/mg/AI_Py_3_10/lib/python3.10/site-packages (from cffi>=1.0.1->argon2-cffi-bindings->argon2-cffi->jupyter-server<3,>=2.4.0->notebook>=6.0->jupyter_contrib_nbextensions->-r requirements.txt (line 9)) (2.21)\n",
      "Requirement already satisfied: parso<0.9.0,>=0.8.3 in /home/mg/AI_Py_3_10/lib/python3.10/site-packages (from jedi>=0.16->ipython>=7.23.1->ipykernel->jupyterlab<4.2,>=4.1.1->notebook>=6.0->jupyter_contrib_nbextensions->-r requirements.txt (line 9)) (0.8.3)\n",
      "Requirement already satisfied: wcwidth in /home/mg/AI_Py_3_10/lib/python3.10/site-packages (from prompt-toolkit<3.1.0,>=3.0.41->ipython>=7.23.1->ipykernel->jupyterlab<4.2,>=4.1.1->notebook>=6.0->jupyter_contrib_nbextensions->-r requirements.txt (line 9)) (0.2.13)\n",
      "Requirement already satisfied: arrow>=0.15.0 in /home/mg/AI_Py_3_10/lib/python3.10/site-packages (from isoduration->jsonschema>=4.18.0->jupyterlab-server<3,>=2.22.1->notebook>=6.0->jupyter_contrib_nbextensions->-r requirements.txt (line 9)) (1.3.0)\n",
      "Requirement already satisfied: pure-eval in /home/mg/AI_Py_3_10/lib/python3.10/site-packages (from stack-data->ipython>=7.23.1->ipykernel->jupyterlab<4.2,>=4.1.1->notebook>=6.0->jupyter_contrib_nbextensions->-r requirements.txt (line 9)) (0.2.2)\n",
      "Requirement already satisfied: executing>=1.2.0 in /home/mg/AI_Py_3_10/lib/python3.10/site-packages (from stack-data->ipython>=7.23.1->ipykernel->jupyterlab<4.2,>=4.1.1->notebook>=6.0->jupyter_contrib_nbextensions->-r requirements.txt (line 9)) (2.0.1)\n",
      "Requirement already satisfied: asttokens>=2.1.0 in /home/mg/AI_Py_3_10/lib/python3.10/site-packages (from stack-data->ipython>=7.23.1->ipykernel->jupyterlab<4.2,>=4.1.1->notebook>=6.0->jupyter_contrib_nbextensions->-r requirements.txt (line 9)) (2.4.1)\n",
      "Requirement already satisfied: types-python-dateutil>=2.8.10 in /home/mg/AI_Py_3_10/lib/python3.10/site-packages (from arrow>=0.15.0->isoduration->jsonschema>=4.18.0->jupyterlab-server<3,>=2.22.1->notebook>=6.0->jupyter_contrib_nbextensions->-r requirements.txt (line 9)) (2.8.19.20240311)\n"
     ]
    }
   ],
   "source": [
    "!pip install -r requirements.txt\n",
    "import pandas as pd\n",
    "from sklearn.preprocessing import LabelEncoder,OneHotEncoder,StandardScaler\n",
    "import pandas as pd\n",
    "import numpy as np\n",
    "import platform\n",
    "import pandas as pd\n",
    "import numpy as np\n",
    "import warnings\n",
    "import sys;\n",
    "#define Seaborn color palette to use\n",
    "import numpy as np\n",
    "from math import ceil\n",
    "from itertools import zip_longest\n",
    "import pandas as pd\n",
    "import matplotlib.pyplot as plt\n",
    "import seaborn as sns\n",
    "from sklearn.datasets import fetch_openml\n",
    "import missingno as msno\n",
    "import re\n",
    "import tensorflow as tf\n",
    "import keras\n",
    "from keras import layers\n",
    "from keras import ops\n",
    "\n",
    "\n"
   ]
  },
  {
   "cell_type": "code",
   "execution_count": 48,
   "id": "4f2143a7-5e1b-4e9a-b0da-17178cc289f3",
   "metadata": {},
   "outputs": [],
   "source": [
    "import logging\n",
    "from rich.logging import RichHandler\n",
    "\n",
    "FORMAT = \"%(message)s\"\n",
    "logging.basicConfig(\n",
    "    level=\"NOTSET\", format=FORMAT, datefmt=\"[%X]\", handlers=[RichHandler()]\n",
    ")\n",
    "\n",
    "logger = logging.getLogger(\"rich\")\n"
   ]
  },
  {
   "cell_type": "code",
   "execution_count": 49,
   "id": "28a97966-34e8-4d05-b658-be7e81f78cab",
   "metadata": {},
   "outputs": [],
   "source": [
    "v = platform.python_version_tuple();\n",
    "if float(v[1]) < 10:\n",
    "    raise Exception(\"MUST USE Python 3.10 to use MATCH expression!\")\n",
    "\n",
    "warnings.filterwarnings(\"ignore\", \"is_categorical_dtype\")\n",
    "warnings.filterwarnings(\"ignore\", \"use_inf_as_na\")\n",
    "np.set_printoptions(threshold=sys.maxsize)\n",
    "pd.options.display.max_colwidth = 1000"
   ]
  },
  {
   "cell_type": "code",
   "execution_count": 50,
   "id": "f52f469a-22e2-4029-803d-bd4f76185c63",
   "metadata": {
    "editable": true,
    "slideshow": {
     "slide_type": ""
    },
    "tags": []
   },
   "outputs": [],
   "source": [
    "df = pd.read_csv(\"titanic_FR.csv\")\n",
    "enc = OneHotEncoder(handle_unknown='ignore')\n",
    "enc_df = pd.DataFrame(enc.fit_transform(df[['embarked']]).toarray()).add_prefix('embarked_')\n",
    "df = df.join(enc_df)\n",
    "df = df.drop(columns = ['embarked'])\n"
   ]
  },
  {
   "cell_type": "code",
   "execution_count": 51,
   "id": "8644e562-f909-4e3e-a74f-c9aaafceb39a",
   "metadata": {},
   "outputs": [
    {
     "name": "stdout",
     "output_type": "stream",
     "text": [
      "<class 'pandas.core.frame.DataFrame'>\n",
      "RangeIndex: 1292 entries, 0 to 1291\n",
      "Data columns (total 16 columns):\n",
      " #   Column      Non-Null Count  Dtype  \n",
      "---  ------      --------------  -----  \n",
      " 0   survived    1292 non-null   int64  \n",
      " 1   name        1292 non-null   object \n",
      " 2   sex         1292 non-null   int64  \n",
      " 3   age         1292 non-null   float64\n",
      " 4   sibsp       1292 non-null   int64  \n",
      " 5   parch       1292 non-null   int64  \n",
      " 6   ticket      1292 non-null   int64  \n",
      " 7   fare        1291 non-null   float64\n",
      " 8   cabin       1292 non-null   int64  \n",
      " 9   boat        1292 non-null   int64  \n",
      " 10  class_0     1292 non-null   float64\n",
      " 11  class_1     1292 non-null   float64\n",
      " 12  class_2     1292 non-null   float64\n",
      " 13  embarked_0  1292 non-null   float64\n",
      " 14  embarked_1  1292 non-null   float64\n",
      " 15  embarked_2  1292 non-null   float64\n",
      "dtypes: float64(8), int64(7), object(1)\n",
      "memory usage: 161.6+ KB\n"
     ]
    }
   ],
   "source": [
    "df.info()"
   ]
  },
  {
   "cell_type": "markdown",
   "id": "f771feaa-21dc-4530-8a93-e842f2eb77e4",
   "metadata": {},
   "source": [
    "## Convert some data, cleanup"
   ]
  },
  {
   "cell_type": "code",
   "execution_count": 52,
   "id": "bb5e7f64-0a88-4123-b803-9770ba6a282c",
   "metadata": {},
   "outputs": [
    {
     "data": {
      "image/png": "[encoded data removed]",
      "text/plain": [
       "<Figure size 2500x1000 with 2 Axes>"
      ]
     },
     "metadata": {},
     "output_type": "display_data"
    }
   ],
   "source": [
    "msno.matrix(df)\n",
    "plt.show()"
   ]
  },
  {
   "cell_type": "code",
   "execution_count": 64,
   "id": "c8be2c71-ef72-4c10-907a-35328b72e178",
   "metadata": {},
   "outputs": [
    {
     "name": "stdout",
     "output_type": "stream",
     "text": [
      "<class 'pandas.core.frame.DataFrame'>\n",
      "RangeIndex: 1292 entries, 0 to 1291\n",
      "Data columns (total 16 columns):\n",
      " #   Column      Non-Null Count  Dtype  \n",
      "---  ------      --------------  -----  \n",
      " 0   survived    1292 non-null   int64  \n",
      " 1   name        1292 non-null   object \n",
      " 2   sex         1292 non-null   int64  \n",
      " 3   age         1292 non-null   float64\n",
      " 4   sibsp       1292 non-null   int64  \n",
      " 5   parch       1292 non-null   int64  \n",
      " 6   ticket      1292 non-null   int64  \n",
      " 7   fare        1291 non-null   float64\n",
      " 8   cabin       1292 non-null   int64  \n",
      " 9   boat        1292 non-null   int64  \n",
      " 10  class_0     1292 non-null   float64\n",
      " 11  class_1     1292 non-null   float64\n",
      " 12  class_2     1292 non-null   float64\n",
      " 13  embarked_0  1292 non-null   float64\n",
      " 14  embarked_1  1292 non-null   float64\n",
      " 15  embarked_2  1292 non-null   float64\n",
      "dtypes: float64(8), int64(7), object(1)\n",
      "memory usage: 161.6+ KB\n"
     ]
    }
   ],
   "source": [
    "df.info()"
   ]
  },
  {
   "cell_type": "markdown",
   "id": "14df1df2-b746-4c15-b811-dd0e6361c6e3",
   "metadata": {},
   "source": [
    "# Tensorflow NN"
   ]
  },
  {
   "cell_type": "code",
   "execution_count": 54,
   "id": "a991a29b-aef5-4303-afdd-4eaa954a1856",
   "metadata": {},
   "outputs": [],
   "source": [
    "sc = StandardScaler()\n",
    "\n",
    "X = df.drop(columns = ['survived','name'], axis=1, inplace=False)\n",
    "X = sc.fit_transform(X)\n",
    "y = df['survived']\n",
    "\n",
    "from sklearn.model_selection import train_test_split\n",
    "\n",
    "X_train, X_val, y_train, y_val = train_test_split(X, y, test_size=0.2, random_state=42)\n"
   ]
  },
  {
   "cell_type": "code",
   "execution_count": 65,
   "id": "997095ba-587f-47d4-ae2b-1ffd3b55a52d",
   "metadata": {},
   "outputs": [
    {
     "data": {
      "text/html": [
       "<pre style=\"white-space:pre;overflow-x:auto;line-height:normal;font-family:Menlo,'DejaVu Sans Mono',consolas,'Courier New',monospace\"><span style=\"font-weight: bold\">Model: \"sequential_9\"</span>\n",
       "</pre>\n"
      ],
      "text/plain": [
       "\u001b[1mModel: \"sequential_9\"\u001b[0m\n"
      ]
     },
     "metadata": {},
     "output_type": "display_data"
    },
    {
     "data": {
      "text/html": [
       "<pre style=\"white-space:pre;overflow-x:auto;line-height:normal;font-family:Menlo,'DejaVu Sans Mono',consolas,'Courier New',monospace\">┏━━━━━━━━━━━━━━━━━━━━━━━━━━━━━━━━━┳━━━━━━━━━━━━━━━━━━━━━━━━┳━━━━━━━━━━━━━━━┓\n",
       "┃<span style=\"font-weight: bold\"> Layer (type)                    </span>┃<span style=\"font-weight: bold\"> Output Shape           </span>┃<span style=\"font-weight: bold\">       Param # </span>┃\n",
       "┡━━━━━━━━━━━━━━━━━━━━━━━━━━━━━━━━━╇━━━━━━━━━━━━━━━━━━━━━━━━╇━━━━━━━━━━━━━━━┩\n",
       "│ layer1 (<span style=\"color: #0087ff; text-decoration-color: #0087ff\">Dense</span>)                  │ (<span style=\"color: #00d7ff; text-decoration-color: #00d7ff\">None</span>, <span style=\"color: #00af00; text-decoration-color: #00af00\">300</span>)            │         <span style=\"color: #00af00; text-decoration-color: #00af00\">4,500</span> │\n",
       "├─────────────────────────────────┼────────────────────────┼───────────────┤\n",
       "│ dropout_1 (<span style=\"color: #0087ff; text-decoration-color: #0087ff\">Dropout</span>)             │ (<span style=\"color: #00d7ff; text-decoration-color: #00d7ff\">None</span>, <span style=\"color: #00af00; text-decoration-color: #00af00\">300</span>)            │             <span style=\"color: #00af00; text-decoration-color: #00af00\">0</span> │\n",
       "├─────────────────────────────────┼────────────────────────┼───────────────┤\n",
       "│ layer2 (<span style=\"color: #0087ff; text-decoration-color: #0087ff\">Dense</span>)                  │ (<span style=\"color: #00d7ff; text-decoration-color: #00d7ff\">None</span>, <span style=\"color: #00af00; text-decoration-color: #00af00\">150</span>)            │        <span style=\"color: #00af00; text-decoration-color: #00af00\">45,150</span> │\n",
       "├─────────────────────────────────┼────────────────────────┼───────────────┤\n",
       "│ layer3 (<span style=\"color: #0087ff; text-decoration-color: #0087ff\">Dense</span>)                  │ (<span style=\"color: #00d7ff; text-decoration-color: #00d7ff\">None</span>, <span style=\"color: #00af00; text-decoration-color: #00af00\">70</span>)             │        <span style=\"color: #00af00; text-decoration-color: #00af00\">10,570</span> │\n",
       "├─────────────────────────────────┼────────────────────────┼───────────────┤\n",
       "│ output_l (<span style=\"color: #0087ff; text-decoration-color: #0087ff\">Dense</span>)                │ (<span style=\"color: #00d7ff; text-decoration-color: #00d7ff\">None</span>, <span style=\"color: #00af00; text-decoration-color: #00af00\">1</span>)              │            <span style=\"color: #00af00; text-decoration-color: #00af00\">71</span> │\n",
       "└─────────────────────────────────┴────────────────────────┴───────────────┘\n",
       "</pre>\n"
      ],
      "text/plain": [
       "┏━━━━━━━━━━━━━━━━━━━━━━━━━━━━━━━━━┳━━━━━━━━━━━━━━━━━━━━━━━━┳━━━━━━━━━━━━━━━┓\n",
       "┃\u001b[1m \u001b[0m\u001b[1mLayer (type)                   \u001b[0m\u001b[1m \u001b[0m┃\u001b[1m \u001b[0m\u001b[1mOutput Shape          \u001b[0m\u001b[1m \u001b[0m┃\u001b[1m \u001b[0m\u001b[1m      Param #\u001b[0m\u001b[1m \u001b[0m┃\n",
       "┡━━━━━━━━━━━━━━━━━━━━━━━━━━━━━━━━━╇━━━━━━━━━━━━━━━━━━━━━━━━╇━━━━━━━━━━━━━━━┩\n",
       "│ layer1 (\u001b[38;5;33mDense\u001b[0m)                  │ (\u001b[38;5;45mNone\u001b[0m, \u001b[38;5;34m300\u001b[0m)            │         \u001b[38;5;34m4,500\u001b[0m │\n",
       "├─────────────────────────────────┼────────────────────────┼───────────────┤\n",
       "│ dropout_1 (\u001b[38;5;33mDropout\u001b[0m)             │ (\u001b[38;5;45mNone\u001b[0m, \u001b[38;5;34m300\u001b[0m)            │             \u001b[38;5;34m0\u001b[0m │\n",
       "├─────────────────────────────────┼────────────────────────┼───────────────┤\n",
       "│ layer2 (\u001b[38;5;33mDense\u001b[0m)                  │ (\u001b[38;5;45mNone\u001b[0m, \u001b[38;5;34m150\u001b[0m)            │        \u001b[38;5;34m45,150\u001b[0m │\n",
       "├─────────────────────────────────┼────────────────────────┼───────────────┤\n",
       "│ layer3 (\u001b[38;5;33mDense\u001b[0m)                  │ (\u001b[38;5;45mNone\u001b[0m, \u001b[38;5;34m70\u001b[0m)             │        \u001b[38;5;34m10,570\u001b[0m │\n",
       "├─────────────────────────────────┼────────────────────────┼───────────────┤\n",
       "│ output_l (\u001b[38;5;33mDense\u001b[0m)                │ (\u001b[38;5;45mNone\u001b[0m, \u001b[38;5;34m1\u001b[0m)              │            \u001b[38;5;34m71\u001b[0m │\n",
       "└─────────────────────────────────┴────────────────────────┴───────────────┘\n"
      ]
     },
     "metadata": {},
     "output_type": "display_data"
    },
    {
     "data": {
      "text/html": [
       "<pre style=\"white-space:pre;overflow-x:auto;line-height:normal;font-family:Menlo,'DejaVu Sans Mono',consolas,'Courier New',monospace\"><span style=\"font-weight: bold\"> Total params: </span><span style=\"color: #00af00; text-decoration-color: #00af00\">60,291</span> (235.51 KB)\n",
       "</pre>\n"
      ],
      "text/plain": [
       "\u001b[1m Total params: \u001b[0m\u001b[38;5;34m60,291\u001b[0m (235.51 KB)\n"
      ]
     },
     "metadata": {},
     "output_type": "display_data"
    },
    {
     "data": {
      "text/html": [
       "<pre style=\"white-space:pre;overflow-x:auto;line-height:normal;font-family:Menlo,'DejaVu Sans Mono',consolas,'Courier New',monospace\"><span style=\"font-weight: bold\"> Trainable params: </span><span style=\"color: #00af00; text-decoration-color: #00af00\">60,291</span> (235.51 KB)\n",
       "</pre>\n"
      ],
      "text/plain": [
       "\u001b[1m Trainable params: \u001b[0m\u001b[38;5;34m60,291\u001b[0m (235.51 KB)\n"
      ]
     },
     "metadata": {},
     "output_type": "display_data"
    },
    {
     "data": {
      "text/html": [
       "<pre style=\"white-space:pre;overflow-x:auto;line-height:normal;font-family:Menlo,'DejaVu Sans Mono',consolas,'Courier New',monospace\"><span style=\"font-weight: bold\"> Non-trainable params: </span><span style=\"color: #00af00; text-decoration-color: #00af00\">0</span> (0.00 B)\n",
       "</pre>\n"
      ],
      "text/plain": [
       "\u001b[1m Non-trainable params: \u001b[0m\u001b[38;5;34m0\u001b[0m (0.00 B)\n"
      ]
     },
     "metadata": {},
     "output_type": "display_data"
    }
   ],
   "source": [
    "titanic_model = keras.Sequential(\n",
    "    [\n",
    "        layers.Input(shape=(X.shape[1],)),\n",
    "        layers.Dense(300, activation=\"relu\", name=\"layer1\"),\n",
    "        layers.Dropout(0.2),\n",
    "        layers.Dense(150, activation=\"relu\", name=\"layer2\"),\n",
    "        layers.Dense(70, activation=\"relu\", name=\"layer3\"),\n",
    "        layers.Dense(1,activation=\"sigmoid\", name=\"output_l\"),\n",
    "    ]\n",
    ")\n",
    "titanic_model.summary()\n"
   ]
  },
  {
   "cell_type": "code",
   "execution_count": 66,
   "id": "b85190e3-deb0-4d92-b80c-14519f817729",
   "metadata": {},
   "outputs": [],
   "source": [
    "titanic_model.compile(loss='binary_crossentropy', optimizer='adam', metrics=['accuracy'])"
   ]
  },
  {
   "cell_type": "code",
   "execution_count": 67,
   "id": "a245a861-0b05-4882-b1bb-8ee2d2baaba8",
   "metadata": {
    "scrolled": true
   },
   "outputs": [
    {
     "name": "stdout",
     "output_type": "stream",
     "text": [
      "Epoch 1/50\n",
      "\u001b[1m6/6\u001b[0m \u001b[32m━━━━━━━━━━━━━━━━━━━━\u001b[0m\u001b[37m\u001b[0m \u001b[1m1s\u001b[0m 25ms/step - accuracy: 0.6004 - loss: 0.6618 - val_accuracy: 0.5946 - val_loss: 0.6893\n",
      "Epoch 2/50\n",
      "\u001b[1m6/6\u001b[0m \u001b[32m━━━━━━━━━━━━━━━━━━━━\u001b[0m\u001b[37m\u001b[0m \u001b[1m0s\u001b[0m 8ms/step - accuracy: 0.6229 - loss: 0.6868 - val_accuracy: 0.5946 - val_loss: 0.6851\n",
      "Epoch 3/50\n",
      "\u001b[1m6/6\u001b[0m \u001b[32m━━━━━━━━━━━━━━━━━━━━\u001b[0m\u001b[37m\u001b[0m \u001b[1m0s\u001b[0m 8ms/step - accuracy: 0.6291 - loss: 0.6808 - val_accuracy: 0.5946 - val_loss: 0.6816\n",
      "Epoch 4/50\n",
      "\u001b[1m6/6\u001b[0m \u001b[32m━━━━━━━━━━━━━━━━━━━━\u001b[0m\u001b[37m\u001b[0m \u001b[1m0s\u001b[0m 8ms/step - accuracy: 0.6196 - loss: 0.6768 - val_accuracy: 0.5946 - val_loss: 0.6785\n",
      "Epoch 5/50\n",
      "\u001b[1m6/6\u001b[0m \u001b[32m━━━━━━━━━━━━━━━━━━━━\u001b[0m\u001b[37m\u001b[0m \u001b[1m0s\u001b[0m 8ms/step - accuracy: 0.6102 - loss: 0.6742 - val_accuracy: 0.5946 - val_loss: 0.6763\n",
      "Epoch 6/50\n",
      "\u001b[1m6/6\u001b[0m \u001b[32m━━━━━━━━━━━━━━━━━━━━\u001b[0m\u001b[37m\u001b[0m \u001b[1m0s\u001b[0m 7ms/step - accuracy: 0.6222 - loss: 0.6676 - val_accuracy: 0.5946 - val_loss: 0.6752\n",
      "Epoch 7/50\n",
      "\u001b[1m6/6\u001b[0m \u001b[32m━━━━━━━━━━━━━━━━━━━━\u001b[0m\u001b[37m\u001b[0m \u001b[1m0s\u001b[0m 8ms/step - accuracy: 0.6180 - loss: 0.6664 - val_accuracy: 0.5946 - val_loss: 0.6754\n",
      "Epoch 8/50\n",
      "\u001b[1m6/6\u001b[0m \u001b[32m━━━━━━━━━━━━━━━━━━━━\u001b[0m\u001b[37m\u001b[0m \u001b[1m0s\u001b[0m 8ms/step - accuracy: 0.6233 - loss: 0.6630 - val_accuracy: 0.5946 - val_loss: 0.6762\n",
      "Epoch 9/50\n",
      "\u001b[1m6/6\u001b[0m \u001b[32m━━━━━━━━━━━━━━━━━━━━\u001b[0m\u001b[37m\u001b[0m \u001b[1m0s\u001b[0m 8ms/step - accuracy: 0.6233 - loss: 0.6625 - val_accuracy: 0.5946 - val_loss: 0.6766\n",
      "Epoch 10/50\n",
      "\u001b[1m6/6\u001b[0m \u001b[32m━━━━━━━━━━━━━━━━━━━━\u001b[0m\u001b[37m\u001b[0m \u001b[1m0s\u001b[0m 7ms/step - accuracy: 0.6199 - loss: 0.6642 - val_accuracy: 0.5946 - val_loss: 0.6771\n",
      "Epoch 11/50\n",
      "\u001b[1m6/6\u001b[0m \u001b[32m━━━━━━━━━━━━━━━━━━━━\u001b[0m\u001b[37m\u001b[0m \u001b[1m0s\u001b[0m 7ms/step - accuracy: 0.6254 - loss: 0.6614 - val_accuracy: 0.5946 - val_loss: 0.6776\n",
      "Epoch 12/50\n",
      "\u001b[1m6/6\u001b[0m \u001b[32m━━━━━━━━━━━━━━━━━━━━\u001b[0m\u001b[37m\u001b[0m \u001b[1m0s\u001b[0m 8ms/step - accuracy: 0.6246 - loss: 0.6618 - val_accuracy: 0.5946 - val_loss: 0.6774\n",
      "Epoch 13/50\n",
      "\u001b[1m6/6\u001b[0m \u001b[32m━━━━━━━━━━━━━━━━━━━━\u001b[0m\u001b[37m\u001b[0m \u001b[1m0s\u001b[0m 7ms/step - accuracy: 0.6298 - loss: 0.6590 - val_accuracy: 0.5946 - val_loss: 0.6769\n",
      "Epoch 14/50\n",
      "\u001b[1m6/6\u001b[0m \u001b[32m━━━━━━━━━━━━━━━━━━━━\u001b[0m\u001b[37m\u001b[0m \u001b[1m0s\u001b[0m 12ms/step - accuracy: 0.6178 - loss: 0.6652 - val_accuracy: 0.5946 - val_loss: 0.6766\n",
      "Epoch 15/50\n",
      "\u001b[1m6/6\u001b[0m \u001b[32m━━━━━━━━━━━━━━━━━━━━\u001b[0m\u001b[37m\u001b[0m \u001b[1m0s\u001b[0m 7ms/step - accuracy: 0.6139 - loss: 0.6671 - val_accuracy: 0.5946 - val_loss: 0.6768\n",
      "Epoch 16/50\n",
      "\u001b[1m6/6\u001b[0m \u001b[32m━━━━━━━━━━━━━━━━━━━━\u001b[0m\u001b[37m\u001b[0m \u001b[1m0s\u001b[0m 7ms/step - accuracy: 0.6120 - loss: 0.6681 - val_accuracy: 0.5946 - val_loss: 0.6770\n",
      "Epoch 17/50\n",
      "\u001b[1m6/6\u001b[0m \u001b[32m━━━━━━━━━━━━━━━━━━━━\u001b[0m\u001b[37m\u001b[0m \u001b[1m0s\u001b[0m 7ms/step - accuracy: 0.6231 - loss: 0.6626 - val_accuracy: 0.5946 - val_loss: 0.6770\n",
      "Epoch 18/50\n",
      "\u001b[1m6/6\u001b[0m \u001b[32m━━━━━━━━━━━━━━━━━━━━\u001b[0m\u001b[37m\u001b[0m \u001b[1m0s\u001b[0m 7ms/step - accuracy: 0.6201 - loss: 0.6641 - val_accuracy: 0.5946 - val_loss: 0.6769\n",
      "Epoch 19/50\n",
      "\u001b[1m6/6\u001b[0m \u001b[32m━━━━━━━━━━━━━━━━━━━━\u001b[0m\u001b[37m\u001b[0m \u001b[1m0s\u001b[0m 7ms/step - accuracy: 0.6319 - loss: 0.6581 - val_accuracy: 0.5946 - val_loss: 0.6767\n",
      "Epoch 20/50\n",
      "\u001b[1m6/6\u001b[0m \u001b[32m━━━━━━━━━━━━━━━━━━━━\u001b[0m\u001b[37m\u001b[0m \u001b[1m0s\u001b[0m 7ms/step - accuracy: 0.6142 - loss: 0.6670 - val_accuracy: 0.5946 - val_loss: 0.6761\n",
      "Epoch 21/50\n",
      "\u001b[1m6/6\u001b[0m \u001b[32m━━━━━━━━━━━━━━━━━━━━\u001b[0m\u001b[37m\u001b[0m \u001b[1m0s\u001b[0m 7ms/step - accuracy: 0.6174 - loss: 0.6654 - val_accuracy: 0.5946 - val_loss: 0.6762\n",
      "Epoch 22/50\n",
      "\u001b[1m6/6\u001b[0m \u001b[32m━━━━━━━━━━━━━━━━━━━━\u001b[0m\u001b[37m\u001b[0m \u001b[1m0s\u001b[0m 7ms/step - accuracy: 0.6148 - loss: 0.6666 - val_accuracy: 0.5946 - val_loss: 0.6762\n",
      "Epoch 23/50\n",
      "\u001b[1m6/6\u001b[0m \u001b[32m━━━━━━━━━━━━━━━━━━━━\u001b[0m\u001b[37m\u001b[0m \u001b[1m0s\u001b[0m 8ms/step - accuracy: 0.6252 - loss: 0.6616 - val_accuracy: 0.5946 - val_loss: 0.6761\n",
      "Epoch 24/50\n",
      "\u001b[1m6/6\u001b[0m \u001b[32m━━━━━━━━━━━━━━━━━━━━\u001b[0m\u001b[37m\u001b[0m \u001b[1m0s\u001b[0m 7ms/step - accuracy: 0.6220 - loss: 0.6632 - val_accuracy: 0.5946 - val_loss: 0.6762\n",
      "Epoch 25/50\n",
      "\u001b[1m6/6\u001b[0m \u001b[32m━━━━━━━━━━━━━━━━━━━━\u001b[0m\u001b[37m\u001b[0m \u001b[1m0s\u001b[0m 8ms/step - accuracy: 0.6247 - loss: 0.6618 - val_accuracy: 0.5946 - val_loss: 0.6765\n",
      "Epoch 26/50\n",
      "\u001b[1m6/6\u001b[0m \u001b[32m━━━━━━━━━━━━━━━━━━━━\u001b[0m\u001b[37m\u001b[0m \u001b[1m0s\u001b[0m 7ms/step - accuracy: 0.6168 - loss: 0.6656 - val_accuracy: 0.5946 - val_loss: 0.6769\n",
      "Epoch 27/50\n",
      "\u001b[1m6/6\u001b[0m \u001b[32m━━━━━━━━━━━━━━━━━━━━\u001b[0m\u001b[37m\u001b[0m \u001b[1m0s\u001b[0m 8ms/step - accuracy: 0.6075 - loss: 0.6704 - val_accuracy: 0.5946 - val_loss: 0.6770\n",
      "Epoch 28/50\n",
      "\u001b[1m6/6\u001b[0m \u001b[32m━━━━━━━━━━━━━━━━━━━━\u001b[0m\u001b[37m\u001b[0m \u001b[1m0s\u001b[0m 7ms/step - accuracy: 0.6312 - loss: 0.6585 - val_accuracy: 0.5946 - val_loss: 0.6775\n",
      "Epoch 29/50\n",
      "\u001b[1m6/6\u001b[0m \u001b[32m━━━━━━━━━━━━━━━━━━━━\u001b[0m\u001b[37m\u001b[0m \u001b[1m0s\u001b[0m 7ms/step - accuracy: 0.6092 - loss: 0.6699 - val_accuracy: 0.5946 - val_loss: 0.6767\n",
      "Epoch 30/50\n",
      "\u001b[1m6/6\u001b[0m \u001b[32m━━━━━━━━━━━━━━━━━━━━\u001b[0m\u001b[37m\u001b[0m \u001b[1m0s\u001b[0m 7ms/step - accuracy: 0.6071 - loss: 0.6705 - val_accuracy: 0.5946 - val_loss: 0.6767\n",
      "Epoch 31/50\n",
      "\u001b[1m6/6\u001b[0m \u001b[32m━━━━━━━━━━━━━━━━━━━━\u001b[0m\u001b[37m\u001b[0m \u001b[1m0s\u001b[0m 7ms/step - accuracy: 0.6153 - loss: 0.6664 - val_accuracy: 0.5946 - val_loss: 0.6768\n",
      "Epoch 32/50\n",
      "\u001b[1m6/6\u001b[0m \u001b[32m━━━━━━━━━━━━━━━━━━━━\u001b[0m\u001b[37m\u001b[0m \u001b[1m0s\u001b[0m 7ms/step - accuracy: 0.6420 - loss: 0.6532 - val_accuracy: 0.5946 - val_loss: 0.6771\n",
      "Epoch 33/50\n",
      "\u001b[1m6/6\u001b[0m \u001b[32m━━━━━━━━━━━━━━━━━━━━\u001b[0m\u001b[37m\u001b[0m \u001b[1m0s\u001b[0m 7ms/step - accuracy: 0.6293 - loss: 0.6593 - val_accuracy: 0.5946 - val_loss: 0.6766\n",
      "Epoch 34/50\n",
      "\u001b[1m6/6\u001b[0m \u001b[32m━━━━━━━━━━━━━━━━━━━━\u001b[0m\u001b[37m\u001b[0m \u001b[1m0s\u001b[0m 7ms/step - accuracy: 0.6111 - loss: 0.6685 - val_accuracy: 0.5946 - val_loss: 0.6757\n",
      "Epoch 35/50\n",
      "\u001b[1m6/6\u001b[0m \u001b[32m━━━━━━━━━━━━━━━━━━━━\u001b[0m\u001b[37m\u001b[0m \u001b[1m0s\u001b[0m 7ms/step - accuracy: 0.6172 - loss: 0.6655 - val_accuracy: 0.5946 - val_loss: 0.6756\n",
      "Epoch 36/50\n",
      "\u001b[1m6/6\u001b[0m \u001b[32m━━━━━━━━━━━━━━━━━━━━\u001b[0m\u001b[37m\u001b[0m \u001b[1m0s\u001b[0m 7ms/step - accuracy: 0.6176 - loss: 0.6653 - val_accuracy: 0.5946 - val_loss: 0.6760\n",
      "Epoch 37/50\n",
      "\u001b[1m6/6\u001b[0m \u001b[32m━━━━━━━━━━━━━━━━━━━━\u001b[0m\u001b[37m\u001b[0m \u001b[1m0s\u001b[0m 7ms/step - accuracy: 0.6243 - loss: 0.6621 - val_accuracy: 0.5946 - val_loss: 0.6762\n",
      "Epoch 38/50\n",
      "\u001b[1m6/6\u001b[0m \u001b[32m━━━━━━━━━━━━━━━━━━━━\u001b[0m\u001b[37m\u001b[0m \u001b[1m0s\u001b[0m 7ms/step - accuracy: 0.6150 - loss: 0.6665 - val_accuracy: 0.5946 - val_loss: 0.6763\n",
      "Epoch 39/50\n",
      "\u001b[1m6/6\u001b[0m \u001b[32m━━━━━━━━━━━━━━━━━━━━\u001b[0m\u001b[37m\u001b[0m \u001b[1m0s\u001b[0m 7ms/step - accuracy: 0.6269 - loss: 0.6608 - val_accuracy: 0.5946 - val_loss: 0.6765\n",
      "Epoch 40/50\n",
      "\u001b[1m6/6\u001b[0m \u001b[32m━━━━━━━━━━━━━━━━━━━━\u001b[0m\u001b[37m\u001b[0m \u001b[1m0s\u001b[0m 8ms/step - accuracy: 0.6136 - loss: 0.6672 - val_accuracy: 0.5946 - val_loss: 0.6763\n",
      "Epoch 41/50\n",
      "\u001b[1m6/6\u001b[0m \u001b[32m━━━━━━━━━━━━━━━━━━━━\u001b[0m\u001b[37m\u001b[0m \u001b[1m0s\u001b[0m 7ms/step - accuracy: 0.6078 - loss: 0.6700 - val_accuracy: 0.5946 - val_loss: 0.6762\n",
      "Epoch 42/50\n",
      "\u001b[1m6/6\u001b[0m \u001b[32m━━━━━━━━━━━━━━━━━━━━\u001b[0m\u001b[37m\u001b[0m \u001b[1m0s\u001b[0m 7ms/step - accuracy: 0.6356 - loss: 0.6567 - val_accuracy: 0.5946 - val_loss: 0.6763\n",
      "Epoch 43/50\n",
      "\u001b[1m6/6\u001b[0m \u001b[32m━━━━━━━━━━━━━━━━━━━━\u001b[0m\u001b[37m\u001b[0m \u001b[1m0s\u001b[0m 7ms/step - accuracy: 0.6131 - loss: 0.6674 - val_accuracy: 0.5946 - val_loss: 0.6759\n",
      "Epoch 44/50\n",
      "\u001b[1m6/6\u001b[0m \u001b[32m━━━━━━━━━━━━━━━━━━━━\u001b[0m\u001b[37m\u001b[0m \u001b[1m0s\u001b[0m 11ms/step - accuracy: 0.6200 - loss: 0.6641 - val_accuracy: 0.5946 - val_loss: 0.6761\n",
      "Epoch 45/50\n",
      "\u001b[1m6/6\u001b[0m \u001b[32m━━━━━━━━━━━━━━━━━━━━\u001b[0m\u001b[37m\u001b[0m \u001b[1m0s\u001b[0m 7ms/step - accuracy: 0.6195 - loss: 0.6644 - val_accuracy: 0.5946 - val_loss: 0.6765\n",
      "Epoch 46/50\n",
      "\u001b[1m6/6\u001b[0m \u001b[32m━━━━━━━━━━━━━━━━━━━━\u001b[0m\u001b[37m\u001b[0m \u001b[1m0s\u001b[0m 8ms/step - accuracy: 0.6179 - loss: 0.6651 - val_accuracy: 0.5946 - val_loss: 0.6765\n",
      "Epoch 47/50\n",
      "\u001b[1m6/6\u001b[0m \u001b[32m━━━━━━━━━━━━━━━━━━━━\u001b[0m\u001b[37m\u001b[0m \u001b[1m0s\u001b[0m 8ms/step - accuracy: 0.6242 - loss: 0.6620 - val_accuracy: 0.5946 - val_loss: 0.6767\n",
      "Epoch 48/50\n",
      "\u001b[1m6/6\u001b[0m \u001b[32m━━━━━━━━━━━━━━━━━━━━\u001b[0m\u001b[37m\u001b[0m \u001b[1m0s\u001b[0m 8ms/step - accuracy: 0.6138 - loss: 0.6672 - val_accuracy: 0.5946 - val_loss: 0.6764\n",
      "Epoch 49/50\n",
      "\u001b[1m6/6\u001b[0m \u001b[32m━━━━━━━━━━━━━━━━━━━━\u001b[0m\u001b[37m\u001b[0m \u001b[1m0s\u001b[0m 7ms/step - accuracy: 0.6244 - loss: 0.6619 - val_accuracy: 0.5946 - val_loss: 0.6763\n",
      "Epoch 50/50\n",
      "\u001b[1m6/6\u001b[0m \u001b[32m━━━━━━━━━━━━━━━━━━━━\u001b[0m\u001b[37m\u001b[0m \u001b[1m0s\u001b[0m 8ms/step - accuracy: 0.6123 - loss: 0.6678 - val_accuracy: 0.5946 - val_loss: 0.6764\n"
     ]
    }
   ],
   "source": [
    "\n",
    "history = titanic_model.fit(X_train, y_train, \n",
    "                    validation_data=(X_val, y_val), \n",
    "                    batch_size=200, \n",
    "                    epochs=50)"
   ]
  },
  {
   "cell_type": "markdown",
   "id": "1c129c06-9543-44fa-a7fe-ac6587924669",
   "metadata": {},
   "source": [
    "# Values are way below the good results.. I think that I have done some bad preprocassing, thus the outcome of NN is not good"
   ]
  },
  {
   "cell_type": "code",
   "execution_count": null,
   "id": "b42cc032-8b00-457d-b84b-43437b432cf9",
   "metadata": {},
   "outputs": [],
   "source": []
  },
  {
   "cell_type": "code",
   "execution_count": null,
   "id": "2e09d5af-189a-4ced-9626-9f09a99105d3",
   "metadata": {},
   "outputs": [],
   "source": []
  }
 ],
 "metadata": {
  "kernelspec": {
   "display_name": "Python 3 (ipykernel)",
   "language": "python",
   "name": "python3"
  },
  "language_info": {
   "codemirror_mode": {
    "name": "ipython",
    "version": 3
   },
   "file_extension": ".py",
   "mimetype": "text/x-python",
   "name": "python",
   "nbconvert_exporter": "python",
   "pygments_lexer": "ipython3",
   "version": "3.10.12"
  }
 },
 "nbformat": 4,
 "nbformat_minor": 5
}
