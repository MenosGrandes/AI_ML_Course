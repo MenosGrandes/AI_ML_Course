{
 "cells": [
  {
   "cell_type": "markdown",
   "id": "c68d14ff-e132-46f9-850e-f0e3875ada55",
   "metadata": {},
   "source": [
    "\n",
    "Improve the performance of the model using one (or both) of the proposed techniques:\n",
    "\n",
    "1) Hyperparameter tuning\n",
    "\n",
    "Use one of the keras tuner hyperparameter search methods in order to improve the performance of the network. Implement it in such a way, that also the number of layers of the network (the architecture) is a hyperparameter.\n",
    "\n",
    "Things to consider are:\n",
    "- To add additional set of Conv2D/MaxPooling/Dropout layers with more neurons\n",
    "- To use twin Conv2D layers of the same number of neurons:\n",
    "```\n",
    "Conv2D\n",
    "Conv2D\n",
    "MaxPooling\n",
    "Dropout\n",
    "```\n",
    "- To experiment with different optimizers\n",
    "\n",
    "This link will be usefull: https://keras.io/guides/keras_tuner/getting_started/\n",
    "And this: https://medium.com/swlh/hyperparameter-tuning-in-keras-tensorflow-2-with-keras-tuner-randomsearch-hyperband-3e212647778f\n",
    "\n",
    "2) Data augumentation\n",
    "\n",
    "Further reading on data augmentation:\n",
    "https://www.datacamp.com/tutorial/complete-guide-data-augmentation\n",
    "\n",
    "Provide a link to your colab notebook by mail (grega@agh.edu.pl) by 16th May 2023. Please provide your name in your notebook file name.\n",
    "\n",
    "Competition: The highest accuracy on test set wins!\n",
    "\n",
    "This homework is compulsory."
   ]
  },
  {
   "cell_type": "code",
   "execution_count": null,
   "id": "5e509fab-479e-4dd5-b687-03cd61cd3798",
   "metadata": {},
   "outputs": [],
   "source": []
  },
  {
   "cell_type": "code",
   "execution_count": 1,
   "id": "8cbcdafe-9cef-4ca6-8685-b3df958e974d",
   "metadata": {
    "editable": true,
    "scrolled": true,
    "slideshow": {
     "slide_type": ""
    },
    "tags": []
   },
   "outputs": [
    {
     "name": "stderr",
     "output_type": "stream",
     "text": [
      "2024-05-20 16:56:37.659805: E external/local_xla/xla/stream_executor/cuda/cuda_dnn.cc:9261] Unable to register cuDNN factory: Attempting to register factory for plugin cuDNN when one has already been registered\n",
      "2024-05-20 16:56:37.659832: E external/local_xla/xla/stream_executor/cuda/cuda_fft.cc:607] Unable to register cuFFT factory: Attempting to register factory for plugin cuFFT when one has already been registered\n",
      "2024-05-20 16:56:37.660331: E external/local_xla/xla/stream_executor/cuda/cuda_blas.cc:1515] Unable to register cuBLAS factory: Attempting to register factory for plugin cuBLAS when one has already been registered\n",
      "2024-05-20 16:56:37.664266: I tensorflow/core/platform/cpu_feature_guard.cc:182] This TensorFlow binary is optimized to use available CPU instructions in performance-critical operations.\n",
      "To enable the following instructions: SSE4.1 SSE4.2 AVX AVX2 FMA, in other operations, rebuild TensorFlow with the appropriate compiler flags.\n"
     ]
    }
   ],
   "source": [
    "import platform\n",
    "import sys\n",
    "\n",
    "import keras_tuner as kt\n",
    "import matplotlib.pyplot as plt\n",
    "import numpy as np\n",
    "\n",
    "# define Seaborn color palette to use\n",
    "import pandas as pd\n",
    "import tensorflow as tf\n",
    "from sklearn.metrics import (\n",
    "    ConfusionMatrixDisplay,\n",
    "    classification_report,\n",
    "    confusion_matrix,\n",
    ")\n",
    "from tensorflow import keras\n",
    "\n",
    "# from tensorflow.keras import datasets, layers, models\n",
    "from tensorflow.keras.layers import Conv2D, Dense, Dropout, Flatten, Input, MaxPooling2D\n",
    "from tensorflow.keras.utils import to_categorical"
   ]
  },
  {
   "cell_type": "code",
   "execution_count": 2,
   "id": "7b9413d5-d997-40db-b285-3946a5052475",
   "metadata": {},
   "outputs": [],
   "source": [
    "import logging\n",
    "\n",
    "from rich.logging import RichHandler\n",
    "\n",
    "FORMAT = \"%(message)s\"\n",
    "logging.basicConfig(\n",
    "    level=\"NOTSET\", format=FORMAT, datefmt=\"[%X]\", handlers=[RichHandler()]\n",
    ")\n",
    "\n",
    "logger = logging.getLogger(\"rich\")"
   ]
  },
  {
   "cell_type": "code",
   "execution_count": 3,
   "id": "d03be273-23ae-45b3-9bdb-1cc0c83007db",
   "metadata": {},
   "outputs": [],
   "source": [
    "VERBOSE_LOGGING = True"
   ]
  },
  {
   "cell_type": "code",
   "execution_count": 4,
   "id": "4dad5fa5-ef71-4d17-afb8-419ee11e1654",
   "metadata": {},
   "outputs": [],
   "source": [
    "v = platform.python_version_tuple()\n",
    "if float(v[1]) < 10:\n",
    "    raise Exception(\"MUST USE Python 3.10 to use MATCH expression!\")\n",
    "\n",
    "# warnings.filterwarnings(\"ignore\", \"is_categorical_dtype\")\n",
    "# warnings.filterwarnings(\"ignore\", \"use_inf_as_na\")\n",
    "np.set_printoptions(threshold=sys.maxsize)\n",
    "pd.options.display.max_colwidth = 1000"
   ]
  },
  {
   "cell_type": "markdown",
   "id": "bab772b2-464f-4865-a7cc-5f70ed88b0cb",
   "metadata": {},
   "source": [
    "# LIBRARY CODE Start"
   ]
  },
  {
   "cell_type": "code",
   "execution_count": 5,
   "id": "67816dbc-3457-4491-82c1-d0d218d2788e",
   "metadata": {},
   "outputs": [],
   "source": [
    "from collections import namedtuple\n",
    "from typing import NamedTuple\n",
    "\n",
    "TupleD = namedtuple(\"TupleD\", \"x y\")\n",
    "MLData = namedtuple(\"MLData\", \"train_data valid_data\")\n",
    "\n",
    "\n",
    "# Hyperparameters!\n",
    "class HyperParameters(NamedTuple):\n",
    "    droputs: float\n",
    "    output_layers: int\n",
    "    epochs: int\n",
    "    batch_size: int\n",
    "    input_dim: int\n",
    "    optimizer: str\n",
    "    loss_f: str\n",
    "    output_layer_activation_f: str\n",
    "    validation_split: float"
   ]
  },
  {
   "cell_type": "markdown",
   "id": "05e189ad-5dc7-4a39-a649-ca835bee6626",
   "metadata": {},
   "source": [
    "# LIBRARY CODE End"
   ]
  },
  {
   "cell_type": "code",
   "execution_count": 6,
   "id": "5bde429f-9144-454c-a49a-90c0d8ac46f1",
   "metadata": {},
   "outputs": [],
   "source": [
    "class_names = [\n",
    "    \"airplane\",\n",
    "    \"automobile\",\n",
    "    \"bird\",\n",
    "    \"cat\",\n",
    "    \"deer\",\n",
    "    \"dog\",\n",
    "    \"frog\",\n",
    "    \"horse\",\n",
    "    \"ship\",\n",
    "    \"truck\",\n",
    "]\n",
    "num_classes = len(class_names)\n",
    "\n",
    "# https://www.tensorflow.org/datasets/catalog/cifar10\n",
    "\n",
    "(X_train, y_train), (X_test, y_test) = tf.keras.datasets.cifar10.load_data()\n",
    "X_train, X_test = X_train / 255.0, X_test / 255.0\n",
    "y_train = to_categorical(y_train, num_classes)\n",
    "y_test = to_categorical(y_test, num_classes)\n",
    "\n",
    "_one_train_data = TupleD(X_train, y_train)\n",
    "_one_valid_data = TupleD(X_test, y_test)\n",
    "one_mld_data = MLData(_one_train_data, _one_valid_data)"
   ]
  },
  {
   "cell_type": "code",
   "execution_count": 7,
   "id": "73697105-bbad-40ab-9c53-6a80ee5eba54",
   "metadata": {},
   "outputs": [],
   "source": [
    "def build_base_model(hyperparams, name, hp):\n",
    "    model = keras.Sequential()\n",
    "    model.add(Input((hyperparams.input_dim)))\n",
    "\n",
    "    _l_count = hp.Int(\"layer_count\", min_value=2, max_value=5)\n",
    "    # Init!\n",
    "    for i, x in enumerate(range(_l_count)):\n",
    "        _filters = hp.Int(f\"filters_{i} \", min_value=32, max_value=224, step=32)\n",
    "        model.add(Conv2D(_filters, (3, 3), activation=\"relu\", padding=\"same\"))\n",
    "        model.add(MaxPooling2D(2, 2))\n",
    "        model.add(Dropout(hyperparams.droputs))\n",
    "\n",
    "    model.add(Flatten())\n",
    "    last_dense_i = hp.Int(\"last_dense_i\", min_value=32, max_value=224, step=32)\n",
    "\n",
    "    model.add(Dense(last_dense_i, activation=\"relu\"))\n",
    "    model.add(Dropout(hyperparams.droputs))\n",
    "    model.add(\n",
    "        Dense(\n",
    "            hyperparams.output_layers, activation=hyperparams.output_layer_activation_f\n",
    "        )\n",
    "    )\n",
    "    lr_min, lr_max = 1e-4, 1e-1\n",
    "    lr = hp.Float(\n",
    "        \"learning_rate\",\n",
    "        min_value=lr_min,\n",
    "        max_value=lr_max,\n",
    "    )\n",
    "    optimizer_ss = [\n",
    "        \"adam\",\n",
    "        \"SGD\",\n",
    "        \"adamw\",\n",
    "        \"adadelta\",\n",
    "        \"adagrad\",\n",
    "        \"adamax\",\n",
    "        \"adafactor\",\n",
    "        \"nadam\",\n",
    "        \"lion\",\n",
    "    ]\n",
    "\n",
    "    optimizer = hp.Choice(\"optimizer\", optimizer_ss)\n",
    "    if optimizer == \"adam\":\n",
    "        optimizer = tf.keras.optimizers.Adam(learning_rate=lr)\n",
    "    elif optimizer == \"SGD\":\n",
    "        optimizer = tf.keras.optimizers.SGD(learning_rate=lr)\n",
    "    elif optimizer == \"adamw\":\n",
    "        optimizer = tf.keras.optimizers.Adamw(learning_rate=lr)\n",
    "    elif optimizer == \"adadelta\":\n",
    "        optimizer = tf.keras.optimizers.Adadelta(learning_rate=lr)\n",
    "    elif optimizer == \"adagrad\":\n",
    "        optimizer = tf.keras.optimizers.Adagrad(learning_rate=lr)\n",
    "    elif optimizer == \"adamax\":\n",
    "        optimizer = tf.keras.optimizers.Adamax(learning_rate=lr)\n",
    "    elif optimizer == \"adafactor\":\n",
    "        optimizer = tf.keras.optimizers.Adafactor(learning_rate=lr)\n",
    "    elif optimizer == \"nadam\":\n",
    "        optimizer = tf.keras.optimizers.Nadam(learning_rate=lr)\n",
    "    elif optimizer == \"lion\":\n",
    "        optimizer = tf.keras.optimizers.Lion(learning_rate=lr)\n",
    "    else:\n",
    "        logger.error(f\"NOT FOUND OPTIMIZER! {optimizer}\")\n",
    "\n",
    "    model.compile(optimizer=optimizer, loss=hyperparams.loss_f, metrics=[\"accuracy\"])\n",
    "    return model"
   ]
  },
  {
   "cell_type": "code",
   "execution_count": 8,
   "id": "23380170-124d-4655-80dd-002d7f9e4548",
   "metadata": {},
   "outputs": [],
   "source": [
    "hyperparams_one = HyperParameters(\n",
    "    droputs=0.2,  # From RandomSearch previous\n",
    "    output_layers=10,\n",
    "    epochs=20,\n",
    "    batch_size=32,\n",
    "    input_dim=(32, 32, 3),\n",
    "    optimizer=\"adam\",\n",
    "    loss_f=\"categorical_crossentropy\",\n",
    "    output_layer_activation_f=\"softmax\",  # From RandomSearch previous\n",
    "    validation_split=0.2,\n",
    ")\n",
    "model_name = \"BaseModel\""
   ]
  },
  {
   "cell_type": "code",
   "execution_count": 9,
   "id": "7d0f41d5-3105-4c97-aa9f-fdecdb407256",
   "metadata": {},
   "outputs": [],
   "source": [
    "def build_model_wrapper(hp):\n",
    "    return build_base_model(hyperparams_one, model_name, hp)"
   ]
  },
  {
   "cell_type": "code",
   "execution_count": 10,
   "id": "289584e3-2da0-4500-a2a8-9f43e94ed207",
   "metadata": {},
   "outputs": [
    {
     "name": "stdout",
     "output_type": "stream",
     "text": [
      "Trial 10 Complete [00h 03m 13s]\n",
      "val_accuracy: 0.10249999910593033\n",
      "\n",
      "Best val_accuracy So Far: 0.7777000069618225\n",
      "Total elapsed time: 00h 21m 13s\n"
     ]
    }
   ],
   "source": [
    "tuner = kt.RandomSearch(\n",
    "    build_model_wrapper,\n",
    "    objective=\"val_accuracy\",\n",
    "    directory=\"keras_tuner\",\n",
    "    project_name=\"ex_9\",\n",
    "    overwrite=True,\n",
    "    executions_per_trial=1,\n",
    "    seed=42,\n",
    "    max_trials=10,\n",
    ")\n",
    "\n",
    "tensorboard_logs = keras.callbacks.TensorBoard(\"/tmp/tb_logs_random\")\n",
    "stop_early = tf.keras.callbacks.EarlyStopping(monitor=\"val_loss\", patience=5)\n",
    "tuner.search(\n",
    "    one_mld_data.train_data.x,\n",
    "    one_mld_data.train_data.y,\n",
    "    epochs=hyperparams_one.epochs,\n",
    "    validation_split=hyperparams_one.validation_split,\n",
    "    batch_size=hyperparams_one.batch_size,\n",
    "    callbacks=[stop_early, tensorboard_logs],\n",
    ")"
   ]
  },
  {
   "cell_type": "code",
   "execution_count": 11,
   "id": "ac741f3e-5188-4150-b25a-6ea2a4a9cdbc",
   "metadata": {},
   "outputs": [
    {
     "name": "stdout",
     "output_type": "stream",
     "text": [
      "Epoch 1/20\n"
     ]
    },
    {
     "name": "stderr",
     "output_type": "stream",
     "text": [
      "2024-05-20 17:17:55.269194: E tensorflow/core/grappler/optimizers/meta_optimizer.cc:961] layout failed: INVALID_ARGUMENT: Size of values 0 does not match size of permutation 4 @ fanin shape insequential_1/dropout_5/dropout/SelectV2-2-TransposeNHWCToNCHW-LayoutOptimizer\n"
     ]
    },
    {
     "name": "stdout",
     "output_type": "stream",
     "text": [
      "1563/1563 [==============================] - 17s 10ms/step - loss: 1.9795 - accuracy: 0.2522\n",
      "Epoch 2/20\n",
      "1563/1563 [==============================] - 16s 10ms/step - loss: 1.6051 - accuracy: 0.4070\n",
      "Epoch 3/20\n",
      "1563/1563 [==============================] - 16s 10ms/step - loss: 1.3887 - accuracy: 0.4957\n",
      "Epoch 4/20\n",
      "1563/1563 [==============================] - 16s 10ms/step - loss: 1.2227 - accuracy: 0.5623\n",
      "Epoch 5/20\n",
      "1563/1563 [==============================] - 15s 10ms/step - loss: 1.0974 - accuracy: 0.6172\n",
      "Epoch 6/20\n",
      "1563/1563 [==============================] - 16s 11ms/step - loss: 1.0004 - accuracy: 0.6522\n",
      "Epoch 7/20\n",
      "1563/1563 [==============================] - 16s 10ms/step - loss: 0.9245 - accuracy: 0.6801\n",
      "Epoch 8/20\n",
      "1563/1563 [==============================] - 16s 10ms/step - loss: 0.8629 - accuracy: 0.7003\n",
      "Epoch 9/20\n",
      "1563/1563 [==============================] - 16s 10ms/step - loss: 0.8113 - accuracy: 0.7220\n",
      "Epoch 10/20\n",
      "1563/1563 [==============================] - 15s 10ms/step - loss: 0.7666 - accuracy: 0.7393\n",
      "Epoch 11/20\n",
      "1563/1563 [==============================] - 15s 9ms/step - loss: 0.7281 - accuracy: 0.7511\n",
      "Epoch 12/20\n",
      "1563/1563 [==============================] - 15s 9ms/step - loss: 0.6972 - accuracy: 0.7636\n",
      "Epoch 13/20\n",
      "1563/1563 [==============================] - 15s 9ms/step - loss: 0.6657 - accuracy: 0.7767\n",
      "Epoch 14/20\n",
      "1563/1563 [==============================] - 14s 9ms/step - loss: 0.6377 - accuracy: 0.7835\n",
      "Epoch 15/20\n",
      "1563/1563 [==============================] - 15s 10ms/step - loss: 0.6096 - accuracy: 0.7916\n",
      "Epoch 16/20\n",
      "1563/1563 [==============================] - 16s 10ms/step - loss: 0.5841 - accuracy: 0.8051\n",
      "Epoch 17/20\n",
      "1563/1563 [==============================] - 16s 10ms/step - loss: 0.5626 - accuracy: 0.8105\n",
      "Epoch 18/20\n",
      "1563/1563 [==============================] - 16s 10ms/step - loss: 0.5486 - accuracy: 0.8145\n",
      "Epoch 19/20\n",
      "1563/1563 [==============================] - 15s 10ms/step - loss: 0.5278 - accuracy: 0.8238\n",
      "Epoch 20/20\n",
      "1563/1563 [==============================] - 15s 9ms/step - loss: 0.5114 - accuracy: 0.8264\n",
      "313/313 - 1s - loss: 0.6174 - accuracy: 0.7944 - 1s/epoch - 3ms/step\n",
      "0.7943999767303467\n"
     ]
    }
   ],
   "source": [
    "best_hps = tuner.get_best_hyperparameters(num_trials=1)[0]\n",
    "model = tuner.hypermodel.build(best_hps)\n",
    "history = model.fit(\n",
    "    one_mld_data.train_data.x,\n",
    "    one_mld_data.train_data.y,\n",
    "    epochs=hyperparams_one.epochs,\n",
    "    batch_size=hyperparams_one.batch_size,\n",
    ")\n",
    "test_loss, test_acc = model.evaluate(\n",
    "    one_mld_data.valid_data.x, one_mld_data.valid_data.y, verbose=2\n",
    ")\n",
    "print(test_acc)"
   ]
  },
  {
   "cell_type": "code",
   "execution_count": 12,
   "id": "0a67850b-8b53-4acb-99da-5258e9eb1119",
   "metadata": {},
   "outputs": [
    {
     "name": "stdout",
     "output_type": "stream",
     "text": [
      "Results summary\n",
      "Results in keras_tuner/ex_9\n",
      "Showing 3 best trials\n",
      "Objective(name=\"val_accuracy\", direction=\"max\")\n",
      "\n",
      "Trial 02 summary\n",
      "Hyperparameters:\n",
      "layer_count: 5\n",
      "filters_0 : 32\n",
      "filters_1 : 160\n",
      "last_dense_i: 64\n",
      "learning_rate: 0.03084989479790436\n",
      "optimizer: adagrad\n",
      "filters_2 : 224\n",
      "filters_3 : 128\n",
      "filters_4 : 32\n",
      "Score: 0.7777000069618225\n",
      "\n",
      "Trial 05 summary\n",
      "Hyperparameters:\n",
      "layer_count: 2\n",
      "filters_0 : 128\n",
      "filters_1 : 192\n",
      "last_dense_i: 64\n",
      "learning_rate: 0.07917344100255046\n",
      "optimizer: SGD\n",
      "filters_2 : 96\n",
      "filters_3 : 32\n",
      "filters_4 : 64\n",
      "Score: 0.7271999716758728\n",
      "\n",
      "Trial 06 summary\n",
      "Hyperparameters:\n",
      "layer_count: 2\n",
      "filters_0 : 96\n",
      "filters_1 : 224\n",
      "last_dense_i: 128\n",
      "learning_rate: 0.07604013168314647\n",
      "optimizer: adadelta\n",
      "filters_2 : 64\n",
      "filters_3 : 96\n",
      "filters_4 : 96\n",
      "Score: 0.7166000008583069\n"
     ]
    }
   ],
   "source": [
    "tuner.results_summary(num_trials=3)\n",
    "best_hps = tuner.get_best_hyperparameters(num_trials=1)[0]"
   ]
  },
  {
   "cell_type": "code",
   "execution_count": 13,
   "id": "45a6759e-8967-44ed-9552-698cc0bedcfe",
   "metadata": {},
   "outputs": [
    {
     "name": "stdout",
     "output_type": "stream",
     "text": [
      "Model: \"sequential_1\"\n",
      "_________________________________________________________________\n",
      " Layer (type)                Output Shape              Param #   \n",
      "=================================================================\n",
      " conv2d_4 (Conv2D)           (None, 32, 32, 32)        896       \n",
      "                                                                 \n",
      " max_pooling2d_4 (MaxPoolin  (None, 16, 16, 32)        0         \n",
      " g2D)                                                            \n",
      "                                                                 \n",
      " dropout_5 (Dropout)         (None, 16, 16, 32)        0         \n",
      "                                                                 \n",
      " conv2d_5 (Conv2D)           (None, 16, 16, 160)       46240     \n",
      "                                                                 \n",
      " max_pooling2d_5 (MaxPoolin  (None, 8, 8, 160)         0         \n",
      " g2D)                                                            \n",
      "                                                                 \n",
      " dropout_6 (Dropout)         (None, 8, 8, 160)         0         \n",
      "                                                                 \n",
      " conv2d_6 (Conv2D)           (None, 8, 8, 224)         322784    \n",
      "                                                                 \n",
      " max_pooling2d_6 (MaxPoolin  (None, 4, 4, 224)         0         \n",
      " g2D)                                                            \n",
      "                                                                 \n",
      " dropout_7 (Dropout)         (None, 4, 4, 224)         0         \n",
      "                                                                 \n",
      " conv2d_7 (Conv2D)           (None, 4, 4, 128)         258176    \n",
      "                                                                 \n",
      " max_pooling2d_7 (MaxPoolin  (None, 2, 2, 128)         0         \n",
      " g2D)                                                            \n",
      "                                                                 \n",
      " dropout_8 (Dropout)         (None, 2, 2, 128)         0         \n",
      "                                                                 \n",
      " conv2d_8 (Conv2D)           (None, 2, 2, 32)          36896     \n",
      "                                                                 \n",
      " max_pooling2d_8 (MaxPoolin  (None, 1, 1, 32)          0         \n",
      " g2D)                                                            \n",
      "                                                                 \n",
      " dropout_9 (Dropout)         (None, 1, 1, 32)          0         \n",
      "                                                                 \n",
      " flatten_1 (Flatten)         (None, 32)                0         \n",
      "                                                                 \n",
      " dense_2 (Dense)             (None, 64)                2112      \n",
      "                                                                 \n",
      " dropout_10 (Dropout)        (None, 64)                0         \n",
      "                                                                 \n",
      " dense_3 (Dense)             (None, 10)                650       \n",
      "                                                                 \n",
      "=================================================================\n",
      "Total params: 667754 (2.55 MB)\n",
      "Trainable params: 667754 (2.55 MB)\n",
      "Non-trainable params: 0 (0.00 Byte)\n",
      "_________________________________________________________________\n"
     ]
    }
   ],
   "source": [
    "model.summary()"
   ]
  },
  {
   "cell_type": "code",
   "execution_count": 19,
   "id": "63f982c9-08d7-4b11-a907-185088a749e3",
   "metadata": {},
   "outputs": [
    {
     "data": {
      "text/html": [
       "\n",
       "      <iframe id=\"tensorboard-frame-696c1b33e342eb8d\" width=\"100%\" height=\"800\" frameborder=\"0\">\n",
       "      </iframe>\n",
       "      <script>\n",
       "        (function() {\n",
       "          const frame = document.getElementById(\"tensorboard-frame-696c1b33e342eb8d\");\n",
       "          const url = new URL(\"/\", window.location);\n",
       "          const port = 6009;\n",
       "          if (port) {\n",
       "            url.port = port;\n",
       "          }\n",
       "          frame.src = url;\n",
       "        })();\n",
       "      </script>\n",
       "    "
      ],
      "text/plain": [
       "<IPython.core.display.HTML object>"
      ]
     },
     "metadata": {},
     "output_type": "display_data"
    }
   ],
   "source": [
    "%reload_ext tensorboard\n",
    "%tensorboard --logdir /tmp/tb_logs_random"
   ]
  },
  {
   "cell_type": "code",
   "execution_count": 16,
   "id": "c2d2d7c6-f220-4a2c-8970-621e7600f1cb",
   "metadata": {},
   "outputs": [
    {
     "name": "stdout",
     "output_type": "stream",
     "text": [
      "313/313 [==============================] - 0s 1ms/step\n",
      "Classification report: \n",
      "               precision    recall  f1-score   support\n",
      "\n",
      "           0       0.80      0.83      0.82      1000\n",
      "           1       0.88      0.92      0.90      1000\n",
      "           2       0.73      0.70      0.71      1000\n",
      "           3       0.63      0.60      0.62      1000\n",
      "           4       0.72      0.79      0.76      1000\n",
      "           5       0.78      0.65      0.71      1000\n",
      "           6       0.81      0.89      0.85      1000\n",
      "           7       0.88      0.79      0.84      1000\n",
      "           8       0.82      0.94      0.88      1000\n",
      "           9       0.89      0.84      0.86      1000\n",
      "\n",
      "    accuracy                           0.79     10000\n",
      "   macro avg       0.79      0.79      0.79     10000\n",
      "weighted avg       0.79      0.79      0.79     10000\n",
      "\n"
     ]
    },
    {
     "data": {
      "text/html": [
       "<pre style=\"white-space:pre;overflow-x:auto;line-height:normal;font-family:Menlo,'DejaVu Sans Mono',consolas,'Courier New',monospace\"><span style=\"color: #7fbfbf; text-decoration-color: #7fbfbf\">[18:43:39] </span><span style=\"color: #008000; text-decoration-color: #008000\">DEBUG   </span> locator: <span style=\"font-weight: bold\">&lt;</span><span style=\"color: #ff00ff; text-decoration-color: #ff00ff; font-weight: bold\">matplotlib.ticker.AutoLocator</span><span style=\"color: #000000; text-decoration-color: #000000\"> object at </span><span style=\"color: #008080; text-decoration-color: #008080; font-weight: bold\">0x7f62253b7b90</span><span style=\"font-weight: bold\">&gt;</span>               <a href=\"file:///opt/anaconda3/envs/AI_ML/lib/python3.11/site-packages/matplotlib/colorbar.py\" target=\"_blank\"><span style=\"color: #7f7f7f; text-decoration-color: #7f7f7f\">colorbar.py</span></a><span style=\"color: #7f7f7f; text-decoration-color: #7f7f7f\">:</span><a href=\"file:///opt/anaconda3/envs/AI_ML/lib/python3.11/site-packages/matplotlib/colorbar.py#859\" target=\"_blank\"><span style=\"color: #7f7f7f; text-decoration-color: #7f7f7f\">859</span></a>\n",
       "</pre>\n"
      ],
      "text/plain": [
       "\u001b[2;36m[18:43:39]\u001b[0m\u001b[2;36m \u001b[0m\u001b[32mDEBUG   \u001b[0m locator: \u001b[1m<\u001b[0m\u001b[1;95mmatplotlib.ticker.AutoLocator\u001b[0m\u001b[39m object at \u001b[0m\u001b[1;36m0x7f62253b7b90\u001b[0m\u001b[1m>\u001b[0m               \u001b]8;id=549619;file:///opt/anaconda3/envs/AI_ML/lib/python3.11/site-packages/matplotlib/colorbar.py\u001b\\\u001b[2mcolorbar.py\u001b[0m\u001b]8;;\u001b\\\u001b[2m:\u001b[0m\u001b]8;id=698543;file:///opt/anaconda3/envs/AI_ML/lib/python3.11/site-packages/matplotlib/colorbar.py#859\u001b\\\u001b[2m859\u001b[0m\u001b]8;;\u001b\\\n"
      ]
     },
     "metadata": {},
     "output_type": "display_data"
    },
    {
     "name": "stderr",
     "output_type": "stream",
     "text": [
      "/tmp/ipykernel_2643/3376301965.py:11: UserWarning: FigureCanvasAgg is non-interactive, and thus cannot be shown\n",
      "  fig.show()\n"
     ]
    },
    {
     "data": {
      "image/png": "[encoded data removed]",
      "text/plain": [
       "<Figure size 800x800 with 2 Axes>"
      ]
     },
     "metadata": {},
     "output_type": "display_data"
    }
   ],
   "source": [
    "# classification report and confusion matrix\n",
    "y_test_pred = np.argmax(model.predict(one_mld_data.valid_data.x), axis=1)\n",
    "y_test_decoded = np.argmax(one_mld_data.valid_data.y, axis=1)\n",
    "print(f\"Classification report: \\n {classification_report(y_test_decoded, y_test_pred)}\")\n",
    "\n",
    "cm = confusion_matrix(y_test_decoded, y_test_pred)\n",
    "\n",
    "cmp = ConfusionMatrixDisplay(confusion_matrix=cm, display_labels=list(range(10)))\n",
    "fig, ax = plt.subplots(figsize=(8, 8))\n",
    "cmp.plot(ax=ax)\n",
    "fig.show()"
   ]
  },
  {
   "cell_type": "code",
   "execution_count": null,
   "id": "3eea5672-9238-4987-816f-fb3ae685dbad",
   "metadata": {},
   "outputs": [],
   "source": []
  }
 ],
 "metadata": {
  "kernelspec": {
   "display_name": "Python 3 (ipykernel)",
   "language": "python",
   "name": "python3"
  },
  "language_info": {
   "codemirror_mode": {
    "name": "ipython",
    "version": 3
   },
   "file_extension": ".py",
   "mimetype": "text/x-python",
   "name": "python",
   "nbconvert_exporter": "python",
   "pygments_lexer": "ipython3",
   "version": "3.11.9"
  }
 },
 "nbformat": 4,
 "nbformat_minor": 5
}
